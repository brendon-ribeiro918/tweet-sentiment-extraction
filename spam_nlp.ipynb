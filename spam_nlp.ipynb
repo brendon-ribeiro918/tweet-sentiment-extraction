{
  "nbformat": 4,
  "nbformat_minor": 0,
  "metadata": {
    "colab": {
      "name": "spam_nlp.ipynb",
      "provenance": [],
      "mount_file_id": "14UElU3HYf3aU6-o0BrRg9rUMxjhavYUx",
      "authorship_tag": "ABX9TyPJAoo3q6qlZPJKcjPJhUCj",
      "include_colab_link": true
    },
    "kernelspec": {
      "display_name": "Python 3",
      "name": "python3"
    },
    "language_info": {
      "name": "python"
    },
    "accelerator": "GPU"
  },
  "cells": [
    {
      "cell_type": "markdown",
      "metadata": {
        "id": "view-in-github",
        "colab_type": "text"
      },
      "source": [
        "<a href=\"https://colab.research.google.com/github/andysingal/nlp/blob/main/spam_nlp.ipynb\" target=\"_parent\"><img src=\"https://colab.research.google.com/assets/colab-badge.svg\" alt=\"Open In Colab\"/></a>"
      ]
    },
    {
      "cell_type": "code",
      "metadata": {
        "colab": {
          "base_uri": "https://localhost:8080/"
        },
        "id": "h3zt95y_cJVm",
        "outputId": "b3455035-6ee5-4b5e-d898-04cd2400a4db"
      },
      "source": [
        "!nvidia-smi"
      ],
      "execution_count": 108,
      "outputs": [
        {
          "output_type": "stream",
          "text": [
            "Sun Jun  6 04:27:29 2021       \n",
            "+-----------------------------------------------------------------------------+\n",
            "| NVIDIA-SMI 465.27       Driver Version: 460.32.03    CUDA Version: 11.2     |\n",
            "|-------------------------------+----------------------+----------------------+\n",
            "| GPU  Name        Persistence-M| Bus-Id        Disp.A | Volatile Uncorr. ECC |\n",
            "| Fan  Temp  Perf  Pwr:Usage/Cap|         Memory-Usage | GPU-Util  Compute M. |\n",
            "|                               |                      |               MIG M. |\n",
            "|===============================+======================+======================|\n",
            "|   0  Tesla T4            Off  | 00000000:00:04.0 Off |                    0 |\n",
            "| N/A   37C    P8     9W /  70W |      0MiB / 15109MiB |      0%      Default |\n",
            "|                               |                      |                  N/A |\n",
            "+-------------------------------+----------------------+----------------------+\n",
            "                                                                               \n",
            "+-----------------------------------------------------------------------------+\n",
            "| Processes:                                                                  |\n",
            "|  GPU   GI   CI        PID   Type   Process name                  GPU Memory |\n",
            "|        ID   ID                                                   Usage      |\n",
            "|=============================================================================|\n",
            "|  No running processes found                                                 |\n",
            "+-----------------------------------------------------------------------------+\n"
          ],
          "name": "stdout"
        }
      ]
    },
    {
      "cell_type": "code",
      "metadata": {
        "id": "bs4Ond-PhzXZ"
      },
      "source": [
        "#!ssh-keygen -t rsa -b 4096"
      ],
      "execution_count": 109,
      "outputs": []
    },
    {
      "cell_type": "code",
      "metadata": {
        "id": "9_s0_OcJvyNt"
      },
      "source": [
        "#!ssh-keyscan -t rsa github.com >> ~/.ssh/known_hosts"
      ],
      "execution_count": 110,
      "outputs": []
    },
    {
      "cell_type": "code",
      "metadata": {
        "id": "CLNyUIdIwJOg",
        "colab": {
          "base_uri": "https://localhost:8080/"
        },
        "outputId": "3f9551a7-279c-4fb4-c736-e78caefbdb64"
      },
      "source": [
        "!cat /root/.ssh/id_rsa.pub"
      ],
      "execution_count": 111,
      "outputs": [
        {
          "output_type": "stream",
          "text": [
            "ssh-rsa AAAAB3NzaC1yc2EAAAADAQABAAACAQDX68ZCL9ZsjmhXQEGh01c1EuLaMtpFcr0QU7EL5KdPfgeC+tbgpr3laG1d5q55dGVVg5dKhS3aZyTeqjEU7D7rDFKYdJEW/Sm8EBQ6bmMW64clVtmaj04RKvib8xbcIGdEASoDVT7I5VpRESUrI6gBmLi50e0jiWbB4BhuP7vTDArLFvXF57k6/bj/X3lJ6OimJffb8pBi/BtNpLozzwdqrxmALbi9fZAk8NXnENAxe3nlskZ6W+nRWxwsS6gw6DoImC5+1EGnvYzuJ0hhEFkc42nXyrRsR8WuaTdBTRXRqhDhJxYBbIouHHfayXdD6Guao/2gUUohstcvDfEm/OlNP+JYyo54otuh3YpgnaEoFa99Z3BMsh0103ThEmzUXUW0alMszCm+0/nYd5UUeYDSRvK6Ayf0A/ync45S8Z3qc39qojl3RXrfl5d4d2TUmHl0XJWPwVqJi7rMWOwLQWbSCJRwr3zJLB+TSA5Mcqtt9jpmuCPZIYEkNnPjPhntBB0hTdGNm5ZRFNuuefipfN7/vxwgLs5uuTrICHIe3Ys3qIdsMekc0Y+m43mgnVUIp+x+LVCNh5c56oWjGQoOipBowfbngDdEE9cDpSFdm8+yXCa0nOo6l6k9/u8pa9hCDOh8M93vF31ceXjwBDmi/gZvCeQoXHr//pXxnGAVSENg1Q== root@3a5b4c44adb1\n"
          ],
          "name": "stdout"
        }
      ]
    },
    {
      "cell_type": "code",
      "metadata": {
        "id": "CPcZFhBUvAoP"
      },
      "source": [
        "#!ssh -T git@github.com"
      ],
      "execution_count": 112,
      "outputs": []
    },
    {
      "cell_type": "code",
      "metadata": {
        "id": "jGKANi6CwQMc"
      },
      "source": [
        "#!pip install git+ssh://git@github.com/andysingal/preprocess_andy.git"
      ],
      "execution_count": 113,
      "outputs": []
    },
    {
      "cell_type": "code",
      "metadata": {
        "id": "_jujJ2_41NhZ"
      },
      "source": [
        "#!python -m textblob.download_corpora"
      ],
      "execution_count": 114,
      "outputs": []
    },
    {
      "cell_type": "code",
      "metadata": {
        "id": "LN8BjxH4hPUe"
      },
      "source": [
        "import numpy as np\n",
        "import pandas as pd\n",
        "import matplotlib.pyplot as plt\n",
        "import preprocess_andy as ps"
      ],
      "execution_count": 115,
      "outputs": []
    },
    {
      "cell_type": "code",
      "metadata": {
        "colab": {
          "base_uri": "https://localhost:8080/",
          "height": 419
        },
        "id": "OCg1KZ_0hflp",
        "outputId": "ea8c4392-3d6b-4e57-ffd3-a03ea309b737"
      },
      "source": [
        "df = pd.read_csv('drive/MyDrive/NLP/spam.tsv', sep='\\t')\n",
        "df"
      ],
      "execution_count": 116,
      "outputs": [
        {
          "output_type": "execute_result",
          "data": {
            "text/html": [
              "<div>\n",
              "<style scoped>\n",
              "    .dataframe tbody tr th:only-of-type {\n",
              "        vertical-align: middle;\n",
              "    }\n",
              "\n",
              "    .dataframe tbody tr th {\n",
              "        vertical-align: top;\n",
              "    }\n",
              "\n",
              "    .dataframe thead th {\n",
              "        text-align: right;\n",
              "    }\n",
              "</style>\n",
              "<table border=\"1\" class=\"dataframe\">\n",
              "  <thead>\n",
              "    <tr style=\"text-align: right;\">\n",
              "      <th></th>\n",
              "      <th>label</th>\n",
              "      <th>message</th>\n",
              "      <th>length</th>\n",
              "      <th>punct</th>\n",
              "    </tr>\n",
              "  </thead>\n",
              "  <tbody>\n",
              "    <tr>\n",
              "      <th>0</th>\n",
              "      <td>ham</td>\n",
              "      <td>Go until jurong point, crazy.. Available only ...</td>\n",
              "      <td>111</td>\n",
              "      <td>9</td>\n",
              "    </tr>\n",
              "    <tr>\n",
              "      <th>1</th>\n",
              "      <td>ham</td>\n",
              "      <td>Ok lar... Joking wif u oni...</td>\n",
              "      <td>29</td>\n",
              "      <td>6</td>\n",
              "    </tr>\n",
              "    <tr>\n",
              "      <th>2</th>\n",
              "      <td>spam</td>\n",
              "      <td>Free entry in 2 a wkly comp to win FA Cup fina...</td>\n",
              "      <td>155</td>\n",
              "      <td>6</td>\n",
              "    </tr>\n",
              "    <tr>\n",
              "      <th>3</th>\n",
              "      <td>ham</td>\n",
              "      <td>U dun say so early hor... U c already then say...</td>\n",
              "      <td>49</td>\n",
              "      <td>6</td>\n",
              "    </tr>\n",
              "    <tr>\n",
              "      <th>4</th>\n",
              "      <td>ham</td>\n",
              "      <td>Nah I don't think he goes to usf, he lives aro...</td>\n",
              "      <td>61</td>\n",
              "      <td>2</td>\n",
              "    </tr>\n",
              "    <tr>\n",
              "      <th>...</th>\n",
              "      <td>...</td>\n",
              "      <td>...</td>\n",
              "      <td>...</td>\n",
              "      <td>...</td>\n",
              "    </tr>\n",
              "    <tr>\n",
              "      <th>5567</th>\n",
              "      <td>spam</td>\n",
              "      <td>This is the 2nd time we have tried 2 contact u...</td>\n",
              "      <td>160</td>\n",
              "      <td>8</td>\n",
              "    </tr>\n",
              "    <tr>\n",
              "      <th>5568</th>\n",
              "      <td>ham</td>\n",
              "      <td>Will ü b going to esplanade fr home?</td>\n",
              "      <td>36</td>\n",
              "      <td>1</td>\n",
              "    </tr>\n",
              "    <tr>\n",
              "      <th>5569</th>\n",
              "      <td>ham</td>\n",
              "      <td>Pity, * was in mood for that. So...any other s...</td>\n",
              "      <td>57</td>\n",
              "      <td>7</td>\n",
              "    </tr>\n",
              "    <tr>\n",
              "      <th>5570</th>\n",
              "      <td>ham</td>\n",
              "      <td>The guy did some bitching but I acted like i'd...</td>\n",
              "      <td>125</td>\n",
              "      <td>1</td>\n",
              "    </tr>\n",
              "    <tr>\n",
              "      <th>5571</th>\n",
              "      <td>ham</td>\n",
              "      <td>Rofl. Its true to its name</td>\n",
              "      <td>26</td>\n",
              "      <td>1</td>\n",
              "    </tr>\n",
              "  </tbody>\n",
              "</table>\n",
              "<p>5572 rows × 4 columns</p>\n",
              "</div>"
            ],
            "text/plain": [
              "     label                                            message  length  punct\n",
              "0      ham  Go until jurong point, crazy.. Available only ...     111      9\n",
              "1      ham                      Ok lar... Joking wif u oni...      29      6\n",
              "2     spam  Free entry in 2 a wkly comp to win FA Cup fina...     155      6\n",
              "3      ham  U dun say so early hor... U c already then say...      49      6\n",
              "4      ham  Nah I don't think he goes to usf, he lives aro...      61      2\n",
              "...    ...                                                ...     ...    ...\n",
              "5567  spam  This is the 2nd time we have tried 2 contact u...     160      8\n",
              "5568   ham               Will ü b going to esplanade fr home?      36      1\n",
              "5569   ham  Pity, * was in mood for that. So...any other s...      57      7\n",
              "5570   ham  The guy did some bitching but I acted like i'd...     125      1\n",
              "5571   ham                         Rofl. Its true to its name      26      1\n",
              "\n",
              "[5572 rows x 4 columns]"
            ]
          },
          "metadata": {
            "tags": []
          },
          "execution_count": 116
        }
      ]
    },
    {
      "cell_type": "code",
      "metadata": {
        "id": "bAaxrTMK2Myk",
        "colab": {
          "base_uri": "https://localhost:8080/"
        },
        "outputId": "f784c2e1-f9c7-4ed8-bae8-a18b2c25a41d"
      },
      "source": [
        "df.isna().sum()"
      ],
      "execution_count": 117,
      "outputs": [
        {
          "output_type": "execute_result",
          "data": {
            "text/plain": [
              "label      0\n",
              "message    0\n",
              "length     0\n",
              "punct      0\n",
              "dtype: int64"
            ]
          },
          "metadata": {
            "tags": []
          },
          "execution_count": 117
        }
      ]
    },
    {
      "cell_type": "code",
      "metadata": {
        "colab": {
          "base_uri": "https://localhost:8080/",
          "height": 419
        },
        "id": "raAXhX4408B5",
        "outputId": "b46bfd1e-17b5-4b44-ccc3-01351f9712c3"
      },
      "source": [
        "df"
      ],
      "execution_count": 118,
      "outputs": [
        {
          "output_type": "execute_result",
          "data": {
            "text/html": [
              "<div>\n",
              "<style scoped>\n",
              "    .dataframe tbody tr th:only-of-type {\n",
              "        vertical-align: middle;\n",
              "    }\n",
              "\n",
              "    .dataframe tbody tr th {\n",
              "        vertical-align: top;\n",
              "    }\n",
              "\n",
              "    .dataframe thead th {\n",
              "        text-align: right;\n",
              "    }\n",
              "</style>\n",
              "<table border=\"1\" class=\"dataframe\">\n",
              "  <thead>\n",
              "    <tr style=\"text-align: right;\">\n",
              "      <th></th>\n",
              "      <th>label</th>\n",
              "      <th>message</th>\n",
              "      <th>length</th>\n",
              "      <th>punct</th>\n",
              "    </tr>\n",
              "  </thead>\n",
              "  <tbody>\n",
              "    <tr>\n",
              "      <th>0</th>\n",
              "      <td>ham</td>\n",
              "      <td>Go until jurong point, crazy.. Available only ...</td>\n",
              "      <td>111</td>\n",
              "      <td>9</td>\n",
              "    </tr>\n",
              "    <tr>\n",
              "      <th>1</th>\n",
              "      <td>ham</td>\n",
              "      <td>Ok lar... Joking wif u oni...</td>\n",
              "      <td>29</td>\n",
              "      <td>6</td>\n",
              "    </tr>\n",
              "    <tr>\n",
              "      <th>2</th>\n",
              "      <td>spam</td>\n",
              "      <td>Free entry in 2 a wkly comp to win FA Cup fina...</td>\n",
              "      <td>155</td>\n",
              "      <td>6</td>\n",
              "    </tr>\n",
              "    <tr>\n",
              "      <th>3</th>\n",
              "      <td>ham</td>\n",
              "      <td>U dun say so early hor... U c already then say...</td>\n",
              "      <td>49</td>\n",
              "      <td>6</td>\n",
              "    </tr>\n",
              "    <tr>\n",
              "      <th>4</th>\n",
              "      <td>ham</td>\n",
              "      <td>Nah I don't think he goes to usf, he lives aro...</td>\n",
              "      <td>61</td>\n",
              "      <td>2</td>\n",
              "    </tr>\n",
              "    <tr>\n",
              "      <th>...</th>\n",
              "      <td>...</td>\n",
              "      <td>...</td>\n",
              "      <td>...</td>\n",
              "      <td>...</td>\n",
              "    </tr>\n",
              "    <tr>\n",
              "      <th>5567</th>\n",
              "      <td>spam</td>\n",
              "      <td>This is the 2nd time we have tried 2 contact u...</td>\n",
              "      <td>160</td>\n",
              "      <td>8</td>\n",
              "    </tr>\n",
              "    <tr>\n",
              "      <th>5568</th>\n",
              "      <td>ham</td>\n",
              "      <td>Will ü b going to esplanade fr home?</td>\n",
              "      <td>36</td>\n",
              "      <td>1</td>\n",
              "    </tr>\n",
              "    <tr>\n",
              "      <th>5569</th>\n",
              "      <td>ham</td>\n",
              "      <td>Pity, * was in mood for that. So...any other s...</td>\n",
              "      <td>57</td>\n",
              "      <td>7</td>\n",
              "    </tr>\n",
              "    <tr>\n",
              "      <th>5570</th>\n",
              "      <td>ham</td>\n",
              "      <td>The guy did some bitching but I acted like i'd...</td>\n",
              "      <td>125</td>\n",
              "      <td>1</td>\n",
              "    </tr>\n",
              "    <tr>\n",
              "      <th>5571</th>\n",
              "      <td>ham</td>\n",
              "      <td>Rofl. Its true to its name</td>\n",
              "      <td>26</td>\n",
              "      <td>1</td>\n",
              "    </tr>\n",
              "  </tbody>\n",
              "</table>\n",
              "<p>5572 rows × 4 columns</p>\n",
              "</div>"
            ],
            "text/plain": [
              "     label                                            message  length  punct\n",
              "0      ham  Go until jurong point, crazy.. Available only ...     111      9\n",
              "1      ham                      Ok lar... Joking wif u oni...      29      6\n",
              "2     spam  Free entry in 2 a wkly comp to win FA Cup fina...     155      6\n",
              "3      ham  U dun say so early hor... U c already then say...      49      6\n",
              "4      ham  Nah I don't think he goes to usf, he lives aro...      61      2\n",
              "...    ...                                                ...     ...    ...\n",
              "5567  spam  This is the 2nd time we have tried 2 contact u...     160      8\n",
              "5568   ham               Will ü b going to esplanade fr home?      36      1\n",
              "5569   ham  Pity, * was in mood for that. So...any other s...      57      7\n",
              "5570   ham  The guy did some bitching but I acted like i'd...     125      1\n",
              "5571   ham                         Rofl. Its true to its name      26      1\n",
              "\n",
              "[5572 rows x 4 columns]"
            ]
          },
          "metadata": {
            "tags": []
          },
          "execution_count": 118
        }
      ]
    },
    {
      "cell_type": "code",
      "metadata": {
        "colab": {
          "base_uri": "https://localhost:8080/",
          "height": 265
        },
        "id": "iNFrBRp8dZj-",
        "outputId": "fa680be6-ad6e-4eb5-84f3-6e68f99d28b1"
      },
      "source": [
        "plt.hist(df[df['label'] == 'ham']['length'], bins = 100, alpha = 0.7)\n",
        "plt.hist(df[df['label'] == 'spam']['length'], bins = 100, alpha = 0.7)\n",
        "plt.show()"
      ],
      "execution_count": 119,
      "outputs": [
        {
          "output_type": "display_data",
          "data": {
            "image/png": "[encoded data removed]",
            "text/plain": [
              "<Figure size 432x288 with 1 Axes>"
            ]
          },
          "metadata": {
            "tags": [],
            "needs_background": "light"
          }
        }
      ]
    },
    {
      "cell_type": "code",
      "metadata": {
        "colab": {
          "base_uri": "https://localhost:8080/",
          "height": 265
        },
        "id": "XQoJ1B19gXGf",
        "outputId": "c3f301f0-4281-461f-9885-5b753fa04d5c"
      },
      "source": [
        "plt.hist(df[df['label'] == 'ham']['punct'], bins = 100, alpha = 0.7)\n",
        "plt.hist(df[df['label'] == 'spam']['punct'], bins = 100, alpha = 0.7)\n",
        "plt.show()"
      ],
      "execution_count": 120,
      "outputs": [
        {
          "output_type": "display_data",
          "data": {
            "image/png": "[encoded data removed]",
            "text/plain": [
              "<Figure size 432x288 with 1 Axes>"
            ]
          },
          "metadata": {
            "tags": [],
            "needs_background": "light"
          }
        }
      ]
    },
    {
      "cell_type": "code",
      "metadata": {
        "id": "ZbbmjcLog7ab"
      },
      "source": [
        "from sklearn.model_selection import train_test_split"
      ],
      "execution_count": 121,
      "outputs": []
    },
    {
      "cell_type": "code",
      "metadata": {
        "id": "xLOD3Ig_g7dl"
      },
      "source": [
        "X_train, X_test, y_train, y_test =  train_test_split(df['message'], df['label'], test_size = 0.3, random_state =0, shuffle = True)"
      ],
      "execution_count": 122,
      "outputs": []
    },
    {
      "cell_type": "markdown",
      "metadata": {
        "id": "H3uYldYjhIS_"
      },
      "source": [
        "#2) Building the Model (Random Forest)"
      ]
    },
    {
      "cell_type": "code",
      "metadata": {
        "id": "ZS27bfO4hK4O"
      },
      "source": [
        "from sklearn.feature_extraction.text import TfidfVectorizer\n",
        "from sklearn.ensemble import RandomForestClassifier\n",
        "\n",
        "from sklearn.pipeline import Pipeline"
      ],
      "execution_count": 123,
      "outputs": []
    },
    {
      "cell_type": "code",
      "metadata": {
        "id": "LHFV1lx7g7gw"
      },
      "source": [
        "classifier = Pipeline([(\"tfidf\", TfidfVectorizer()) , (\"classifier\", RandomForestClassifier(n_estimators=100))])"
      ],
      "execution_count": 124,
      "outputs": []
    },
    {
      "cell_type": "code",
      "metadata": {
        "colab": {
          "base_uri": "https://localhost:8080/"
        },
        "id": "T8l8jwzvg7kG",
        "outputId": "f88efa33-8574-4c8e-f4f7-8d8e1a3f069b"
      },
      "source": [
        "classifier.fit(X_train, y_train)"
      ],
      "execution_count": 125,
      "outputs": [
        {
          "output_type": "execute_result",
          "data": {
            "text/plain": [
              "Pipeline(memory=None,\n",
              "         steps=[('tfidf',\n",
              "                 TfidfVectorizer(analyzer='word', binary=False,\n",
              "                                 decode_error='strict',\n",
              "                                 dtype=<class 'numpy.float64'>,\n",
              "                                 encoding='utf-8', input='content',\n",
              "                                 lowercase=True, max_df=1.0, max_features=None,\n",
              "                                 min_df=1, ngram_range=(1, 1), norm='l2',\n",
              "                                 preprocessor=None, smooth_idf=True,\n",
              "                                 stop_words=None, strip_accents=None,\n",
              "                                 sublinear_tf=False,\n",
              "                                 token_pattern='...\n",
              "                 RandomForestClassifier(bootstrap=True, ccp_alpha=0.0,\n",
              "                                        class_weight=None, criterion='gini',\n",
              "                                        max_depth=None, max_features='auto',\n",
              "                                        max_leaf_nodes=None, max_samples=None,\n",
              "                                        min_impurity_decrease=0.0,\n",
              "                                        min_impurity_split=None,\n",
              "                                        min_samples_leaf=1, min_samples_split=2,\n",
              "                                        min_weight_fraction_leaf=0.0,\n",
              "                                        n_estimators=100, n_jobs=None,\n",
              "                                        oob_score=False, random_state=None,\n",
              "                                        verbose=0, warm_start=False))],\n",
              "         verbose=False)"
            ]
          },
          "metadata": {
            "tags": []
          },
          "execution_count": 125
        }
      ]
    },
    {
      "cell_type": "markdown",
      "metadata": {
        "id": "ScMUT77Jh5NL"
      },
      "source": [
        "#3) Predicting the results (Random Forest)"
      ]
    },
    {
      "cell_type": "code",
      "metadata": {
        "id": "mLKnoxehh7BM"
      },
      "source": [
        "y_pred = classifier.predict(X_test)"
      ],
      "execution_count": 126,
      "outputs": []
    },
    {
      "cell_type": "code",
      "metadata": {
        "id": "SoTX2V0Pg7nF"
      },
      "source": [
        "from sklearn.metrics import classification_report, accuracy_score, confusion_matrix"
      ],
      "execution_count": 127,
      "outputs": []
    },
    {
      "cell_type": "code",
      "metadata": {
        "colab": {
          "base_uri": "https://localhost:8080/"
        },
        "id": "b-32iljYg7qm",
        "outputId": "e28c219a-3a6c-490a-a408-184c76fbf67a"
      },
      "source": [
        "accuracy_score(y_test, y_pred)"
      ],
      "execution_count": 128,
      "outputs": [
        {
          "output_type": "execute_result",
          "data": {
            "text/plain": [
              "0.9766746411483254"
            ]
          },
          "metadata": {
            "tags": []
          },
          "execution_count": 128
        }
      ]
    },
    {
      "cell_type": "code",
      "metadata": {
        "colab": {
          "base_uri": "https://localhost:8080/"
        },
        "id": "Noi_QBAIg7t7",
        "outputId": "bc451e1b-e172-47cf-8314-7ceab615df00"
      },
      "source": [
        "confusion_matrix(y_test, y_pred)"
      ],
      "execution_count": 129,
      "outputs": [
        {
          "output_type": "execute_result",
          "data": {
            "text/plain": [
              "array([[1451,    0],\n",
              "       [  39,  182]])"
            ]
          },
          "metadata": {
            "tags": []
          },
          "execution_count": 129
        }
      ]
    },
    {
      "cell_type": "code",
      "metadata": {
        "colab": {
          "base_uri": "https://localhost:8080/"
        },
        "id": "JptqNx9Gg7xS",
        "outputId": "92bf84d3-02c4-40b7-ba0b-5e06a6ba5cbe"
      },
      "source": [
        "print(classification_report(y_test, y_pred))"
      ],
      "execution_count": 130,
      "outputs": [
        {
          "output_type": "stream",
          "text": [
            "              precision    recall  f1-score   support\n",
            "\n",
            "         ham       0.97      1.00      0.99      1451\n",
            "        spam       1.00      0.82      0.90       221\n",
            "\n",
            "    accuracy                           0.98      1672\n",
            "   macro avg       0.99      0.91      0.94      1672\n",
            "weighted avg       0.98      0.98      0.98      1672\n",
            "\n"
          ],
          "name": "stdout"
        }
      ]
    },
    {
      "cell_type": "markdown",
      "metadata": {
        "id": "SW4Dqxcmi4H3"
      },
      "source": [
        "#4) Building the Model (SVM)"
      ]
    },
    {
      "cell_type": "code",
      "metadata": {
        "id": "8fSw_1DJi8IT"
      },
      "source": [
        "from sklearn.svm import SVC"
      ],
      "execution_count": 131,
      "outputs": []
    },
    {
      "cell_type": "code",
      "metadata": {
        "id": "YHczaaYdjAFv"
      },
      "source": [
        "svm = Pipeline([(\"tfidf\", TfidfVectorizer()) , (\"classifier\", SVC(C = 100, gamma='auto'))])"
      ],
      "execution_count": 132,
      "outputs": []
    },
    {
      "cell_type": "code",
      "metadata": {
        "colab": {
          "base_uri": "https://localhost:8080/"
        },
        "id": "rUQRs2KgjE2h",
        "outputId": "d470f42f-1fc9-47ca-9e37-31e25e139d10"
      },
      "source": [
        "svm.fit(X_train, y_train)"
      ],
      "execution_count": 133,
      "outputs": [
        {
          "output_type": "execute_result",
          "data": {
            "text/plain": [
              "Pipeline(memory=None,\n",
              "         steps=[('tfidf',\n",
              "                 TfidfVectorizer(analyzer='word', binary=False,\n",
              "                                 decode_error='strict',\n",
              "                                 dtype=<class 'numpy.float64'>,\n",
              "                                 encoding='utf-8', input='content',\n",
              "                                 lowercase=True, max_df=1.0, max_features=None,\n",
              "                                 min_df=1, ngram_range=(1, 1), norm='l2',\n",
              "                                 preprocessor=None, smooth_idf=True,\n",
              "                                 stop_words=None, strip_accents=None,\n",
              "                                 sublinear_tf=False,\n",
              "                                 token_pattern='(?u)\\\\b\\\\w\\\\w+\\\\b',\n",
              "                                 tokenizer=None, use_idf=True,\n",
              "                                 vocabulary=None)),\n",
              "                ('classifier',\n",
              "                 SVC(C=100, break_ties=False, cache_size=200, class_weight=None,\n",
              "                     coef0=0.0, decision_function_shape='ovr', degree=3,\n",
              "                     gamma='auto', kernel='rbf', max_iter=-1, probability=False,\n",
              "                     random_state=None, shrinking=True, tol=0.001,\n",
              "                     verbose=False))],\n",
              "         verbose=False)"
            ]
          },
          "metadata": {
            "tags": []
          },
          "execution_count": 133
        }
      ]
    },
    {
      "cell_type": "markdown",
      "metadata": {
        "id": "ihY9K_FOj6qq"
      },
      "source": [
        "#5) Predicting the results (SVM)"
      ]
    },
    {
      "cell_type": "code",
      "metadata": {
        "id": "vQq9-2ssj8FP"
      },
      "source": [
        "y_pred = svm.predict(X_test)"
      ],
      "execution_count": 134,
      "outputs": []
    },
    {
      "cell_type": "code",
      "metadata": {
        "colab": {
          "base_uri": "https://localhost:8080/"
        },
        "id": "k6w2ssnZj-QZ",
        "outputId": "f9fd1673-35a1-4061-e2bf-d047a6753374"
      },
      "source": [
        "accuracy_score(y_test, y_pred)"
      ],
      "execution_count": 135,
      "outputs": [
        {
          "output_type": "execute_result",
          "data": {
            "text/plain": [
              "0.867822966507177"
            ]
          },
          "metadata": {
            "tags": []
          },
          "execution_count": 135
        }
      ]
    },
    {
      "cell_type": "code",
      "metadata": {
        "colab": {
          "base_uri": "https://localhost:8080/"
        },
        "id": "sbkdC2YdkDbv",
        "outputId": "7b8f4157-9f66-42aa-d28b-2f413580bf0d"
      },
      "source": [
        "confusion_matrix(y_test, y_pred)"
      ],
      "execution_count": 136,
      "outputs": [
        {
          "output_type": "execute_result",
          "data": {
            "text/plain": [
              "array([[1451,    0],\n",
              "       [ 221,    0]])"
            ]
          },
          "metadata": {
            "tags": []
          },
          "execution_count": 136
        }
      ]
    },
    {
      "cell_type": "code",
      "metadata": {
        "colab": {
          "base_uri": "https://localhost:8080/"
        },
        "id": "5jP4j-4MkGe1",
        "outputId": "60ba6d16-a31b-45bc-f95d-3313df196848"
      },
      "source": [
        "print(classification_report(y_test, y_pred))"
      ],
      "execution_count": 137,
      "outputs": [
        {
          "output_type": "stream",
          "text": [
            "              precision    recall  f1-score   support\n",
            "\n",
            "         ham       0.87      1.00      0.93      1451\n",
            "        spam       0.00      0.00      0.00       221\n",
            "\n",
            "    accuracy                           0.87      1672\n",
            "   macro avg       0.43      0.50      0.46      1672\n",
            "weighted avg       0.75      0.87      0.81      1672\n",
            "\n"
          ],
          "name": "stdout"
        },
        {
          "output_type": "stream",
          "text": [
            "/usr/local/lib/python3.7/dist-packages/sklearn/metrics/_classification.py:1272: UndefinedMetricWarning: Precision and F-score are ill-defined and being set to 0.0 in labels with no predicted samples. Use `zero_division` parameter to control this behavior.\n",
            "  _warn_prf(average, modifier, msg_start, len(result))\n"
          ],
          "name": "stderr"
        }
      ]
    },
    {
      "cell_type": "code",
      "metadata": {
        "id": "3KqIdBvqkJgM"
      },
      "source": [
        ""
      ],
      "execution_count": 137,
      "outputs": []
    },
    {
      "cell_type": "code",
      "metadata": {
        "id": "fGdoIJ9DkJjM"
      },
      "source": [
        "test1 = ['Hello, You are learning natural Language Processing']\n",
        "test2 = ['Hope you are doing good and learning new things !']\n",
        "test3 = ['Congratulations, You won a lottery ticket worth $1 Million ! To claim call on 446677']"
      ],
      "execution_count": 138,
      "outputs": []
    },
    {
      "cell_type": "code",
      "metadata": {
        "colab": {
          "base_uri": "https://localhost:8080/"
        },
        "id": "WXiWDFQSkQCt",
        "outputId": "3936f1b5-7df8-421c-ae2e-149bbc46f733"
      },
      "source": [
        "print(classifier.predict(test1))\n",
        "print(classifier.predict(test2))\n",
        "print(classifier.predict(test3))"
      ],
      "execution_count": 139,
      "outputs": [
        {
          "output_type": "stream",
          "text": [
            "['ham']\n",
            "['ham']\n",
            "['spam']\n"
          ],
          "name": "stdout"
        }
      ]
    },
    {
      "cell_type": "code",
      "metadata": {
        "colab": {
          "base_uri": "https://localhost:8080/"
        },
        "id": "b_S-oG39kfAJ",
        "outputId": "7a4158c6-4b8d-499e-b666-eef5c0bb00e3"
      },
      "source": [
        "print(svm.predict(test1))\n",
        "print(svm.predict(test2))\n",
        "print(svm.predict(test3))"
      ],
      "execution_count": 140,
      "outputs": [
        {
          "output_type": "stream",
          "text": [
            "['ham']\n",
            "['ham']\n",
            "['ham']\n"
          ],
          "name": "stdout"
        }
      ]
    }
  ]
}