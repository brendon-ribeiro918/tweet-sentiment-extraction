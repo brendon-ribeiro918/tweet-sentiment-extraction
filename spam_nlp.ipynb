{
  "nbformat": 4,
  "nbformat_minor": 0,
  "metadata": {
    "colab": {
      "name": "spam_nlp.ipynb",
      "provenance": [],
      "mount_file_id": "14UElU3HYf3aU6-o0BrRg9rUMxjhavYUx",
      "authorship_tag": "ABX9TyPaYkyVvyveoPWp3FrpchWh",
      "include_colab_link": true
    },
    "kernelspec": {
      "name": "python3",
      "display_name": "Python 3"
    },
    "language_info": {
      "name": "python"
    }
  },
  "cells": [
    {
      "cell_type": "markdown",
      "metadata": {
        "id": "view-in-github",
        "colab_type": "text"
      },
      "source": [
        "<a href=\"https://colab.research.google.com/github/andysingal/nlp/blob/main/spam_nlp.ipynb\" target=\"_parent\"><img src=\"https://colab.research.google.com/assets/colab-badge.svg\" alt=\"Open In Colab\"/></a>"
      ]
    },
    {
      "cell_type": "code",
      "metadata": {
        "id": "bs4Ond-PhzXZ"
      },
      "source": [
        "#!ssh-keygen -t rsa -b 4096"
      ],
      "execution_count": 2,
      "outputs": []
    },
    {
      "cell_type": "code",
      "metadata": {
        "id": "9_s0_OcJvyNt"
      },
      "source": [
        "#!ssh-keyscan -t rsa github.com >> ~/.ssh/known_hosts"
      ],
      "execution_count": 3,
      "outputs": []
    },
    {
      "cell_type": "code",
      "metadata": {
        "id": "CLNyUIdIwJOg"
      },
      "source": [
        "#!cat /root/.ssh/id_rsa.pub"
      ],
      "execution_count": 4,
      "outputs": []
    },
    {
      "cell_type": "code",
      "metadata": {
        "id": "CPcZFhBUvAoP"
      },
      "source": [
        "#!ssh -T git@github.com"
      ],
      "execution_count": 5,
      "outputs": []
    },
    {
      "cell_type": "code",
      "metadata": {
        "colab": {
          "base_uri": "https://localhost:8080/"
        },
        "id": "jGKANi6CwQMc",
        "outputId": "19102c46-051a-4cab-e2dc-1b0df445ee21"
      },
      "source": [
        "!pip install git+ssh://git@github.com/andysingal/preprocess_andy.git"
      ],
      "execution_count": 6,
      "outputs": [
        {
          "output_type": "stream",
          "text": [
            "Collecting git+ssh://****@github.com/andysingal/preprocess_andy.git\n",
            "  Cloning ssh://****@github.com/andysingal/preprocess_andy.git to /tmp/pip-req-build-xjwf_pzf\n",
            "  Running command git clone -q 'ssh://****@github.com/andysingal/preprocess_andy.git' /tmp/pip-req-build-xjwf_pzf\n",
            "  Warning: Permanently added the RSA host key for IP address '140.82.114.3' to the list of known hosts.\n",
            "Requirement already satisfied (use --upgrade to upgrade): preprocess-andy==0.0.3 from git+ssh://****@github.com/andysingal/preprocess_andy.git in /usr/local/lib/python3.7/dist-packages\n",
            "Building wheels for collected packages: preprocess-andy\n",
            "  Building wheel for preprocess-andy (setup.py) ... \u001b[?25l\u001b[?25hdone\n",
            "  Created wheel for preprocess-andy: filename=preprocess_andy-0.0.3-cp37-none-any.whl size=3890 sha256=d8cbf9b666f1975fbe32b9305aba0bfbfa6332ed7da42813e82dfe1a8a2930df\n",
            "  Stored in directory: /tmp/pip-ephem-wheel-cache-b2qsdgxq/wheels/bd/c8/a9/9710fa3377633663e701630bfdc3d87970f2903746127358cd\n",
            "Successfully built preprocess-andy\n"
          ],
          "name": "stdout"
        }
      ]
    },
    {
      "cell_type": "code",
      "metadata": {
        "colab": {
          "base_uri": "https://localhost:8080/"
        },
        "id": "_jujJ2_41NhZ",
        "outputId": "169fc970-ca1c-4b06-da12-371dbea09e4a"
      },
      "source": [
        "!python -m textblob.download_corpora"
      ],
      "execution_count": 14,
      "outputs": [
        {
          "output_type": "stream",
          "text": [
            "[nltk_data] Downloading package brown to /root/nltk_data...\n",
            "[nltk_data]   Unzipping corpora/brown.zip.\n",
            "[nltk_data] Downloading package punkt to /root/nltk_data...\n",
            "[nltk_data]   Unzipping tokenizers/punkt.zip.\n",
            "[nltk_data] Downloading package wordnet to /root/nltk_data...\n",
            "[nltk_data]   Unzipping corpora/wordnet.zip.\n",
            "[nltk_data] Downloading package averaged_perceptron_tagger to\n",
            "[nltk_data]     /root/nltk_data...\n",
            "[nltk_data]   Unzipping taggers/averaged_perceptron_tagger.zip.\n",
            "[nltk_data] Downloading package conll2000 to /root/nltk_data...\n",
            "[nltk_data]   Unzipping corpora/conll2000.zip.\n",
            "[nltk_data] Downloading package movie_reviews to /root/nltk_data...\n",
            "[nltk_data]   Unzipping corpora/movie_reviews.zip.\n",
            "Finished.\n"
          ],
          "name": "stdout"
        }
      ]
    },
    {
      "cell_type": "code",
      "metadata": {
        "id": "LN8BjxH4hPUe"
      },
      "source": [
        "import numpy as np\n",
        "import pandas as pd\n",
        "import matplotlib.pyplot as plt\n",
        "import preprocess_andy as ps"
      ],
      "execution_count": 15,
      "outputs": []
    },
    {
      "cell_type": "code",
      "metadata": {
        "colab": {
          "base_uri": "https://localhost:8080/"
        },
        "id": "nTAeZHV5yhZH",
        "outputId": "518437d4-35ad-46ee-9f81-deafad934d62"
      },
      "source": [
        "dir(ps)"
      ],
      "execution_count": 16,
      "outputs": [
        {
          "output_type": "execute_result",
          "data": {
            "text/plain": [
              "['__builtins__',\n",
              " '__cached__',\n",
              " '__doc__',\n",
              " '__file__',\n",
              " '__loader__',\n",
              " '__name__',\n",
              " '__package__',\n",
              " '__path__',\n",
              " '__spec__',\n",
              " '__version__',\n",
              " 'get_avg_wordlength',\n",
              " 'get_characcounts',\n",
              " 'get_cont_exp',\n",
              " 'get_digit_counts',\n",
              " 'get_emails',\n",
              " 'get_hashtag_counts',\n",
              " 'get_mentions_counts',\n",
              " 'get_stopwords_counts',\n",
              " 'get_uppercase_counts',\n",
              " 'get_urls',\n",
              " 'get_value_counts',\n",
              " 'get_wordcount',\n",
              " 'make_to_base',\n",
              " 'remove_accented_chars',\n",
              " 'remove_common_words',\n",
              " 'remove_emails',\n",
              " 'remove_html_tags',\n",
              " 'remove_rarewords',\n",
              " 'remove_rt',\n",
              " 'remove_special_chars',\n",
              " 'remove_stopwords',\n",
              " 'remove_urls',\n",
              " 'spelling_correction',\n",
              " 'utils']"
            ]
          },
          "metadata": {
            "tags": []
          },
          "execution_count": 16
        }
      ]
    },
    {
      "cell_type": "code",
      "metadata": {
        "colab": {
          "base_uri": "https://localhost:8080/",
          "height": 419
        },
        "id": "OCg1KZ_0hflp",
        "outputId": "cfd99bb7-08c5-489c-ff0b-a1de5ca85016"
      },
      "source": [
        "df = pd.read_csv('drive/MyDrive/NLP/spam.tsv', sep='\\t')\n",
        "df"
      ],
      "execution_count": 17,
      "outputs": [
        {
          "output_type": "execute_result",
          "data": {
            "text/html": [
              "<div>\n",
              "<style scoped>\n",
              "    .dataframe tbody tr th:only-of-type {\n",
              "        vertical-align: middle;\n",
              "    }\n",
              "\n",
              "    .dataframe tbody tr th {\n",
              "        vertical-align: top;\n",
              "    }\n",
              "\n",
              "    .dataframe thead th {\n",
              "        text-align: right;\n",
              "    }\n",
              "</style>\n",
              "<table border=\"1\" class=\"dataframe\">\n",
              "  <thead>\n",
              "    <tr style=\"text-align: right;\">\n",
              "      <th></th>\n",
              "      <th>label</th>\n",
              "      <th>message</th>\n",
              "      <th>length</th>\n",
              "      <th>punct</th>\n",
              "    </tr>\n",
              "  </thead>\n",
              "  <tbody>\n",
              "    <tr>\n",
              "      <th>0</th>\n",
              "      <td>ham</td>\n",
              "      <td>Go until jurong point, crazy.. Available only ...</td>\n",
              "      <td>111</td>\n",
              "      <td>9</td>\n",
              "    </tr>\n",
              "    <tr>\n",
              "      <th>1</th>\n",
              "      <td>ham</td>\n",
              "      <td>Ok lar... Joking wif u oni...</td>\n",
              "      <td>29</td>\n",
              "      <td>6</td>\n",
              "    </tr>\n",
              "    <tr>\n",
              "      <th>2</th>\n",
              "      <td>spam</td>\n",
              "      <td>Free entry in 2 a wkly comp to win FA Cup fina...</td>\n",
              "      <td>155</td>\n",
              "      <td>6</td>\n",
              "    </tr>\n",
              "    <tr>\n",
              "      <th>3</th>\n",
              "      <td>ham</td>\n",
              "      <td>U dun say so early hor... U c already then say...</td>\n",
              "      <td>49</td>\n",
              "      <td>6</td>\n",
              "    </tr>\n",
              "    <tr>\n",
              "      <th>4</th>\n",
              "      <td>ham</td>\n",
              "      <td>Nah I don't think he goes to usf, he lives aro...</td>\n",
              "      <td>61</td>\n",
              "      <td>2</td>\n",
              "    </tr>\n",
              "    <tr>\n",
              "      <th>...</th>\n",
              "      <td>...</td>\n",
              "      <td>...</td>\n",
              "      <td>...</td>\n",
              "      <td>...</td>\n",
              "    </tr>\n",
              "    <tr>\n",
              "      <th>5567</th>\n",
              "      <td>spam</td>\n",
              "      <td>This is the 2nd time we have tried 2 contact u...</td>\n",
              "      <td>160</td>\n",
              "      <td>8</td>\n",
              "    </tr>\n",
              "    <tr>\n",
              "      <th>5568</th>\n",
              "      <td>ham</td>\n",
              "      <td>Will ü b going to esplanade fr home?</td>\n",
              "      <td>36</td>\n",
              "      <td>1</td>\n",
              "    </tr>\n",
              "    <tr>\n",
              "      <th>5569</th>\n",
              "      <td>ham</td>\n",
              "      <td>Pity, * was in mood for that. So...any other s...</td>\n",
              "      <td>57</td>\n",
              "      <td>7</td>\n",
              "    </tr>\n",
              "    <tr>\n",
              "      <th>5570</th>\n",
              "      <td>ham</td>\n",
              "      <td>The guy did some bitching but I acted like i'd...</td>\n",
              "      <td>125</td>\n",
              "      <td>1</td>\n",
              "    </tr>\n",
              "    <tr>\n",
              "      <th>5571</th>\n",
              "      <td>ham</td>\n",
              "      <td>Rofl. Its true to its name</td>\n",
              "      <td>26</td>\n",
              "      <td>1</td>\n",
              "    </tr>\n",
              "  </tbody>\n",
              "</table>\n",
              "<p>5572 rows × 4 columns</p>\n",
              "</div>"
            ],
            "text/plain": [
              "     label                                            message  length  punct\n",
              "0      ham  Go until jurong point, crazy.. Available only ...     111      9\n",
              "1      ham                      Ok lar... Joking wif u oni...      29      6\n",
              "2     spam  Free entry in 2 a wkly comp to win FA Cup fina...     155      6\n",
              "3      ham  U dun say so early hor... U c already then say...      49      6\n",
              "4      ham  Nah I don't think he goes to usf, he lives aro...      61      2\n",
              "...    ...                                                ...     ...    ...\n",
              "5567  spam  This is the 2nd time we have tried 2 contact u...     160      8\n",
              "5568   ham               Will ü b going to esplanade fr home?      36      1\n",
              "5569   ham  Pity, * was in mood for that. So...any other s...      57      7\n",
              "5570   ham  The guy did some bitching but I acted like i'd...     125      1\n",
              "5571   ham                         Rofl. Its true to its name      26      1\n",
              "\n",
              "[5572 rows x 4 columns]"
            ]
          },
          "metadata": {
            "tags": []
          },
          "execution_count": 17
        }
      ]
    },
    {
      "cell_type": "code",
      "metadata": {
        "id": "dosCsHGaya3r"
      },
      "source": [
        "# These are series of preprocessing\n",
        "df['message'] = df['message'].apply(lambda x: ps.get_cont_exp(x)) #you're -> you are; i'm -> i am\n",
        "df['message'] = df['message'].apply(lambda x: ps.remove_emails(x))\n",
        "df['message'] = df['message'].apply(lambda x: ps.remove_html_tags(x))\n",
        "df['message'] = df['message'].apply(lambda x: ps.remove_urls(x))\n",
        "\n",
        "df['message'] = df['message'].apply(lambda x: ps.remove_special_chars(x))\n",
        "df['message'] = df['message'].apply(lambda x: ps.remove_accented_chars(x))\n",
        "df['message'] = df['message'].apply(lambda x: ps.make_to_base(x)) #ran -> run, \n",
        "df['message'] = df['message'].apply(lambda x: ps.spelling_correction(x).raw_sentences[0])"
      ],
      "execution_count": null,
      "outputs": []
    },
    {
      "cell_type": "code",
      "metadata": {
        "id": "raAXhX4408B5"
      },
      "source": [
        "df"
      ],
      "execution_count": null,
      "outputs": []
    }
  ]
}