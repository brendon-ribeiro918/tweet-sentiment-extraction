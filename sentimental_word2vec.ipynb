{
  "nbformat": 4,
  "nbformat_minor": 0,
  "metadata": {
    "colab": {
      "name": "sentimental-word2vec.ipynb",
      "provenance": [],
      "authorship_tag": "ABX9TyMv4y3l3gjeE8uEVbXW+W5E",
      "include_colab_link": true
    },
    "kernelspec": {
      "name": "python3",
      "display_name": "Python 3"
    },
    "language_info": {
      "name": "python"
    }
  },
  "cells": [
    {
      "cell_type": "markdown",
      "metadata": {
        "id": "view-in-github",
        "colab_type": "text"
      },
      "source": [
        "<a href=\"https://colab.research.google.com/github/andysingal/nlp/blob/main/sentimental_word2vec.ipynb\" target=\"_parent\"><img src=\"https://colab.research.google.com/assets/colab-badge.svg\" alt=\"Open In Colab\"/></a>"
      ]
    },
    {
      "cell_type": "code",
      "metadata": {
        "id": "Ed_LBUCFSPFK"
      },
      "source": [
        "#!ssh-keygen -t rsa -b 4096\n"
      ],
      "execution_count": 26,
      "outputs": []
    },
    {
      "cell_type": "code",
      "metadata": {
        "id": "ng6bMSILSoU2"
      },
      "source": [
        "#!ssh-keyscan -t rsa github.com >> ~/.ssh/known_hosts"
      ],
      "execution_count": 27,
      "outputs": []
    },
    {
      "cell_type": "code",
      "metadata": {
        "id": "_YegqpvXSwoL"
      },
      "source": [
        "#!cat /root/.ssh/id_rsa.pub"
      ],
      "execution_count": 28,
      "outputs": []
    },
    {
      "cell_type": "code",
      "metadata": {
        "id": "ulCI_VkjSp4U"
      },
      "source": [
        "#!pip install git+ssh://git@github.com/andysingal/preprocess_andy.git"
      ],
      "execution_count": 29,
      "outputs": []
    },
    {
      "cell_type": "code",
      "metadata": {
        "colab": {
          "base_uri": "https://localhost:8080/"
        },
        "id": "t7hPJPJSU0IL",
        "outputId": "90e90ed3-1537-4e6e-f15e-24d5da3f33dc"
      },
      "source": [
        "!apt-get install default-jre\n",
        "!java -version"
      ],
      "execution_count": 30,
      "outputs": [
        {
          "output_type": "stream",
          "text": [
            "Reading package lists... Done\n",
            "Building dependency tree       \n",
            "Reading state information... Done\n",
            "default-jre is already the newest version (2:1.11-68ubuntu1~18.04.1).\n",
            "0 upgraded, 0 newly installed, 0 to remove and 39 not upgraded.\n",
            "openjdk version \"11.0.11\" 2021-04-20\n",
            "OpenJDK Runtime Environment (build 11.0.11+9-Ubuntu-0ubuntu2.18.04)\n",
            "OpenJDK 64-Bit Server VM (build 11.0.11+9-Ubuntu-0ubuntu2.18.04, mixed mode, sharing)\n"
          ],
          "name": "stdout"
        }
      ]
    },
    {
      "cell_type": "code",
      "metadata": {
        "colab": {
          "base_uri": "https://localhost:8080/"
        },
        "id": "gRbklm7CU9G-",
        "outputId": "0e437da2-3ee2-4c28-afd9-3c13ab787f90"
      },
      "source": [
        "#!pip install h2o==3.30.0.1"
      ],
      "execution_count": 31,
      "outputs": [
        {
          "output_type": "stream",
          "text": [
            "Requirement already satisfied: h2o==3.30.0.1 in /usr/local/lib/python3.7/dist-packages (3.30.0.1)\n",
            "Requirement already satisfied: requests in /usr/local/lib/python3.7/dist-packages (from h2o==3.30.0.1) (2.23.0)\n",
            "Requirement already satisfied: colorama>=0.3.8 in /usr/local/lib/python3.7/dist-packages (from h2o==3.30.0.1) (0.4.4)\n",
            "Requirement already satisfied: future in /usr/local/lib/python3.7/dist-packages (from h2o==3.30.0.1) (0.16.0)\n",
            "Requirement already satisfied: tabulate in /usr/local/lib/python3.7/dist-packages (from h2o==3.30.0.1) (0.8.9)\n",
            "Requirement already satisfied: urllib3!=1.25.0,!=1.25.1,<1.26,>=1.21.1 in /usr/local/lib/python3.7/dist-packages (from requests->h2o==3.30.0.1) (1.24.3)\n",
            "Requirement already satisfied: chardet<4,>=3.0.2 in /usr/local/lib/python3.7/dist-packages (from requests->h2o==3.30.0.1) (3.0.4)\n",
            "Requirement already satisfied: certifi>=2017.4.17 in /usr/local/lib/python3.7/dist-packages (from requests->h2o==3.30.0.1) (2020.12.5)\n",
            "Requirement already satisfied: idna<3,>=2.5 in /usr/local/lib/python3.7/dist-packages (from requests->h2o==3.30.0.1) (2.10)\n"
          ],
          "name": "stdout"
        }
      ]
    },
    {
      "cell_type": "code",
      "metadata": {
        "id": "zZw1MTo4TR8G"
      },
      "source": [
        "import tensorflow_datasets as tfds\n",
        "import h2o\n",
        "import numpy as np\n",
        "import preprocess_andy as ps"
      ],
      "execution_count": 32,
      "outputs": []
    },
    {
      "cell_type": "code",
      "metadata": {
        "colab": {
          "base_uri": "https://localhost:8080/",
          "height": 389
        },
        "id": "3-gK6IxOVrZ0",
        "outputId": "6afc8de2-0724-4ad4-c383-f743060a6c1e"
      },
      "source": [
        "h2o.init()"
      ],
      "execution_count": 33,
      "outputs": [
        {
          "output_type": "stream",
          "text": [
            "Checking whether there is an H2O instance running at http://localhost:54321 . connected.\n",
            "Warning: Your H2O cluster version is too old (1 year, 2 months and 3 days)! Please download and install the latest version from http://h2o.ai/download/\n"
          ],
          "name": "stdout"
        },
        {
          "output_type": "display_data",
          "data": {
            "text/html": [
              "<div style=\"overflow:auto\"><table style=\"width:50%\"><tr><td>H2O_cluster_uptime:</td>\n",
              "<td>14 mins 14 secs</td></tr>\n",
              "<tr><td>H2O_cluster_timezone:</td>\n",
              "<td>Etc/UTC</td></tr>\n",
              "<tr><td>H2O_data_parsing_timezone:</td>\n",
              "<td>UTC</td></tr>\n",
              "<tr><td>H2O_cluster_version:</td>\n",
              "<td>3.30.0.1</td></tr>\n",
              "<tr><td>H2O_cluster_version_age:</td>\n",
              "<td>1 year, 2 months and 3 days !!!</td></tr>\n",
              "<tr><td>H2O_cluster_name:</td>\n",
              "<td>H2O_from_python_unknownUser_tn8xgr</td></tr>\n",
              "<tr><td>H2O_cluster_total_nodes:</td>\n",
              "<td>1</td></tr>\n",
              "<tr><td>H2O_cluster_free_memory:</td>\n",
              "<td>3.143 Gb</td></tr>\n",
              "<tr><td>H2O_cluster_total_cores:</td>\n",
              "<td>2</td></tr>\n",
              "<tr><td>H2O_cluster_allowed_cores:</td>\n",
              "<td>2</td></tr>\n",
              "<tr><td>H2O_cluster_status:</td>\n",
              "<td>locked, healthy</td></tr>\n",
              "<tr><td>H2O_connection_url:</td>\n",
              "<td>http://localhost:54321</td></tr>\n",
              "<tr><td>H2O_connection_proxy:</td>\n",
              "<td>{\"http\": null, \"https\": null}</td></tr>\n",
              "<tr><td>H2O_internal_security:</td>\n",
              "<td>False</td></tr>\n",
              "<tr><td>H2O_API_Extensions:</td>\n",
              "<td>Amazon S3, XGBoost, Algos, AutoML, Core V3, TargetEncoder, Core V4</td></tr>\n",
              "<tr><td>Python_version:</td>\n",
              "<td>3.7.10 final</td></tr></table></div>"
            ],
            "text/plain": [
              "--------------------------  ------------------------------------------------------------------\n",
              "H2O_cluster_uptime:         14 mins 14 secs\n",
              "H2O_cluster_timezone:       Etc/UTC\n",
              "H2O_data_parsing_timezone:  UTC\n",
              "H2O_cluster_version:        3.30.0.1\n",
              "H2O_cluster_version_age:    1 year, 2 months and 3 days !!!\n",
              "H2O_cluster_name:           H2O_from_python_unknownUser_tn8xgr\n",
              "H2O_cluster_total_nodes:    1\n",
              "H2O_cluster_free_memory:    3.143 Gb\n",
              "H2O_cluster_total_cores:    2\n",
              "H2O_cluster_allowed_cores:  2\n",
              "H2O_cluster_status:         locked, healthy\n",
              "H2O_connection_url:         http://localhost:54321\n",
              "H2O_connection_proxy:       {\"http\": null, \"https\": null}\n",
              "H2O_internal_security:      False\n",
              "H2O_API_Extensions:         Amazon S3, XGBoost, Algos, AutoML, Core V3, TargetEncoder, Core V4\n",
              "Python_version:             3.7.10 final\n",
              "--------------------------  ------------------------------------------------------------------"
            ]
          },
          "metadata": {
            "tags": []
          }
        }
      ]
    },
    {
      "cell_type": "code",
      "metadata": {
        "id": "pSlVQUMtTV0o"
      },
      "source": [
        "dataset, info = tfds.load('amazon_us_reviews/Personal_Care_Appliances_v1_00', with_info=True, batch_size=-1)\n",
        "train_dataset = dataset['train']"
      ],
      "execution_count": 34,
      "outputs": []
    },
    {
      "cell_type": "code",
      "metadata": {
        "colab": {
          "base_uri": "https://localhost:8080/"
        },
        "id": "PuzMtDtXV2Qq",
        "outputId": "da25e53e-4975-4c1b-9075-481b91d806a1"
      },
      "source": [
        "info"
      ],
      "execution_count": 35,
      "outputs": [
        {
          "output_type": "execute_result",
          "data": {
            "text/plain": [
              "tfds.core.DatasetInfo(\n",
              "    name='amazon_us_reviews',\n",
              "    version=0.1.0,\n",
              "    description='Amazon Customer Reviews (a.k.a. Product Reviews) is one of Amazons iconic products. In a period of over two decades since the first review in 1995, millions of Amazon customers have contributed over a hundred million reviews to express opinions and describe their experiences regarding products on the Amazon.com website. This makes Amazon Customer Reviews a rich source of information for academic researchers in the fields of Natural Language Processing (NLP), Information Retrieval (IR), and Machine Learning (ML), amongst others. Accordingly, we are releasing this data to further research in multiple disciplines related to understanding customer product experiences. Specifically, this dataset was constructed to represent a sample of customer evaluations and opinions, variation in the perception of a product across geographical regions, and promotional intent or bias in reviews.\n",
              "\n",
              "Over 130+ million customer reviews are available to researchers as part of this release. The data is available in TSV files in the amazon-reviews-pds S3 bucket in AWS US East Region. Each line in the data files corresponds to an individual review (tab delimited, with no quote and escape characters).\n",
              "\n",
              "Each Dataset contains the following columns : \n",
              "  marketplace       - 2 letter country code of the marketplace where the review was written.\n",
              "  customer_id       - Random identifier that can be used to aggregate reviews written by a single author.\n",
              "  review_id         - The unique ID of the review.\n",
              "  product_id        - The unique Product ID the review pertains to. In the multilingual dataset the reviews\n",
              "                      for the same product in different countries can be grouped by the same product_id.\n",
              "  product_parent    - Random identifier that can be used to aggregate reviews for the same product.\n",
              "  product_title     - Title of the product.\n",
              "  product_category  - Broad product category that can be used to group reviews \n",
              "                      (also used to group the dataset into coherent parts).\n",
              "  star_rating       - The 1-5 star rating of the review.\n",
              "  helpful_votes     - Number of helpful votes.\n",
              "  total_votes       - Number of total votes the review received.\n",
              "  vine              - Review was written as part of the Vine program.\n",
              "  verified_purchase - The review is on a verified purchase.\n",
              "  review_headline   - The title of the review.\n",
              "  review_body       - The review text.\n",
              "  review_date       - The date the review was written.',\n",
              "    homepage='https://s3.amazonaws.com/amazon-reviews-pds/readme.html',\n",
              "    features=FeaturesDict({\n",
              "        'data': FeaturesDict({\n",
              "            'customer_id': tf.string,\n",
              "            'helpful_votes': tf.int32,\n",
              "            'marketplace': tf.string,\n",
              "            'product_category': tf.string,\n",
              "            'product_id': tf.string,\n",
              "            'product_parent': tf.string,\n",
              "            'product_title': tf.string,\n",
              "            'review_body': tf.string,\n",
              "            'review_date': tf.string,\n",
              "            'review_headline': tf.string,\n",
              "            'review_id': tf.string,\n",
              "            'star_rating': tf.int32,\n",
              "            'total_votes': tf.int32,\n",
              "            'verified_purchase': ClassLabel(shape=(), dtype=tf.int64, num_classes=2),\n",
              "            'vine': ClassLabel(shape=(), dtype=tf.int64, num_classes=2),\n",
              "        }),\n",
              "    }),\n",
              "    total_num_examples=85981,\n",
              "    splits={\n",
              "        'train': 85981,\n",
              "    },\n",
              "    supervised_keys=None,\n",
              "    citation=\"\"\"\"\"\",\n",
              "    redistribution_info=,\n",
              ")"
            ]
          },
          "metadata": {
            "tags": []
          },
          "execution_count": 35
        }
      ]
    },
    {
      "cell_type": "code",
      "metadata": {
        "id": "DyNy6PMnWR5q"
      },
      "source": [
        "dataset=tfds.as_numpy(train_dataset)"
      ],
      "execution_count": 36,
      "outputs": []
    },
    {
      "cell_type": "code",
      "metadata": {
        "colab": {
          "base_uri": "https://localhost:8080/"
        },
        "id": "HrgXBAyqWbY1",
        "outputId": "3bb59ef7-b077-4213-b853-e3366a8baac0"
      },
      "source": [
        "dataset"
      ],
      "execution_count": 37,
      "outputs": [
        {
          "output_type": "execute_result",
          "data": {
            "text/plain": [
              "{'data': {'customer_id': array([b'13986323', b'50574716', b'50593972', ..., b'40719682',\n",
              "         b'35596948', b'29430209'], dtype=object),\n",
              "  'helpful_votes': array([0, 3, 0, ..., 0, 0, 0], dtype=int32),\n",
              "  'marketplace': array([b'US', b'US', b'US', ..., b'US', b'US', b'US'], dtype=object),\n",
              "  'product_category': array([b'Personal_Care_Appliances', b'Personal_Care_Appliances',\n",
              "         b'Personal_Care_Appliances', ..., b'Personal_Care_Appliances',\n",
              "         b'Personal_Care_Appliances', b'Personal_Care_Appliances'],\n",
              "        dtype=object),\n",
              "  'product_id': array([b'B00847JQZ6', b'B00N5HD340', b'B0077L1X24', ..., b'B000UZ8X2W',\n",
              "         b'B000NURPPK', b'B001EY5GNW'], dtype=object),\n",
              "  'product_parent': array([b'997683625', b'955577225', b'120764066', ..., b'96066145',\n",
              "         b'58591097', b'986877728'], dtype=object),\n",
              "  'product_title': array([b'SE - Reading Glass - Spring Loaded Hinges, 4.0x - RTS62400',\n",
              "         b'Straight Razor',\n",
              "         b'Philips Sonicare Flexcare & Healthy White Plastic Travel Handle Case New Bulk Package',\n",
              "         ...,\n",
              "         b'Remington R-9200 Microflex Ultra TCT Shaver [Health and Beauty]',\n",
              "         b'SUNBEAM Cool Mist HUMIDIFIER with PermaFilter # 1120 \\xe2\\x80\\x93 1 Ea',\n",
              "         b'Andis Blade Set for T-Outliner Trimmer'], dtype=object),\n",
              "  'review_body': array([b\"These glasses are an excellent value.  The fit is good and they are very comfortable.  Because of my legal blindness, there aren't a lot of options to try to see better, but I believe these help with my other visual aids, and because they are reasonably priced I can have more than one pair available.\",\n",
              "         b\"Always wanted to try straight razor shaving (as a DE safety razor user), and this was a cheap way for me to determine I was not into it.<br /><br />Because the blades are disposable and always sharp, I could put a new one in and reasonably rely upon that fact that cuts were probably due to my technique and not the blade.<br /><br />It's very hard to do straight razor shaving on yourself because the ANGLE is difficult to control without switching hands. Being very right-handed, I really couldn't do that. I bet I could shave someone else's face with it though.<br /><br />An immediate upside? Using a DE safety razor (slant edged even) seems SUPER safe now! I'm increased my speed with the DE due to that confidence, and I'd been using it for years now.\",\n",
              "         b'I usually either throw my toothbrush in a plastic bag with spare head so this product is very convenient for keeping all the parts apart, dry and undamaged, and i now keep it in my travel bag all the time ready to go.',\n",
              "         ...,\n",
              "         b\"I have had a Remington before but needed a new one when the batteries died and the cutters were all but gone.  It was cheaper to buy a new one.  The new one has a nice charge level but the trimmer didn't work when I got it.\",\n",
              "         b\"I was surprised that it really didn't do much compared to the 1950s version that I'd inherited. Keeping a wet wash cloth next to my bed for when I start coughing in the middle of the night works better.\",\n",
              "         b'The blades were an excellent fit for my T-line trimmers.  Within five minutes I had my trimmers cleaned, the blades installed, and was putting them to use.  I saw the blades in several locations for almost twice the price I paid, so this worked out to be an awesome deal.'],\n",
              "        dtype=object),\n",
              "  'review_date': array([b'2015-01-04', b'2015-08-05', b'2012-11-17', ..., b'2008-02-08',\n",
              "         b'2007-09-07', b'2012-07-26'], dtype=object),\n",
              "  'review_headline': array([b'These glasses are an excellent value. The fit is good and they are ...',\n",
              "         b'A fantastic way to cheaply try straight razor shaving.',\n",
              "         b'Great for travel', ..., b'Trimmer Not Working',\n",
              "         b'Loud and ineffectual', b'Excellent product, awesomoe price'],\n",
              "        dtype=object),\n",
              "  'review_id': array([b'R3VEUFVA9QJY55', b'R2DTQV5SMJ0CK7', b'R3OJ06NK99WLNJ', ...,\n",
              "         b'R1ZQ0XZXOD9N18', b'R1FJ9OU429X00Y', b'RI28R1W94N1R6'],\n",
              "        dtype=object),\n",
              "  'star_rating': array([4, 5, 4, ..., 3, 2, 5], dtype=int32),\n",
              "  'total_votes': array([0, 3, 0, ..., 0, 0, 0], dtype=int32),\n",
              "  'verified_purchase': array([0, 0, 0, ..., 1, 0, 0]),\n",
              "  'vine': array([1, 1, 1, ..., 1, 1, 1])}}"
            ]
          },
          "metadata": {
            "tags": []
          },
          "execution_count": 37
        }
      ]
    },
    {
      "cell_type": "code",
      "metadata": {
        "id": "PTNwk0W1WdtK"
      },
      "source": [
        "helpful_votes=dataset['data']['helpful_votes']\n",
        "review_headline=dataset['data']['review_headline']\n",
        "review_body=dataset['data']['review_body']\n",
        "rating=dataset['data']['star_rating']"
      ],
      "execution_count": 38,
      "outputs": []
    },
    {
      "cell_type": "code",
      "metadata": {
        "colab": {
          "base_uri": "https://localhost:8080/"
        },
        "id": "tsa0DoekW0XG",
        "outputId": "9926a170-476c-402e-83fd-351602dd5e7b"
      },
      "source": [
        "h2o_df=h2o.H2OFrame(np.hstack((helpful_votes[:,None],review_headline[:,None],review_body[:,None],rating[:,None])),column_names=['votes','headline','reviews','rating'],column_types=['numeric','string','string','numeric'])"
      ],
      "execution_count": 39,
      "outputs": [
        {
          "output_type": "stream",
          "text": [
            "Parse progress: |█████████████████████████████████████████████████████████| 100%\n"
          ],
          "name": "stdout"
        }
      ]
    },
    {
      "cell_type": "code",
      "metadata": {
        "colab": {
          "base_uri": "https://localhost:8080/",
          "height": 913
        },
        "id": "edu5dcW-W4_I",
        "outputId": "1434a8cf-61f9-4ea4-fd29-3e668aeb1a95"
      },
      "source": [
        "h2o_df"
      ],
      "execution_count": 40,
      "outputs": [
        {
          "output_type": "display_data",
          "data": {
            "text/html": [
              "<table>\n",
              "<thead>\n",
              "<tr><th style=\"text-align: right;\">  votes</th><th>headline                                                                 </th><th>reviews                                                                                                                                                                                                                                                                                                                                                                                                                                                                                                                                                                                                                                                                                                                                                                                                                                                                                                                                                                                                                                                                                                                           </th><th style=\"text-align: right;\">  rating</th></tr>\n",
              "</thead>\n",
              "<tbody>\n",
              "<tr><td style=\"text-align: right;\">      0</td><td>b&#x27;These glasses are an excellent value. The fit is good and they are ...&#x27;</td><td>b&quot;These glasses are an excellent value.  The fit is good and they are very comfortable.  Because of my legal blindness, there aren&#x27;t a lot of options to try to see better, but I believe these help with my other visual aids, and because they are reasonably priced I can have more than one pair available.&quot;                                                                                                                                                                                                                                                                                                                                                                                                                                                                                                                                                                                                                                                                                                                                                                                                                  </td><td style=\"text-align: right;\">       4</td></tr>\n",
              "<tr><td style=\"text-align: right;\">      3</td><td>b&#x27;A fantastic way to cheaply try straight razor shaving.&#x27;                </td><td>b&quot;Always wanted to try straight razor shaving (as a DE safety razor user), and this was a cheap way for me to determine I was not into it.&lt;br /&gt;&lt;br /&gt;Because the blades are disposable and always sharp, I could put a new one in and reasonably rely upon that fact that cuts were probably due to my technique and not the blade.&lt;br /&gt;&lt;br /&gt;It&#x27;s very hard to do straight razor shaving on yourself because the ANGLE is difficult to control without switching hands. Being very right-handed, I really couldn&#x27;t do that. I bet I could shave someone else&#x27;s face with it though.&lt;br /&gt;&lt;br /&gt;An immediate upside? Using a DE safety razor (slant edged even) seems SUPER safe now! I&#x27;m increased my speed with the DE due to that confidence, and I&#x27;d been using it for years now.&quot;                                                                                                                                                                                                                                                                                                                                          </td><td style=\"text-align: right;\">       5</td></tr>\n",
              "<tr><td style=\"text-align: right;\">      0</td><td>b&#x27;Great for travel&#x27;                                                      </td><td>b&#x27;I usually either throw my toothbrush in a plastic bag with spare head so this product is very convenient for keeping all the parts apart, dry and undamaged, and i now keep it in my travel bag all the time ready to go.&#x27;                                                                                                                                                                                                                                                                                                                                                                                                                                                                                                                                                                                                                                                                                                                                                                                                                                                                                                      </td><td style=\"text-align: right;\">       4</td></tr>\n",
              "<tr><td style=\"text-align: right;\">      0</td><td>b&#x27;Five Stars&#x27;                                                            </td><td>b&#x27;Top quality.&#x27;                                                                                                                                                                                                                                                                                                                                                                                                                                                                                                                                                                                                                                                                                                                                                                                                                                                                                                                                                                                                                                                                                                                   </td><td style=\"text-align: right;\">       5</td></tr>\n",
              "<tr><td style=\"text-align: right;\">      1</td><td>b&#x27;*Product sent not as shown&#x27;                                            </td><td>b&#x27;Today I received  1 Fl. Oz, Natures Balance AlkaMAX alkaline booster liquid unflavored (formally TriMedica) a glass brown bottle with eye dropper.&lt;br /&gt;Supplement Facts; Serving Size: 10 Drops (Approx. 0.5 mL). Servings per Container: Approx. 60&lt;br /&gt;Amount Per Serving % Daily Value&lt;br /&gt;Magnesium (as Magnesium Chloride) 40 mg 10%&lt;br /&gt;Chloride (as Magnesium Chloride) 64 mg 2%&lt;br /&gt;Other Ingredients: Deionized water and trace mineral complex.&lt;br /&gt;Directions: Add 10 drops to 8 oz. of water or other beverage daily as needed or as directed by your health care practitioner. Store in a cool, dry place.&lt;br /&gt;&lt;br /&gt;I have not used product as of yet with changed ingredients of original/as shown in AlkaMax alkaline support white squeeze bottle.&lt;br /&gt;but had to rate to post...heck this new may be better for all I know.&#x27;                                                                                                                                                                                                                                                                          </td><td style=\"text-align: right;\">       3</td></tr>\n",
              "<tr><td style=\"text-align: right;\">      6</td><td>b&#x27;Seems to work well!&#x27;                                                   </td><td>b&#x27;I recently picked this unit up at Bed and Bath where it was $99.00. With a 20% coupon the price was $80 (so comparison shop!) It\\&#x27;s easy to use and seems to work well. I agree with other reviewers about the noise level (loud like a tea kettle boiling), but I use this unit in the living room area so sleeping is not an issue. Having the 2 separate water reservoirs to fill is much easier, weight-wise, as I previously had another humidifier which had one large water reservoir and it was very heavy when full. The unit comes apart quite easily for cleaning and since frequent cleaning is recommended (I usually do it 1x per week, not daily) this is a definite plus. Additionally, one only needs to use vinegar to clean the inside reservoir, which is a lot cheaper than having to buy some kind of \\\\\\\\&quot;special\\\\\\\\&quot; cleaning solution. My one complaint is that it doesn\\&#x27;t, but should, have an automatic shut off when both tanks are empty.I have to remember to turn the unit off when I leave the house. My previous humidifiers all had this auto turn off; seems like every humidifier should.&#x27;</td><td style=\"text-align: right;\">       4</td></tr>\n",
              "<tr><td style=\"text-align: right;\">      8</td><td>b&#x27;deep heat?????&#x27;                                                        </td><td>b&#x27;Not sure what previous reviewer was talking about. The product uses ULTRASOUND waves for pain relief NOT heat.  After repeated use, the pain in my knee and shoulder was feeling great. I think you should re-read the description and reconsider your opinion. Great product sold by a great company.&#x27;                                                                                                                                                                                                                                                                                                                                                                                                                                                                                                                                                                                                                                                                                                                                                                                                                         </td><td style=\"text-align: right;\">       5</td></tr>\n",
              "<tr><td style=\"text-align: right;\">      2</td><td>b&#x27;Thermometer for a toddler&#x27;                                             </td><td>b&quot;The shippers were great....willing to consider speedier shipping options, but in the end the standard shipping arrived quickly enough. The thermometer is fun and easy to use, but with an inquisitive toddler, it would be nice to have the plastic cap attached to the body so that it doesn&#x27;t disappear.  Would buy it again from these sellers.&quot;                                                                                                                                                                                                                                                                                                                                                                                                                                                                                                                                                                                                                                                                                                                                                                            </td><td style=\"text-align: right;\">       4</td></tr>\n",
              "<tr><td style=\"text-align: right;\">      2</td><td>b&#x27;Wow!&#x27;                                                                  </td><td>b&quot;Man, for all you who know what I&#x27;m talking about, this is the best thing I&#x27;ve ever had on my back.  I suffer from back pain constantly and find myself waking up in the middle of the night pushing parts of my back and neck on the edges of walls on the corners of doors and sometimes lying down on tennis or racket balls to get pressure on those dang trigger points.  I opted for the body sticks package not knowing what they would do and it was a good thing.  They are like have racket balls on the ends of sticks to beat your muscle spasms and to lie down on them rolling around on your back. It is worth the money.  They use a device similar to this in physical therapy so if you get your doctor to write you a script for it, insurance may very well pay for it like mine did.  Even so, paid or not, buy this sucker.  Buy two, I thought, just in case it breaks and they for some reason stop manufacturing this thing.  Good stuff.&quot;                                                                                                                                                              </td><td style=\"text-align: right;\">       5</td></tr>\n",
              "<tr><td style=\"text-align: right;\">      1</td><td>b&#x27;Great cane for people with hand and wrist issues&#x27;                      </td><td>b&quot;I purchased this cane to assist me when I have to walk long distances.  I have rheumatoid arthritis that has particularly affected my low back and hips, and it sometimes makes walking difficult.  The problem with using a cane when you have RA is that RA doesn&#x27;t just affect your lower extremities.  My hands, wrists, and shoulders are also affected.  When I tried a normal cane, it was agonizingly painful for my hand and wrist in particular.  That made it not worth using, even though it did help my hip and back.  A friend with similar issues recommended this one, and the difference was amazing.  It is still a bit hard on my hand after awhile, but not to the point that would make it not worth using.  There really is no perfect solution for this circumstance short of a wheelchair, and I&#x27;m nowhere near ready for that yet!  The forearm rest makes it bearable to use this cane, and it does really help me to walk longer distances when I need to!  It is a great product, and I&#x27;m happy that I purchased it!&quot;                                                                               </td><td style=\"text-align: right;\">       4</td></tr>\n",
              "</tbody>\n",
              "</table>"
            ]
          },
          "metadata": {
            "tags": []
          }
        },
        {
          "output_type": "execute_result",
          "data": {
            "text/plain": [
              ""
            ]
          },
          "metadata": {
            "tags": []
          },
          "execution_count": 40
        }
      ]
    },
    {
      "cell_type": "code",
      "metadata": {
        "id": "IBPh_qTDXXwy"
      },
      "source": [
        "h2o_df[\"target\"] = (h2o_df[\"rating\"] >= 4).ifelse(\"1\", \"0\")"
      ],
      "execution_count": 41,
      "outputs": []
    },
    {
      "cell_type": "code",
      "metadata": {
        "colab": {
          "base_uri": "https://localhost:8080/",
          "height": 947
        },
        "id": "KJXJ9LB5Xdfz",
        "outputId": "8c427137-a329-4376-f712-8cc07a06908e"
      },
      "source": [
        "h2o_df"
      ],
      "execution_count": 42,
      "outputs": [
        {
          "output_type": "display_data",
          "data": {
            "text/html": [
              "<table>\n",
              "<thead>\n",
              "<tr><th style=\"text-align: right;\">  votes</th><th>headline                                                                 </th><th>reviews                                                                                                                                                                                                                                                                                                                                                                                                                                                                                                                                                                                                                                                                                                                                                                                                                                                                                                                                                                                                                                                                                                                           </th><th style=\"text-align: right;\">  rating</th><th style=\"text-align: right;\">  target</th></tr>\n",
              "</thead>\n",
              "<tbody>\n",
              "<tr><td style=\"text-align: right;\">      0</td><td>b&#x27;These glasses are an excellent value. The fit is good and they are ...&#x27;</td><td>b&quot;These glasses are an excellent value.  The fit is good and they are very comfortable.  Because of my legal blindness, there aren&#x27;t a lot of options to try to see better, but I believe these help with my other visual aids, and because they are reasonably priced I can have more than one pair available.&quot;                                                                                                                                                                                                                                                                                                                                                                                                                                                                                                                                                                                                                                                                                                                                                                                                                  </td><td style=\"text-align: right;\">       4</td><td style=\"text-align: right;\">       1</td></tr>\n",
              "<tr><td style=\"text-align: right;\">      3</td><td>b&#x27;A fantastic way to cheaply try straight razor shaving.&#x27;                </td><td>b&quot;Always wanted to try straight razor shaving (as a DE safety razor user), and this was a cheap way for me to determine I was not into it.&lt;br /&gt;&lt;br /&gt;Because the blades are disposable and always sharp, I could put a new one in and reasonably rely upon that fact that cuts were probably due to my technique and not the blade.&lt;br /&gt;&lt;br /&gt;It&#x27;s very hard to do straight razor shaving on yourself because the ANGLE is difficult to control without switching hands. Being very right-handed, I really couldn&#x27;t do that. I bet I could shave someone else&#x27;s face with it though.&lt;br /&gt;&lt;br /&gt;An immediate upside? Using a DE safety razor (slant edged even) seems SUPER safe now! I&#x27;m increased my speed with the DE due to that confidence, and I&#x27;d been using it for years now.&quot;                                                                                                                                                                                                                                                                                                                                          </td><td style=\"text-align: right;\">       5</td><td style=\"text-align: right;\">       1</td></tr>\n",
              "<tr><td style=\"text-align: right;\">      0</td><td>b&#x27;Great for travel&#x27;                                                      </td><td>b&#x27;I usually either throw my toothbrush in a plastic bag with spare head so this product is very convenient for keeping all the parts apart, dry and undamaged, and i now keep it in my travel bag all the time ready to go.&#x27;                                                                                                                                                                                                                                                                                                                                                                                                                                                                                                                                                                                                                                                                                                                                                                                                                                                                                                      </td><td style=\"text-align: right;\">       4</td><td style=\"text-align: right;\">       1</td></tr>\n",
              "<tr><td style=\"text-align: right;\">      0</td><td>b&#x27;Five Stars&#x27;                                                            </td><td>b&#x27;Top quality.&#x27;                                                                                                                                                                                                                                                                                                                                                                                                                                                                                                                                                                                                                                                                                                                                                                                                                                                                                                                                                                                                                                                                                                                   </td><td style=\"text-align: right;\">       5</td><td style=\"text-align: right;\">       1</td></tr>\n",
              "<tr><td style=\"text-align: right;\">      1</td><td>b&#x27;*Product sent not as shown&#x27;                                            </td><td>b&#x27;Today I received  1 Fl. Oz, Natures Balance AlkaMAX alkaline booster liquid unflavored (formally TriMedica) a glass brown bottle with eye dropper.&lt;br /&gt;Supplement Facts; Serving Size: 10 Drops (Approx. 0.5 mL). Servings per Container: Approx. 60&lt;br /&gt;Amount Per Serving % Daily Value&lt;br /&gt;Magnesium (as Magnesium Chloride) 40 mg 10%&lt;br /&gt;Chloride (as Magnesium Chloride) 64 mg 2%&lt;br /&gt;Other Ingredients: Deionized water and trace mineral complex.&lt;br /&gt;Directions: Add 10 drops to 8 oz. of water or other beverage daily as needed or as directed by your health care practitioner. Store in a cool, dry place.&lt;br /&gt;&lt;br /&gt;I have not used product as of yet with changed ingredients of original/as shown in AlkaMax alkaline support white squeeze bottle.&lt;br /&gt;but had to rate to post...heck this new may be better for all I know.&#x27;                                                                                                                                                                                                                                                                          </td><td style=\"text-align: right;\">       3</td><td style=\"text-align: right;\">       0</td></tr>\n",
              "<tr><td style=\"text-align: right;\">      6</td><td>b&#x27;Seems to work well!&#x27;                                                   </td><td>b&#x27;I recently picked this unit up at Bed and Bath where it was $99.00. With a 20% coupon the price was $80 (so comparison shop!) It\\&#x27;s easy to use and seems to work well. I agree with other reviewers about the noise level (loud like a tea kettle boiling), but I use this unit in the living room area so sleeping is not an issue. Having the 2 separate water reservoirs to fill is much easier, weight-wise, as I previously had another humidifier which had one large water reservoir and it was very heavy when full. The unit comes apart quite easily for cleaning and since frequent cleaning is recommended (I usually do it 1x per week, not daily) this is a definite plus. Additionally, one only needs to use vinegar to clean the inside reservoir, which is a lot cheaper than having to buy some kind of \\\\\\\\&quot;special\\\\\\\\&quot; cleaning solution. My one complaint is that it doesn\\&#x27;t, but should, have an automatic shut off when both tanks are empty.I have to remember to turn the unit off when I leave the house. My previous humidifiers all had this auto turn off; seems like every humidifier should.&#x27;</td><td style=\"text-align: right;\">       4</td><td style=\"text-align: right;\">       1</td></tr>\n",
              "<tr><td style=\"text-align: right;\">      8</td><td>b&#x27;deep heat?????&#x27;                                                        </td><td>b&#x27;Not sure what previous reviewer was talking about. The product uses ULTRASOUND waves for pain relief NOT heat.  After repeated use, the pain in my knee and shoulder was feeling great. I think you should re-read the description and reconsider your opinion. Great product sold by a great company.&#x27;                                                                                                                                                                                                                                                                                                                                                                                                                                                                                                                                                                                                                                                                                                                                                                                                                         </td><td style=\"text-align: right;\">       5</td><td style=\"text-align: right;\">       1</td></tr>\n",
              "<tr><td style=\"text-align: right;\">      2</td><td>b&#x27;Thermometer for a toddler&#x27;                                             </td><td>b&quot;The shippers were great....willing to consider speedier shipping options, but in the end the standard shipping arrived quickly enough. The thermometer is fun and easy to use, but with an inquisitive toddler, it would be nice to have the plastic cap attached to the body so that it doesn&#x27;t disappear.  Would buy it again from these sellers.&quot;                                                                                                                                                                                                                                                                                                                                                                                                                                                                                                                                                                                                                                                                                                                                                                            </td><td style=\"text-align: right;\">       4</td><td style=\"text-align: right;\">       1</td></tr>\n",
              "<tr><td style=\"text-align: right;\">      2</td><td>b&#x27;Wow!&#x27;                                                                  </td><td>b&quot;Man, for all you who know what I&#x27;m talking about, this is the best thing I&#x27;ve ever had on my back.  I suffer from back pain constantly and find myself waking up in the middle of the night pushing parts of my back and neck on the edges of walls on the corners of doors and sometimes lying down on tennis or racket balls to get pressure on those dang trigger points.  I opted for the body sticks package not knowing what they would do and it was a good thing.  They are like have racket balls on the ends of sticks to beat your muscle spasms and to lie down on them rolling around on your back. It is worth the money.  They use a device similar to this in physical therapy so if you get your doctor to write you a script for it, insurance may very well pay for it like mine did.  Even so, paid or not, buy this sucker.  Buy two, I thought, just in case it breaks and they for some reason stop manufacturing this thing.  Good stuff.&quot;                                                                                                                                                              </td><td style=\"text-align: right;\">       5</td><td style=\"text-align: right;\">       1</td></tr>\n",
              "<tr><td style=\"text-align: right;\">      1</td><td>b&#x27;Great cane for people with hand and wrist issues&#x27;                      </td><td>b&quot;I purchased this cane to assist me when I have to walk long distances.  I have rheumatoid arthritis that has particularly affected my low back and hips, and it sometimes makes walking difficult.  The problem with using a cane when you have RA is that RA doesn&#x27;t just affect your lower extremities.  My hands, wrists, and shoulders are also affected.  When I tried a normal cane, it was agonizingly painful for my hand and wrist in particular.  That made it not worth using, even though it did help my hip and back.  A friend with similar issues recommended this one, and the difference was amazing.  It is still a bit hard on my hand after awhile, but not to the point that would make it not worth using.  There really is no perfect solution for this circumstance short of a wheelchair, and I&#x27;m nowhere near ready for that yet!  The forearm rest makes it bearable to use this cane, and it does really help me to walk longer distances when I need to!  It is a great product, and I&#x27;m happy that I purchased it!&quot;                                                                               </td><td style=\"text-align: right;\">       4</td><td style=\"text-align: right;\">       1</td></tr>\n",
              "</tbody>\n",
              "</table>"
            ]
          },
          "metadata": {
            "tags": []
          }
        },
        {
          "output_type": "execute_result",
          "data": {
            "text/plain": [
              ""
            ]
          },
          "metadata": {
            "tags": []
          },
          "execution_count": 42
        }
      ]
    },
    {
      "cell_type": "code",
      "metadata": {
        "colab": {
          "base_uri": "https://localhost:8080/",
          "height": 82
        },
        "id": "vP-K4qu-XwNA",
        "outputId": "78012d61-cdb4-4709-8e48-f0850fc686a0"
      },
      "source": [
        "h2o_df[\"target\"].table()"
      ],
      "execution_count": 43,
      "outputs": [
        {
          "output_type": "display_data",
          "data": {
            "text/html": [
              "<table>\n",
              "<thead>\n",
              "<tr><th style=\"text-align: right;\">  target</th><th style=\"text-align: right;\">  Count</th></tr>\n",
              "</thead>\n",
              "<tbody>\n",
              "<tr><td style=\"text-align: right;\">       0</td><td style=\"text-align: right;\">  23427</td></tr>\n",
              "<tr><td style=\"text-align: right;\">       1</td><td style=\"text-align: right;\">  62554</td></tr>\n",
              "</tbody>\n",
              "</table>"
            ]
          },
          "metadata": {
            "tags": []
          }
        },
        {
          "output_type": "execute_result",
          "data": {
            "text/plain": [
              ""
            ]
          },
          "metadata": {
            "tags": []
          },
          "execution_count": 43
        }
      ]
    },
    {
      "cell_type": "code",
      "metadata": {
        "colab": {
          "base_uri": "https://localhost:8080/"
        },
        "id": "aNlzkcTMZIXv",
        "outputId": "e66d3d89-a7ad-483a-8fb0-4b9887f171a1"
      },
      "source": [
        "import nltk\n",
        "from nltk.corpus import stopwords\n",
        "nltk.download('stopwords')\n",
        "stop_words = set(stopwords.words('english'))"
      ],
      "execution_count": 44,
      "outputs": [
        {
          "output_type": "stream",
          "text": [
            "[nltk_data] Downloading package stopwords to /root/nltk_data...\n",
            "[nltk_data]   Unzipping corpora/stopwords.zip.\n"
          ],
          "name": "stdout"
        }
      ]
    },
    {
      "cell_type": "code",
      "metadata": {
        "id": "UcnhqE42Z3EM"
      },
      "source": [
        "def tokenize(line):\n",
        "  tokenized = line.tokenize(\"\\\\W+\")\n",
        "  tokenized = tokenized.tolower()\n",
        "  tokenized = tokenized[(tokenized.nchar() >= 2) | (tokenized.isna()),:]\n",
        "  tokenized_filter = tokenized[(tokenized.isna()) | (~ tokenized.isin(stop_words)),:]\n",
        "  return tokenized_filter"
      ],
      "execution_count": 45,
      "outputs": []
    },
    {
      "cell_type": "code",
      "metadata": {
        "id": "pNs44L_aZ9jC"
      },
      "source": [
        "words_reviews = tokenize(h2o_df[\"reviews\"])"
      ],
      "execution_count": 46,
      "outputs": []
    },
    {
      "cell_type": "code",
      "metadata": {
        "id": "kfEepUFpaC-q"
      },
      "source": [
        "words_headline = tokenize(h2o_df[\"headline\"])"
      ],
      "execution_count": 47,
      "outputs": []
    },
    {
      "cell_type": "code",
      "metadata": {
        "id": "r2mU9_FLaLzP"
      },
      "source": [
        "from h2o.estimators.word2vec import H2OWord2vecEstimator\n",
        "from h2o.estimators import H2OGradientBoostingEstimator, H2OXGBoostEstimator"
      ],
      "execution_count": 48,
      "outputs": []
    },
    {
      "cell_type": "code",
      "metadata": {
        "colab": {
          "base_uri": "https://localhost:8080/"
        },
        "id": "3j8YggdYmu59",
        "outputId": "ed628534-7533-48bb-f784-c9faef6614d2"
      },
      "source": [
        "vec_model = H2OWord2vecEstimator(vec_size = 100, model_id = \"w2v_amazon.model\")\n",
        "vec_model.train(training_frame=words_reviews)"
      ],
      "execution_count": 49,
      "outputs": [
        {
          "output_type": "stream",
          "text": [
            "word2vec Model Build progress: |██████████████████████████████████████████| 100%\n"
          ],
          "name": "stdout"
        }
      ]
    },
    {
      "cell_type": "code",
      "metadata": {
        "colab": {
          "base_uri": "https://localhost:8080/",
          "height": 35
        },
        "id": "AkITw0JIoaM0",
        "outputId": "eb1e8f62-8bb5-4806-940a-3dae0fbf549d"
      },
      "source": [
        "h2o.save_model(vec_model,path='./')"
      ],
      "execution_count": 50,
      "outputs": [
        {
          "output_type": "execute_result",
          "data": {
            "application/vnd.google.colaboratory.intrinsic+json": {
              "type": "string"
            },
            "text/plain": [
              "'/content/w2v_amazon.model'"
            ]
          },
          "metadata": {
            "tags": []
          },
          "execution_count": 50
        }
      ]
    },
    {
      "cell_type": "code",
      "metadata": {
        "id": "F1U3r3-VolQo"
      },
      "source": [
        "vec_model=h2o.load_model(\"w2v_amazon.model\")"
      ],
      "execution_count": 51,
      "outputs": []
    },
    {
      "cell_type": "code",
      "metadata": {
        "colab": {
          "base_uri": "https://localhost:8080/"
        },
        "id": "ONtbCZ4BotEh",
        "outputId": "edf80fe8-065b-480c-db28-ac7718cf081f"
      },
      "source": [
        "vec_model.find_synonyms(\"perfumes\", count = 5)"
      ],
      "execution_count": 52,
      "outputs": [
        {
          "output_type": "execute_result",
          "data": {
            "text/plain": [
              "OrderedDict([('scents', 0.6910654902458191),\n",
              "             ('patchouli', 0.6740429997444153),\n",
              "             ('febreze', 0.6660743951797485),\n",
              "             ('ammonia', 0.6595839262008667),\n",
              "             ('fragrances', 0.6517752408981323)])"
            ]
          },
          "metadata": {
            "tags": []
          },
          "execution_count": 52
        }
      ]
    },
    {
      "cell_type": "code",
      "metadata": {
        "colab": {
          "base_uri": "https://localhost:8080/"
        },
        "id": "MBClIsT8o_xY",
        "outputId": "87d49c8f-a201-4a25-e89d-bdf31d5e084d"
      },
      "source": [
        "vec_model.find_synonyms(\"toothpaste\", count = 5)"
      ],
      "execution_count": 53,
      "outputs": [
        {
          "output_type": "execute_result",
          "data": {
            "text/plain": [
              "OrderedDict([('listerine', 0.7461931109428406),\n",
              "             ('mouthwash', 0.7318481802940369),\n",
              "             ('plax', 0.7108482718467712),\n",
              "             ('ultreo', 0.6934536099433899),\n",
              "             ('whitening', 0.6929551362991333)])"
            ]
          },
          "metadata": {
            "tags": []
          },
          "execution_count": 53
        }
      ]
    },
    {
      "cell_type": "code",
      "metadata": {
        "colab": {
          "base_uri": "https://localhost:8080/"
        },
        "id": "Cv0-6vDqpBbt",
        "outputId": "e247b298-406c-4589-aaa5-8966abe0feae"
      },
      "source": [
        "vec_model.find_synonyms(\"glasses\", count = 5)"
      ],
      "execution_count": 54,
      "outputs": [
        {
          "output_type": "execute_result",
          "data": {
            "text/plain": [
              "OrderedDict([('sunglasses', 0.8971438407897949),\n",
              "             ('readers', 0.8649334907531738),\n",
              "             ('lenses', 0.8119096159934998),\n",
              "             ('bifocal', 0.7958155870437622),\n",
              "             ('bifocals', 0.7945257425308228)])"
            ]
          },
          "metadata": {
            "tags": []
          },
          "execution_count": 54
        }
      ]
    },
    {
      "cell_type": "code",
      "metadata": {
        "id": "K89KpfospBim"
      },
      "source": [
        "\n",
        "review_vecs = vec_model.transform(words_reviews, aggregate_method = \"AVERAGE\")"
      ],
      "execution_count": 55,
      "outputs": []
    },
    {
      "cell_type": "code",
      "metadata": {
        "id": "gqBKLSuvpBl5"
      },
      "source": [
        "h2o_df_ext=h2o_df.cbind(review_vecs)"
      ],
      "execution_count": 56,
      "outputs": []
    },
    {
      "cell_type": "code",
      "metadata": {
        "id": "pHBki3flpBpD"
      },
      "source": [
        "h2o_train,h2o_valid = h2o_df_ext.split_frame(ratios=[.8])"
      ],
      "execution_count": 57,
      "outputs": []
    },
    {
      "cell_type": "code",
      "metadata": {
        "colab": {
          "base_uri": "https://localhost:8080/",
          "height": 82
        },
        "id": "JNPMjdXTpBsO",
        "outputId": "b2e71fb9-3009-4a5a-e324-c3669f301fb8"
      },
      "source": [
        "h2o_valid['target'].table()"
      ],
      "execution_count": 58,
      "outputs": [
        {
          "output_type": "display_data",
          "data": {
            "text/html": [
              "<table>\n",
              "<thead>\n",
              "<tr><th style=\"text-align: right;\">  target</th><th style=\"text-align: right;\">  Count</th></tr>\n",
              "</thead>\n",
              "<tbody>\n",
              "<tr><td style=\"text-align: right;\">       0</td><td style=\"text-align: right;\">   4635</td></tr>\n",
              "<tr><td style=\"text-align: right;\">       1</td><td style=\"text-align: right;\">  12562</td></tr>\n",
              "</tbody>\n",
              "</table>"
            ]
          },
          "metadata": {
            "tags": []
          }
        },
        {
          "output_type": "execute_result",
          "data": {
            "text/plain": [
              ""
            ]
          },
          "metadata": {
            "tags": []
          },
          "execution_count": 58
        }
      ]
    },
    {
      "cell_type": "code",
      "metadata": {
        "id": "7UladOhJpBvC"
      },
      "source": [
        "gbm_baseline = H2OGradientBoostingEstimator(stopping_metric = \"AUC\", stopping_tolerance = 0.001,\n",
        "                                              stopping_rounds = 5, score_tree_interval = 10                                             \n",
        "                                             )"
      ],
      "execution_count": 59,
      "outputs": []
    },
    {
      "cell_type": "code",
      "metadata": {
        "colab": {
          "base_uri": "https://localhost:8080/"
        },
        "id": "PDnrlVCgqrpl",
        "outputId": "ee315b13-0bdb-4d0f-9c23-32ba57f21702"
      },
      "source": [
        "gbm_baseline.train(x=review_vecs.names, y='target', training_frame = h2o_train, validation_frame=h2o_valid)"
      ],
      "execution_count": 60,
      "outputs": [
        {
          "output_type": "stream",
          "text": [
            "gbm Model Build progress: |███████████████████████████████████████████████| 100%\n"
          ],
          "name": "stdout"
        }
      ]
    },
    {
      "cell_type": "code",
      "metadata": {
        "colab": {
          "base_uri": "https://localhost:8080/"
        },
        "id": "LpEFVwIPqrsb",
        "outputId": "79ddf6ea-8e9a-4c49-8eb4-5130de83474c"
      },
      "source": [
        "print(\"Baseline AUC: \" + str(round(gbm_baseline.auc(valid = True), 3)))"
      ],
      "execution_count": 61,
      "outputs": [
        {
          "output_type": "stream",
          "text": [
            "Baseline AUC: 0.875\n"
          ],
          "name": "stdout"
        }
      ]
    },
    {
      "cell_type": "code",
      "metadata": {
        "colab": {
          "base_uri": "https://localhost:8080/",
          "height": 176
        },
        "id": "F0OHhXhcqrvu",
        "outputId": "2eee442a-bd2c-4d2c-9ab1-9dc3534da37b"
      },
      "source": [
        "gbm_baseline.confusion_matrix(valid=True)"
      ],
      "execution_count": 62,
      "outputs": [
        {
          "output_type": "stream",
          "text": [
            "\n",
            "Confusion Matrix (Act/Pred) for max f1 @ threshold = 0.49048697809237446: \n"
          ],
          "name": "stdout"
        },
        {
          "output_type": "display_data",
          "data": {
            "text/html": [
              "<div>\n",
              "<style scoped>\n",
              "    .dataframe tbody tr th:only-of-type {\n",
              "        vertical-align: middle;\n",
              "    }\n",
              "\n",
              "    .dataframe tbody tr th {\n",
              "        vertical-align: top;\n",
              "    }\n",
              "\n",
              "    .dataframe thead th {\n",
              "        text-align: right;\n",
              "    }\n",
              "</style>\n",
              "<table border=\"1\" class=\"dataframe\">\n",
              "  <thead>\n",
              "    <tr style=\"text-align: right;\">\n",
              "      <th></th>\n",
              "      <th></th>\n",
              "      <th>0</th>\n",
              "      <th>1</th>\n",
              "      <th>Error</th>\n",
              "      <th>Rate</th>\n",
              "    </tr>\n",
              "  </thead>\n",
              "  <tbody>\n",
              "    <tr>\n",
              "      <th>0</th>\n",
              "      <td>0</td>\n",
              "      <td>2345.0</td>\n",
              "      <td>2290.0</td>\n",
              "      <td>0.4941</td>\n",
              "      <td>(2290.0/4635.0)</td>\n",
              "    </tr>\n",
              "    <tr>\n",
              "      <th>1</th>\n",
              "      <td>1</td>\n",
              "      <td>655.0</td>\n",
              "      <td>11907.0</td>\n",
              "      <td>0.0521</td>\n",
              "      <td>(655.0/12562.0)</td>\n",
              "    </tr>\n",
              "    <tr>\n",
              "      <th>2</th>\n",
              "      <td>Total</td>\n",
              "      <td>3000.0</td>\n",
              "      <td>14197.0</td>\n",
              "      <td>0.1713</td>\n",
              "      <td>(2945.0/17197.0)</td>\n",
              "    </tr>\n",
              "  </tbody>\n",
              "</table>\n",
              "</div>"
            ],
            "text/plain": [
              "               0        1   Error               Rate\n",
              "0      0  2345.0   2290.0  0.4941    (2290.0/4635.0)\n",
              "1      1   655.0  11907.0  0.0521    (655.0/12562.0)\n",
              "2  Total  3000.0  14197.0  0.1713   (2945.0/17197.0)"
            ]
          },
          "metadata": {
            "tags": []
          }
        },
        {
          "output_type": "execute_result",
          "data": {
            "text/plain": [
              ""
            ]
          },
          "metadata": {
            "tags": []
          },
          "execution_count": 62
        }
      ]
    },
    {
      "cell_type": "code",
      "metadata": {
        "id": "T0uJnL2IrPKM"
      },
      "source": [
        "gbm_balanced = H2OGradientBoostingEstimator(stopping_metric = \"AUC\", stopping_tolerance = 0.001,\n",
        "                                              stopping_rounds = 5, score_tree_interval = 10,\n",
        "                                              balance_classes= True\n",
        "                                             )"
      ],
      "execution_count": 63,
      "outputs": []
    },
    {
      "cell_type": "code",
      "metadata": {
        "colab": {
          "base_uri": "https://localhost:8080/"
        },
        "id": "mkYOkk8Aqry7",
        "outputId": "24c4e694-f6c3-42d5-c7f7-3eb857baae8d"
      },
      "source": [
        "gbm_balanced.train(x=review_vecs.names, y='target', training_frame = h2o_train, validation_frame=h2o_valid)"
      ],
      "execution_count": 64,
      "outputs": [
        {
          "output_type": "stream",
          "text": [
            "gbm Model Build progress: |███████████████████████████████████████████████| 100%\n"
          ],
          "name": "stdout"
        }
      ]
    },
    {
      "cell_type": "code",
      "metadata": {
        "colab": {
          "base_uri": "https://localhost:8080/"
        },
        "id": "B_ggbrG-qr2H",
        "outputId": "47e73b68-e870-4cf1-e988-5cf6ca643468"
      },
      "source": [
        "print(\" Balanced AUC: \" + str(round(gbm_balanced.auc(valid = True), 3)))"
      ],
      "execution_count": 65,
      "outputs": [
        {
          "output_type": "stream",
          "text": [
            " Balanced AUC: 0.875\n"
          ],
          "name": "stdout"
        }
      ]
    },
    {
      "cell_type": "code",
      "metadata": {
        "colab": {
          "base_uri": "https://localhost:8080/",
          "height": 176
        },
        "id": "9VF7o3n7qr5P",
        "outputId": "0e095f29-a0f5-4bce-ed53-38e90654be7d"
      },
      "source": [
        "gbm_balanced.confusion_matrix(valid=True)"
      ],
      "execution_count": 66,
      "outputs": [
        {
          "output_type": "stream",
          "text": [
            "\n",
            "Confusion Matrix (Act/Pred) for max f1 @ threshold = 0.5261134451426308: \n"
          ],
          "name": "stdout"
        },
        {
          "output_type": "display_data",
          "data": {
            "text/html": [
              "<div>\n",
              "<style scoped>\n",
              "    .dataframe tbody tr th:only-of-type {\n",
              "        vertical-align: middle;\n",
              "    }\n",
              "\n",
              "    .dataframe tbody tr th {\n",
              "        vertical-align: top;\n",
              "    }\n",
              "\n",
              "    .dataframe thead th {\n",
              "        text-align: right;\n",
              "    }\n",
              "</style>\n",
              "<table border=\"1\" class=\"dataframe\">\n",
              "  <thead>\n",
              "    <tr style=\"text-align: right;\">\n",
              "      <th></th>\n",
              "      <th></th>\n",
              "      <th>0</th>\n",
              "      <th>1</th>\n",
              "      <th>Error</th>\n",
              "      <th>Rate</th>\n",
              "    </tr>\n",
              "  </thead>\n",
              "  <tbody>\n",
              "    <tr>\n",
              "      <th>0</th>\n",
              "      <td>0</td>\n",
              "      <td>2433.0</td>\n",
              "      <td>2202.0</td>\n",
              "      <td>0.4751</td>\n",
              "      <td>(2202.0/4635.0)</td>\n",
              "    </tr>\n",
              "    <tr>\n",
              "      <th>1</th>\n",
              "      <td>1</td>\n",
              "      <td>739.0</td>\n",
              "      <td>11823.0</td>\n",
              "      <td>0.0588</td>\n",
              "      <td>(739.0/12562.0)</td>\n",
              "    </tr>\n",
              "    <tr>\n",
              "      <th>2</th>\n",
              "      <td>Total</td>\n",
              "      <td>3172.0</td>\n",
              "      <td>14025.0</td>\n",
              "      <td>0.171</td>\n",
              "      <td>(2941.0/17197.0)</td>\n",
              "    </tr>\n",
              "  </tbody>\n",
              "</table>\n",
              "</div>"
            ],
            "text/plain": [
              "               0        1   Error               Rate\n",
              "0      0  2433.0   2202.0  0.4751    (2202.0/4635.0)\n",
              "1      1   739.0  11823.0  0.0588    (739.0/12562.0)\n",
              "2  Total  3172.0  14025.0   0.171   (2941.0/17197.0)"
            ]
          },
          "metadata": {
            "tags": []
          }
        },
        {
          "output_type": "execute_result",
          "data": {
            "text/plain": [
              ""
            ]
          },
          "metadata": {
            "tags": []
          },
          "execution_count": 66
        }
      ]
    },
    {
      "cell_type": "code",
      "metadata": {
        "id": "MtQawl23qr8t"
      },
      "source": [
        "headline_vecs = vec_model.transform(words_headline, aggregate_method = \"AVERAGE\")\n",
        "headline_vecs.names = [\"headline_\" + s for s in headline_vecs.names]"
      ],
      "execution_count": 67,
      "outputs": []
    },
    {
      "cell_type": "code",
      "metadata": {
        "id": "lj6KLLJ3qr_-"
      },
      "source": [
        "h2o_df_ext = h2o_df_ext.cbind(headline_vecs)"
      ],
      "execution_count": 68,
      "outputs": []
    },
    {
      "cell_type": "code",
      "metadata": {
        "id": "LWcLQ9AxtNvf"
      },
      "source": [
        "h2o_train,h2o_valid = h2o_df_ext.split_frame(ratios=[.8])"
      ],
      "execution_count": 69,
      "outputs": []
    },
    {
      "cell_type": "code",
      "metadata": {
        "id": "n2t81AdCtPeh"
      },
      "source": [
        "gbm_all_cols = H2OGradientBoostingEstimator(stopping_metric = \"AUC\", stopping_tolerance = 0.001,\n",
        "                                              stopping_rounds = 5, score_tree_interval = 10\n",
        "                                             )"
      ],
      "execution_count": 70,
      "outputs": []
    },
    {
      "cell_type": "code",
      "metadata": {
        "colab": {
          "base_uri": "https://localhost:8080/"
        },
        "id": "Ru-FoYK7tTun",
        "outputId": "03252f74-30d1-444a-ce54-a808704839f7"
      },
      "source": [
        "gbm_all_cols.train(x=['votes']+headline_vecs.names+review_vecs.names, y='target', training_frame = h2o_train, validation_frame=h2o_valid)"
      ],
      "execution_count": 71,
      "outputs": [
        {
          "output_type": "stream",
          "text": [
            "gbm Model Build progress: |███████████████████████████████████████████████| 100%\n"
          ],
          "name": "stdout"
        }
      ]
    },
    {
      "cell_type": "code",
      "metadata": {
        "colab": {
          "base_uri": "https://localhost:8080/"
        },
        "id": "bRIifvqTtTyJ",
        "outputId": "6b241f32-a48b-46ea-ff07-ec8587ce64e9"
      },
      "source": [
        "print(\" All Columns AUC: \" + str(round(gbm_all_cols.auc(valid = True), 3)))"
      ],
      "execution_count": 72,
      "outputs": [
        {
          "output_type": "stream",
          "text": [
            " All Columns AUC: 0.92\n"
          ],
          "name": "stdout"
        }
      ]
    },
    {
      "cell_type": "code",
      "metadata": {
        "colab": {
          "base_uri": "https://localhost:8080/",
          "height": 176
        },
        "id": "koz4rSnftT1c",
        "outputId": "dfc22bb3-c40a-402b-dbf5-b219713c83db"
      },
      "source": [
        "gbm_all_cols.confusion_matrix(valid=True)"
      ],
      "execution_count": 73,
      "outputs": [
        {
          "output_type": "stream",
          "text": [
            "\n",
            "Confusion Matrix (Act/Pred) for max f1 @ threshold = 0.5218267119076496: \n"
          ],
          "name": "stdout"
        },
        {
          "output_type": "display_data",
          "data": {
            "text/html": [
              "<div>\n",
              "<style scoped>\n",
              "    .dataframe tbody tr th:only-of-type {\n",
              "        vertical-align: middle;\n",
              "    }\n",
              "\n",
              "    .dataframe tbody tr th {\n",
              "        vertical-align: top;\n",
              "    }\n",
              "\n",
              "    .dataframe thead th {\n",
              "        text-align: right;\n",
              "    }\n",
              "</style>\n",
              "<table border=\"1\" class=\"dataframe\">\n",
              "  <thead>\n",
              "    <tr style=\"text-align: right;\">\n",
              "      <th></th>\n",
              "      <th></th>\n",
              "      <th>0</th>\n",
              "      <th>1</th>\n",
              "      <th>Error</th>\n",
              "      <th>Rate</th>\n",
              "    </tr>\n",
              "  </thead>\n",
              "  <tbody>\n",
              "    <tr>\n",
              "      <th>0</th>\n",
              "      <td>0</td>\n",
              "      <td>3004.0</td>\n",
              "      <td>1710.0</td>\n",
              "      <td>0.3627</td>\n",
              "      <td>(1710.0/4714.0)</td>\n",
              "    </tr>\n",
              "    <tr>\n",
              "      <th>1</th>\n",
              "      <td>1</td>\n",
              "      <td>624.0</td>\n",
              "      <td>11849.0</td>\n",
              "      <td>0.05</td>\n",
              "      <td>(624.0/12473.0)</td>\n",
              "    </tr>\n",
              "    <tr>\n",
              "      <th>2</th>\n",
              "      <td>Total</td>\n",
              "      <td>3628.0</td>\n",
              "      <td>13559.0</td>\n",
              "      <td>0.1358</td>\n",
              "      <td>(2334.0/17187.0)</td>\n",
              "    </tr>\n",
              "  </tbody>\n",
              "</table>\n",
              "</div>"
            ],
            "text/plain": [
              "               0        1   Error               Rate\n",
              "0      0  3004.0   1710.0  0.3627    (1710.0/4714.0)\n",
              "1      1   624.0  11849.0    0.05    (624.0/12473.0)\n",
              "2  Total  3628.0  13559.0  0.1358   (2334.0/17187.0)"
            ]
          },
          "metadata": {
            "tags": []
          }
        },
        {
          "output_type": "execute_result",
          "data": {
            "text/plain": [
              ""
            ]
          },
          "metadata": {
            "tags": []
          },
          "execution_count": 73
        }
      ]
    },
    {
      "cell_type": "code",
      "metadata": {
        "colab": {
          "base_uri": "https://localhost:8080/",
          "height": 357
        },
        "id": "sOMRj1qbtT4f",
        "outputId": "d1fce5cd-17f1-4a77-aa09-02c9dd495f93"
      },
      "source": [
        "gbm_all_cols.score_history()"
      ],
      "execution_count": 74,
      "outputs": [
        {
          "output_type": "execute_result",
          "data": {
            "text/html": [
              "<div>\n",
              "<style scoped>\n",
              "    .dataframe tbody tr th:only-of-type {\n",
              "        vertical-align: middle;\n",
              "    }\n",
              "\n",
              "    .dataframe tbody tr th {\n",
              "        vertical-align: top;\n",
              "    }\n",
              "\n",
              "    .dataframe thead th {\n",
              "        text-align: right;\n",
              "    }\n",
              "</style>\n",
              "<table border=\"1\" class=\"dataframe\">\n",
              "  <thead>\n",
              "    <tr style=\"text-align: right;\">\n",
              "      <th></th>\n",
              "      <th></th>\n",
              "      <th>timestamp</th>\n",
              "      <th>duration</th>\n",
              "      <th>number_of_trees</th>\n",
              "      <th>training_rmse</th>\n",
              "      <th>training_logloss</th>\n",
              "      <th>training_auc</th>\n",
              "      <th>training_pr_auc</th>\n",
              "      <th>training_lift</th>\n",
              "      <th>training_classification_error</th>\n",
              "      <th>validation_rmse</th>\n",
              "      <th>validation_logloss</th>\n",
              "      <th>validation_auc</th>\n",
              "      <th>validation_pr_auc</th>\n",
              "      <th>validation_lift</th>\n",
              "      <th>validation_classification_error</th>\n",
              "    </tr>\n",
              "  </thead>\n",
              "  <tbody>\n",
              "    <tr>\n",
              "      <th>0</th>\n",
              "      <td></td>\n",
              "      <td>2021-06-07 13:42:43</td>\n",
              "      <td>0.007 sec</td>\n",
              "      <td>0.0</td>\n",
              "      <td>0.444998</td>\n",
              "      <td>0.585253</td>\n",
              "      <td>0.500000</td>\n",
              "      <td>0.727985</td>\n",
              "      <td>1.000000</td>\n",
              "      <td>0.272015</td>\n",
              "      <td>0.446155</td>\n",
              "      <td>0.587480</td>\n",
              "      <td>0.500000</td>\n",
              "      <td>0.725723</td>\n",
              "      <td>1.000000</td>\n",
              "      <td>0.274277</td>\n",
              "    </tr>\n",
              "    <tr>\n",
              "      <th>1</th>\n",
              "      <td></td>\n",
              "      <td>2021-06-07 13:42:52</td>\n",
              "      <td>9.157 sec</td>\n",
              "      <td>10.0</td>\n",
              "      <td>0.361479</td>\n",
              "      <td>0.421776</td>\n",
              "      <td>0.889547</td>\n",
              "      <td>0.952308</td>\n",
              "      <td>1.372606</td>\n",
              "      <td>0.156060</td>\n",
              "      <td>0.367466</td>\n",
              "      <td>0.431672</td>\n",
              "      <td>0.878522</td>\n",
              "      <td>0.947458</td>\n",
              "      <td>1.377936</td>\n",
              "      <td>0.167219</td>\n",
              "    </tr>\n",
              "    <tr>\n",
              "      <th>2</th>\n",
              "      <td></td>\n",
              "      <td>2021-06-07 13:43:00</td>\n",
              "      <td>17.187 sec</td>\n",
              "      <td>20.0</td>\n",
              "      <td>0.332493</td>\n",
              "      <td>0.364699</td>\n",
              "      <td>0.908835</td>\n",
              "      <td>0.961293</td>\n",
              "      <td>1.373655</td>\n",
              "      <td>0.142265</td>\n",
              "      <td>0.341385</td>\n",
              "      <td>0.378995</td>\n",
              "      <td>0.896858</td>\n",
              "      <td>0.955884</td>\n",
              "      <td>1.377936</td>\n",
              "      <td>0.154477</td>\n",
              "    </tr>\n",
              "    <tr>\n",
              "      <th>3</th>\n",
              "      <td></td>\n",
              "      <td>2021-06-07 13:43:08</td>\n",
              "      <td>25.213 sec</td>\n",
              "      <td>30.0</td>\n",
              "      <td>0.316810</td>\n",
              "      <td>0.333184</td>\n",
              "      <td>0.921243</td>\n",
              "      <td>0.966854</td>\n",
              "      <td>1.373655</td>\n",
              "      <td>0.131465</td>\n",
              "      <td>0.328221</td>\n",
              "      <td>0.351323</td>\n",
              "      <td>0.908071</td>\n",
              "      <td>0.961001</td>\n",
              "      <td>1.377936</td>\n",
              "      <td>0.145051</td>\n",
              "    </tr>\n",
              "    <tr>\n",
              "      <th>4</th>\n",
              "      <td></td>\n",
              "      <td>2021-06-07 13:43:16</td>\n",
              "      <td>33.083 sec</td>\n",
              "      <td>40.0</td>\n",
              "      <td>0.305940</td>\n",
              "      <td>0.311586</td>\n",
              "      <td>0.930059</td>\n",
              "      <td>0.970835</td>\n",
              "      <td>1.373655</td>\n",
              "      <td>0.124095</td>\n",
              "      <td>0.319697</td>\n",
              "      <td>0.333289</td>\n",
              "      <td>0.915432</td>\n",
              "      <td>0.964381</td>\n",
              "      <td>1.377936</td>\n",
              "      <td>0.139640</td>\n",
              "    </tr>\n",
              "    <tr>\n",
              "      <th>5</th>\n",
              "      <td></td>\n",
              "      <td>2021-06-07 13:43:24</td>\n",
              "      <td>41.111 sec</td>\n",
              "      <td>50.0</td>\n",
              "      <td>0.297837</td>\n",
              "      <td>0.295899</td>\n",
              "      <td>0.936353</td>\n",
              "      <td>0.973619</td>\n",
              "      <td>1.373655</td>\n",
              "      <td>0.118353</td>\n",
              "      <td>0.313856</td>\n",
              "      <td>0.321013</td>\n",
              "      <td>0.920244</td>\n",
              "      <td>0.966469</td>\n",
              "      <td>1.377936</td>\n",
              "      <td>0.135800</td>\n",
              "    </tr>\n",
              "  </tbody>\n",
              "</table>\n",
              "</div>"
            ],
            "text/plain": [
              "               timestamp  ... validation_lift  validation_classification_error\n",
              "0    2021-06-07 13:42:43  ...        1.000000                         0.274277\n",
              "1    2021-06-07 13:42:52  ...        1.377936                         0.167219\n",
              "2    2021-06-07 13:43:00  ...        1.377936                         0.154477\n",
              "3    2021-06-07 13:43:08  ...        1.377936                         0.145051\n",
              "4    2021-06-07 13:43:16  ...        1.377936                         0.139640\n",
              "5    2021-06-07 13:43:24  ...        1.377936                         0.135800\n",
              "\n",
              "[6 rows x 16 columns]"
            ]
          },
          "metadata": {
            "tags": []
          },
          "execution_count": 74
        }
      ]
    },
    {
      "cell_type": "code",
      "metadata": {
        "colab": {
          "base_uri": "https://localhost:8080/",
          "height": 612
        },
        "id": "Sp_s3LK7tT7n",
        "outputId": "8bb2c8ec-38fb-4b1d-cf81-8983f0e227db"
      },
      "source": [
        "gbm_all_cols.varimp_plot()"
      ],
      "execution_count": 75,
      "outputs": [
        {
          "output_type": "display_data",
          "data": {
            "image/png": "[encoded data removed]",
            "text/plain": [
              "<Figure size 1008x720 with 1 Axes>"
            ]
          },
          "metadata": {
            "tags": [],
            "needs_background": "light"
          }
        }
      ]
    },
    {
      "cell_type": "code",
      "metadata": {
        "id": "ut0kERPvtT-y"
      },
      "source": [
        "xgb_all_feat = H2OXGBoostEstimator(ntrees = 100,learn_rate = 0.1, max_leaves = 6, tree_method=\"hist\",  grow_policy=\"lossguide\")"
      ],
      "execution_count": 76,
      "outputs": []
    },
    {
      "cell_type": "code",
      "metadata": {
        "colab": {
          "base_uri": "https://localhost:8080/"
        },
        "id": "KLNivg38tUCf",
        "outputId": "dca934ff-7dff-485b-f43c-8418b624d01e"
      },
      "source": [
        "xgb_all_feat.train(x=headline_vecs.names+review_vecs.names, y='target', training_frame = h2o_train, validation_frame=h2o_valid)"
      ],
      "execution_count": 77,
      "outputs": [
        {
          "output_type": "stream",
          "text": [
            "xgboost Model Build progress: |███████████████████████████████████████████| 100%\n"
          ],
          "name": "stdout"
        }
      ]
    },
    {
      "cell_type": "code",
      "metadata": {
        "colab": {
          "base_uri": "https://localhost:8080/"
        },
        "id": "k5_jPu6Nv5vs",
        "outputId": "27733153-6d89-4241-c766-5c03f8cf8ea9"
      },
      "source": [
        "print(\" XGBoost AUC: \" + str(round(xgb_all_feat.auc(valid = True), 3)))"
      ],
      "execution_count": 78,
      "outputs": [
        {
          "output_type": "stream",
          "text": [
            " XGBoost AUC: 0.918\n"
          ],
          "name": "stdout"
        }
      ]
    },
    {
      "cell_type": "code",
      "metadata": {
        "colab": {
          "base_uri": "https://localhost:8080/",
          "height": 176
        },
        "id": "NAA7wfNBwHvR",
        "outputId": "50014e81-7113-452d-f925-4bcc4900b1ce"
      },
      "source": [
        "\n",
        "xgb_all_feat.confusion_matrix(valid=True)"
      ],
      "execution_count": 79,
      "outputs": [
        {
          "output_type": "stream",
          "text": [
            "\n",
            "Confusion Matrix (Act/Pred) for max f1 @ threshold = 0.480442221959432: \n"
          ],
          "name": "stdout"
        },
        {
          "output_type": "display_data",
          "data": {
            "text/html": [
              "<div>\n",
              "<style scoped>\n",
              "    .dataframe tbody tr th:only-of-type {\n",
              "        vertical-align: middle;\n",
              "    }\n",
              "\n",
              "    .dataframe tbody tr th {\n",
              "        vertical-align: top;\n",
              "    }\n",
              "\n",
              "    .dataframe thead th {\n",
              "        text-align: right;\n",
              "    }\n",
              "</style>\n",
              "<table border=\"1\" class=\"dataframe\">\n",
              "  <thead>\n",
              "    <tr style=\"text-align: right;\">\n",
              "      <th></th>\n",
              "      <th></th>\n",
              "      <th>0</th>\n",
              "      <th>1</th>\n",
              "      <th>Error</th>\n",
              "      <th>Rate</th>\n",
              "    </tr>\n",
              "  </thead>\n",
              "  <tbody>\n",
              "    <tr>\n",
              "      <th>0</th>\n",
              "      <td>0</td>\n",
              "      <td>2798.0</td>\n",
              "      <td>1916.0</td>\n",
              "      <td>0.4064</td>\n",
              "      <td>(1916.0/4714.0)</td>\n",
              "    </tr>\n",
              "    <tr>\n",
              "      <th>1</th>\n",
              "      <td>1</td>\n",
              "      <td>496.0</td>\n",
              "      <td>11977.0</td>\n",
              "      <td>0.0398</td>\n",
              "      <td>(496.0/12473.0)</td>\n",
              "    </tr>\n",
              "    <tr>\n",
              "      <th>2</th>\n",
              "      <td>Total</td>\n",
              "      <td>3294.0</td>\n",
              "      <td>13893.0</td>\n",
              "      <td>0.1403</td>\n",
              "      <td>(2412.0/17187.0)</td>\n",
              "    </tr>\n",
              "  </tbody>\n",
              "</table>\n",
              "</div>"
            ],
            "text/plain": [
              "               0        1   Error               Rate\n",
              "0      0  2798.0   1916.0  0.4064    (1916.0/4714.0)\n",
              "1      1   496.0  11977.0  0.0398    (496.0/12473.0)\n",
              "2  Total  3294.0  13893.0  0.1403   (2412.0/17187.0)"
            ]
          },
          "metadata": {
            "tags": []
          }
        },
        {
          "output_type": "execute_result",
          "data": {
            "text/plain": [
              ""
            ]
          },
          "metadata": {
            "tags": []
          },
          "execution_count": 79
        }
      ]
    },
    {
      "cell_type": "code",
      "metadata": {
        "id": "vc0W-_zdwZso"
      },
      "source": [
        "h2o_train, h2o_valid, h2o_test = h2o_df_ext.split_frame(ratios=[.7,.15])"
      ],
      "execution_count": 80,
      "outputs": []
    },
    {
      "cell_type": "code",
      "metadata": {
        "id": "xBP0Gn8GwdZ_"
      },
      "source": [
        "gbm_final = H2OGradientBoostingEstimator(ntrees=200,\n",
        "                                              max_depth = 6,  learn_rate=0.1\n",
        "                                             )"
      ],
      "execution_count": 81,
      "outputs": []
    },
    {
      "cell_type": "code",
      "metadata": {
        "colab": {
          "base_uri": "https://localhost:8080/"
        },
        "id": "aD-bQ5h2wm_N",
        "outputId": "d3f1145d-bc0d-49ac-a273-ef3d4e7eb2b3"
      },
      "source": [
        "gbm_final.train(x=headline_vecs.names+review_vecs.names, y='target', training_frame = h2o_train, validation_frame=h2o_valid)"
      ],
      "execution_count": 82,
      "outputs": [
        {
          "output_type": "stream",
          "text": [
            "gbm Model Build progress: |███████████████████████████████████████████████| 100%\n"
          ],
          "name": "stdout"
        }
      ]
    },
    {
      "cell_type": "code",
      "metadata": {
        "colab": {
          "base_uri": "https://localhost:8080/",
          "height": 176
        },
        "id": "QGN0R-drwdkI",
        "outputId": "01e47e18-d068-4da6-b546-b6e4db48dc54"
      },
      "source": [
        "gbm_final.confusion_matrix(valid=True)"
      ],
      "execution_count": 83,
      "outputs": [
        {
          "output_type": "stream",
          "text": [
            "\n",
            "Confusion Matrix (Act/Pred) for max f1 @ threshold = 0.5372764765985267: \n"
          ],
          "name": "stdout"
        },
        {
          "output_type": "display_data",
          "data": {
            "text/html": [
              "<div>\n",
              "<style scoped>\n",
              "    .dataframe tbody tr th:only-of-type {\n",
              "        vertical-align: middle;\n",
              "    }\n",
              "\n",
              "    .dataframe tbody tr th {\n",
              "        vertical-align: top;\n",
              "    }\n",
              "\n",
              "    .dataframe thead th {\n",
              "        text-align: right;\n",
              "    }\n",
              "</style>\n",
              "<table border=\"1\" class=\"dataframe\">\n",
              "  <thead>\n",
              "    <tr style=\"text-align: right;\">\n",
              "      <th></th>\n",
              "      <th></th>\n",
              "      <th>0</th>\n",
              "      <th>1</th>\n",
              "      <th>Error</th>\n",
              "      <th>Rate</th>\n",
              "    </tr>\n",
              "  </thead>\n",
              "  <tbody>\n",
              "    <tr>\n",
              "      <th>0</th>\n",
              "      <td>0</td>\n",
              "      <td>2617.0</td>\n",
              "      <td>902.0</td>\n",
              "      <td>0.2563</td>\n",
              "      <td>(902.0/3519.0)</td>\n",
              "    </tr>\n",
              "    <tr>\n",
              "      <th>1</th>\n",
              "      <td>1</td>\n",
              "      <td>525.0</td>\n",
              "      <td>8810.0</td>\n",
              "      <td>0.0562</td>\n",
              "      <td>(525.0/9335.0)</td>\n",
              "    </tr>\n",
              "    <tr>\n",
              "      <th>2</th>\n",
              "      <td>Total</td>\n",
              "      <td>3142.0</td>\n",
              "      <td>9712.0</td>\n",
              "      <td>0.111</td>\n",
              "      <td>(1427.0/12854.0)</td>\n",
              "    </tr>\n",
              "  </tbody>\n",
              "</table>\n",
              "</div>"
            ],
            "text/plain": [
              "               0       1   Error               Rate\n",
              "0      0  2617.0   902.0  0.2563     (902.0/3519.0)\n",
              "1      1   525.0  8810.0  0.0562     (525.0/9335.0)\n",
              "2  Total  3142.0  9712.0   0.111   (1427.0/12854.0)"
            ]
          },
          "metadata": {
            "tags": []
          }
        },
        {
          "output_type": "execute_result",
          "data": {
            "text/plain": [
              ""
            ]
          },
          "metadata": {
            "tags": []
          },
          "execution_count": 83
        }
      ]
    },
    {
      "cell_type": "code",
      "metadata": {
        "colab": {
          "base_uri": "https://localhost:8080/",
          "height": 1000
        },
        "id": "TbMV98vjwdoK",
        "outputId": "b3e799c2-9663-4561-cedc-a7c7b4ff5ef6"
      },
      "source": [
        "gbm_final.model_performance(h2o_test)"
      ],
      "execution_count": 84,
      "outputs": [
        {
          "output_type": "stream",
          "text": [
            "\n",
            "ModelMetricsBinomial: gbm\n",
            "** Reported on test data. **\n",
            "\n",
            "MSE: 0.08534222618638963\n",
            "RMSE: 0.29213391824023044\n",
            "LogLoss: 0.27755858442568454\n",
            "Mean Per-Class Error: 0.14061539024999348\n",
            "AUC: 0.9366290089890932\n",
            "AUCPR: 0.9733229457993225\n",
            "Gini: 0.8732580179781864\n",
            "\n",
            "Confusion Matrix (Act/Pred) for max f1 @ threshold = 0.42987065154686377: \n"
          ],
          "name": "stdout"
        },
        {
          "output_type": "display_data",
          "data": {
            "text/html": [
              "<div>\n",
              "<style scoped>\n",
              "    .dataframe tbody tr th:only-of-type {\n",
              "        vertical-align: middle;\n",
              "    }\n",
              "\n",
              "    .dataframe tbody tr th {\n",
              "        vertical-align: top;\n",
              "    }\n",
              "\n",
              "    .dataframe thead th {\n",
              "        text-align: right;\n",
              "    }\n",
              "</style>\n",
              "<table border=\"1\" class=\"dataframe\">\n",
              "  <thead>\n",
              "    <tr style=\"text-align: right;\">\n",
              "      <th></th>\n",
              "      <th></th>\n",
              "      <th>0</th>\n",
              "      <th>1</th>\n",
              "      <th>Error</th>\n",
              "      <th>Rate</th>\n",
              "    </tr>\n",
              "  </thead>\n",
              "  <tbody>\n",
              "    <tr>\n",
              "      <th>0</th>\n",
              "      <td>0</td>\n",
              "      <td>2383.0</td>\n",
              "      <td>1164.0</td>\n",
              "      <td>0.3282</td>\n",
              "      <td>(1164.0/3547.0)</td>\n",
              "    </tr>\n",
              "    <tr>\n",
              "      <th>1</th>\n",
              "      <td>1</td>\n",
              "      <td>389.0</td>\n",
              "      <td>9033.0</td>\n",
              "      <td>0.0413</td>\n",
              "      <td>(389.0/9422.0)</td>\n",
              "    </tr>\n",
              "    <tr>\n",
              "      <th>2</th>\n",
              "      <td>Total</td>\n",
              "      <td>2772.0</td>\n",
              "      <td>10197.0</td>\n",
              "      <td>0.1197</td>\n",
              "      <td>(1553.0/12969.0)</td>\n",
              "    </tr>\n",
              "  </tbody>\n",
              "</table>\n",
              "</div>"
            ],
            "text/plain": [
              "               0        1   Error               Rate\n",
              "0      0  2383.0   1164.0  0.3282    (1164.0/3547.0)\n",
              "1      1   389.0   9033.0  0.0413     (389.0/9422.0)\n",
              "2  Total  2772.0  10197.0  0.1197   (1553.0/12969.0)"
            ]
          },
          "metadata": {
            "tags": []
          }
        },
        {
          "output_type": "stream",
          "text": [
            "\n",
            "Maximum Metrics: Maximum metrics at their respective thresholds\n"
          ],
          "name": "stdout"
        },
        {
          "output_type": "display_data",
          "data": {
            "text/html": [
              "<div>\n",
              "<style scoped>\n",
              "    .dataframe tbody tr th:only-of-type {\n",
              "        vertical-align: middle;\n",
              "    }\n",
              "\n",
              "    .dataframe tbody tr th {\n",
              "        vertical-align: top;\n",
              "    }\n",
              "\n",
              "    .dataframe thead th {\n",
              "        text-align: right;\n",
              "    }\n",
              "</style>\n",
              "<table border=\"1\" class=\"dataframe\">\n",
              "  <thead>\n",
              "    <tr style=\"text-align: right;\">\n",
              "      <th></th>\n",
              "      <th>metric</th>\n",
              "      <th>threshold</th>\n",
              "      <th>value</th>\n",
              "      <th>idx</th>\n",
              "    </tr>\n",
              "  </thead>\n",
              "  <tbody>\n",
              "    <tr>\n",
              "      <th>0</th>\n",
              "      <td>max f1</td>\n",
              "      <td>0.429871</td>\n",
              "      <td>0.920842</td>\n",
              "      <td>246.0</td>\n",
              "    </tr>\n",
              "    <tr>\n",
              "      <th>1</th>\n",
              "      <td>max f2</td>\n",
              "      <td>0.171079</td>\n",
              "      <td>0.953676</td>\n",
              "      <td>327.0</td>\n",
              "    </tr>\n",
              "    <tr>\n",
              "      <th>2</th>\n",
              "      <td>max f0point5</td>\n",
              "      <td>0.773170</td>\n",
              "      <td>0.924341</td>\n",
              "      <td>140.0</td>\n",
              "    </tr>\n",
              "    <tr>\n",
              "      <th>3</th>\n",
              "      <td>max accuracy</td>\n",
              "      <td>0.567135</td>\n",
              "      <td>0.881255</td>\n",
              "      <td>207.0</td>\n",
              "    </tr>\n",
              "    <tr>\n",
              "      <th>4</th>\n",
              "      <td>max precision</td>\n",
              "      <td>0.998347</td>\n",
              "      <td>1.000000</td>\n",
              "      <td>0.0</td>\n",
              "    </tr>\n",
              "    <tr>\n",
              "      <th>5</th>\n",
              "      <td>max recall</td>\n",
              "      <td>0.003943</td>\n",
              "      <td>1.000000</td>\n",
              "      <td>398.0</td>\n",
              "    </tr>\n",
              "    <tr>\n",
              "      <th>6</th>\n",
              "      <td>max specificity</td>\n",
              "      <td>0.998347</td>\n",
              "      <td>1.000000</td>\n",
              "      <td>0.0</td>\n",
              "    </tr>\n",
              "    <tr>\n",
              "      <th>7</th>\n",
              "      <td>max absolute_mcc</td>\n",
              "      <td>0.567135</td>\n",
              "      <td>0.695293</td>\n",
              "      <td>207.0</td>\n",
              "    </tr>\n",
              "    <tr>\n",
              "      <th>8</th>\n",
              "      <td>max min_per_class_accuracy</td>\n",
              "      <td>0.763632</td>\n",
              "      <td>0.857344</td>\n",
              "      <td>144.0</td>\n",
              "    </tr>\n",
              "    <tr>\n",
              "      <th>9</th>\n",
              "      <td>max mean_per_class_accuracy</td>\n",
              "      <td>0.773170</td>\n",
              "      <td>0.859385</td>\n",
              "      <td>140.0</td>\n",
              "    </tr>\n",
              "    <tr>\n",
              "      <th>10</th>\n",
              "      <td>max tns</td>\n",
              "      <td>0.998347</td>\n",
              "      <td>3547.000000</td>\n",
              "      <td>0.0</td>\n",
              "    </tr>\n",
              "    <tr>\n",
              "      <th>11</th>\n",
              "      <td>max fns</td>\n",
              "      <td>0.998347</td>\n",
              "      <td>9207.000000</td>\n",
              "      <td>0.0</td>\n",
              "    </tr>\n",
              "    <tr>\n",
              "      <th>12</th>\n",
              "      <td>max fps</td>\n",
              "      <td>0.002102</td>\n",
              "      <td>3547.000000</td>\n",
              "      <td>399.0</td>\n",
              "    </tr>\n",
              "    <tr>\n",
              "      <th>13</th>\n",
              "      <td>max tps</td>\n",
              "      <td>0.003943</td>\n",
              "      <td>9422.000000</td>\n",
              "      <td>398.0</td>\n",
              "    </tr>\n",
              "    <tr>\n",
              "      <th>14</th>\n",
              "      <td>max tnr</td>\n",
              "      <td>0.998347</td>\n",
              "      <td>1.000000</td>\n",
              "      <td>0.0</td>\n",
              "    </tr>\n",
              "    <tr>\n",
              "      <th>15</th>\n",
              "      <td>max fnr</td>\n",
              "      <td>0.998347</td>\n",
              "      <td>0.977181</td>\n",
              "      <td>0.0</td>\n",
              "    </tr>\n",
              "    <tr>\n",
              "      <th>16</th>\n",
              "      <td>max fpr</td>\n",
              "      <td>0.002102</td>\n",
              "      <td>1.000000</td>\n",
              "      <td>399.0</td>\n",
              "    </tr>\n",
              "    <tr>\n",
              "      <th>17</th>\n",
              "      <td>max tpr</td>\n",
              "      <td>0.003943</td>\n",
              "      <td>1.000000</td>\n",
              "      <td>398.0</td>\n",
              "    </tr>\n",
              "  </tbody>\n",
              "</table>\n",
              "</div>"
            ],
            "text/plain": [
              "                         metric  threshold        value    idx\n",
              "0                        max f1   0.429871     0.920842  246.0\n",
              "1                        max f2   0.171079     0.953676  327.0\n",
              "2                  max f0point5   0.773170     0.924341  140.0\n",
              "3                  max accuracy   0.567135     0.881255  207.0\n",
              "4                 max precision   0.998347     1.000000    0.0\n",
              "5                    max recall   0.003943     1.000000  398.0\n",
              "6               max specificity   0.998347     1.000000    0.0\n",
              "7              max absolute_mcc   0.567135     0.695293  207.0\n",
              "8    max min_per_class_accuracy   0.763632     0.857344  144.0\n",
              "9   max mean_per_class_accuracy   0.773170     0.859385  140.0\n",
              "10                      max tns   0.998347  3547.000000    0.0\n",
              "11                      max fns   0.998347  9207.000000    0.0\n",
              "12                      max fps   0.002102  3547.000000  399.0\n",
              "13                      max tps   0.003943  9422.000000  398.0\n",
              "14                      max tnr   0.998347     1.000000    0.0\n",
              "15                      max fnr   0.998347     0.977181    0.0\n",
              "16                      max fpr   0.002102     1.000000  399.0\n",
              "17                      max tpr   0.003943     1.000000  398.0"
            ]
          },
          "metadata": {
            "tags": []
          }
        },
        {
          "output_type": "stream",
          "text": [
            "\n",
            "Gains/Lift Table: Avg response rate: 72.65 %, avg score: 73.37 %\n"
          ],
          "name": "stdout"
        },
        {
          "output_type": "display_data",
          "data": {
            "text/html": [
              "<div>\n",
              "<style scoped>\n",
              "    .dataframe tbody tr th:only-of-type {\n",
              "        vertical-align: middle;\n",
              "    }\n",
              "\n",
              "    .dataframe tbody tr th {\n",
              "        vertical-align: top;\n",
              "    }\n",
              "\n",
              "    .dataframe thead th {\n",
              "        text-align: right;\n",
              "    }\n",
              "</style>\n",
              "<table border=\"1\" class=\"dataframe\">\n",
              "  <thead>\n",
              "    <tr style=\"text-align: right;\">\n",
              "      <th></th>\n",
              "      <th></th>\n",
              "      <th>group</th>\n",
              "      <th>cumulative_data_fraction</th>\n",
              "      <th>lower_threshold</th>\n",
              "      <th>lift</th>\n",
              "      <th>cumulative_lift</th>\n",
              "      <th>response_rate</th>\n",
              "      <th>score</th>\n",
              "      <th>cumulative_response_rate</th>\n",
              "      <th>cumulative_score</th>\n",
              "      <th>capture_rate</th>\n",
              "      <th>cumulative_capture_rate</th>\n",
              "      <th>gain</th>\n",
              "      <th>cumulative_gain</th>\n",
              "    </tr>\n",
              "  </thead>\n",
              "  <tbody>\n",
              "    <tr>\n",
              "      <th>0</th>\n",
              "      <td></td>\n",
              "      <td>1</td>\n",
              "      <td>0.010024</td>\n",
              "      <td>0.998288</td>\n",
              "      <td>1.376459</td>\n",
              "      <td>1.376459</td>\n",
              "      <td>1.000000</td>\n",
              "      <td>0.998504</td>\n",
              "      <td>1.000000</td>\n",
              "      <td>0.998504</td>\n",
              "      <td>0.013797</td>\n",
              "      <td>0.013797</td>\n",
              "      <td>37.645935</td>\n",
              "      <td>37.645935</td>\n",
              "    </tr>\n",
              "    <tr>\n",
              "      <th>1</th>\n",
              "      <td></td>\n",
              "      <td>2</td>\n",
              "      <td>0.020973</td>\n",
              "      <td>0.997876</td>\n",
              "      <td>1.376459</td>\n",
              "      <td>1.376459</td>\n",
              "      <td>1.000000</td>\n",
              "      <td>0.998073</td>\n",
              "      <td>1.000000</td>\n",
              "      <td>0.998279</td>\n",
              "      <td>0.015071</td>\n",
              "      <td>0.028869</td>\n",
              "      <td>37.645935</td>\n",
              "      <td>37.645935</td>\n",
              "    </tr>\n",
              "    <tr>\n",
              "      <th>2</th>\n",
              "      <td></td>\n",
              "      <td>3</td>\n",
              "      <td>0.030072</td>\n",
              "      <td>0.997539</td>\n",
              "      <td>1.376459</td>\n",
              "      <td>1.376459</td>\n",
              "      <td>1.000000</td>\n",
              "      <td>0.997686</td>\n",
              "      <td>1.000000</td>\n",
              "      <td>0.998100</td>\n",
              "      <td>0.012524</td>\n",
              "      <td>0.041392</td>\n",
              "      <td>37.645935</td>\n",
              "      <td>37.645935</td>\n",
              "    </tr>\n",
              "    <tr>\n",
              "      <th>3</th>\n",
              "      <td></td>\n",
              "      <td>4</td>\n",
              "      <td>0.040019</td>\n",
              "      <td>0.997208</td>\n",
              "      <td>1.376459</td>\n",
              "      <td>1.376459</td>\n",
              "      <td>1.000000</td>\n",
              "      <td>0.997400</td>\n",
              "      <td>1.000000</td>\n",
              "      <td>0.997926</td>\n",
              "      <td>0.013691</td>\n",
              "      <td>0.055084</td>\n",
              "      <td>37.645935</td>\n",
              "      <td>37.645935</td>\n",
              "    </tr>\n",
              "    <tr>\n",
              "      <th>4</th>\n",
              "      <td></td>\n",
              "      <td>5</td>\n",
              "      <td>0.050042</td>\n",
              "      <td>0.996878</td>\n",
              "      <td>1.365871</td>\n",
              "      <td>1.374338</td>\n",
              "      <td>0.992308</td>\n",
              "      <td>0.997088</td>\n",
              "      <td>0.998459</td>\n",
              "      <td>0.997758</td>\n",
              "      <td>0.013691</td>\n",
              "      <td>0.068775</td>\n",
              "      <td>36.587120</td>\n",
              "      <td>37.433846</td>\n",
              "    </tr>\n",
              "    <tr>\n",
              "      <th>5</th>\n",
              "      <td></td>\n",
              "      <td>6</td>\n",
              "      <td>0.100008</td>\n",
              "      <td>0.994493</td>\n",
              "      <td>1.370087</td>\n",
              "      <td>1.372214</td>\n",
              "      <td>0.995370</td>\n",
              "      <td>0.995786</td>\n",
              "      <td>0.996916</td>\n",
              "      <td>0.996773</td>\n",
              "      <td>0.068457</td>\n",
              "      <td>0.137232</td>\n",
              "      <td>37.008685</td>\n",
              "      <td>37.221429</td>\n",
              "    </tr>\n",
              "    <tr>\n",
              "      <th>6</th>\n",
              "      <td></td>\n",
              "      <td>7</td>\n",
              "      <td>0.150050</td>\n",
              "      <td>0.991649</td>\n",
              "      <td>1.374338</td>\n",
              "      <td>1.372923</td>\n",
              "      <td>0.998459</td>\n",
              "      <td>0.993138</td>\n",
              "      <td>0.997431</td>\n",
              "      <td>0.995560</td>\n",
              "      <td>0.068775</td>\n",
              "      <td>0.206007</td>\n",
              "      <td>37.433846</td>\n",
              "      <td>37.292271</td>\n",
              "    </tr>\n",
              "    <tr>\n",
              "      <th>7</th>\n",
              "      <td></td>\n",
              "      <td>8</td>\n",
              "      <td>0.200015</td>\n",
              "      <td>0.987602</td>\n",
              "      <td>1.363714</td>\n",
              "      <td>1.370622</td>\n",
              "      <td>0.990741</td>\n",
              "      <td>0.989687</td>\n",
              "      <td>0.995759</td>\n",
              "      <td>0.994093</td>\n",
              "      <td>0.068138</td>\n",
              "      <td>0.274146</td>\n",
              "      <td>36.371436</td>\n",
              "      <td>37.062240</td>\n",
              "    </tr>\n",
              "    <tr>\n",
              "      <th>8</th>\n",
              "      <td></td>\n",
              "      <td>9</td>\n",
              "      <td>0.300023</td>\n",
              "      <td>0.976439</td>\n",
              "      <td>1.358418</td>\n",
              "      <td>1.366554</td>\n",
              "      <td>0.986893</td>\n",
              "      <td>0.982426</td>\n",
              "      <td>0.992804</td>\n",
              "      <td>0.990204</td>\n",
              "      <td>0.135852</td>\n",
              "      <td>0.409998</td>\n",
              "      <td>35.841786</td>\n",
              "      <td>36.655422</td>\n",
              "    </tr>\n",
              "    <tr>\n",
              "      <th>9</th>\n",
              "      <td></td>\n",
              "      <td>10</td>\n",
              "      <td>0.400031</td>\n",
              "      <td>0.956604</td>\n",
              "      <td>1.332948</td>\n",
              "      <td>1.358153</td>\n",
              "      <td>0.968389</td>\n",
              "      <td>0.967669</td>\n",
              "      <td>0.986700</td>\n",
              "      <td>0.984571</td>\n",
              "      <td>0.133305</td>\n",
              "      <td>0.543303</td>\n",
              "      <td>33.294753</td>\n",
              "      <td>35.815255</td>\n",
              "    </tr>\n",
              "    <tr>\n",
              "      <th>10</th>\n",
              "      <td></td>\n",
              "      <td>11</td>\n",
              "      <td>0.500039</td>\n",
              "      <td>0.919046</td>\n",
              "      <td>1.282007</td>\n",
              "      <td>1.342923</td>\n",
              "      <td>0.931380</td>\n",
              "      <td>0.939637</td>\n",
              "      <td>0.975636</td>\n",
              "      <td>0.975584</td>\n",
              "      <td>0.128211</td>\n",
              "      <td>0.671513</td>\n",
              "      <td>28.200686</td>\n",
              "      <td>34.292341</td>\n",
              "    </tr>\n",
              "    <tr>\n",
              "      <th>11</th>\n",
              "      <td></td>\n",
              "      <td>12</td>\n",
              "      <td>0.599969</td>\n",
              "      <td>0.844567</td>\n",
              "      <td>1.200154</td>\n",
              "      <td>1.319144</td>\n",
              "      <td>0.871914</td>\n",
              "      <td>0.886593</td>\n",
              "      <td>0.958360</td>\n",
              "      <td>0.960762</td>\n",
              "      <td>0.119932</td>\n",
              "      <td>0.791446</td>\n",
              "      <td>20.015360</td>\n",
              "      <td>31.914373</td>\n",
              "    </tr>\n",
              "    <tr>\n",
              "      <th>12</th>\n",
              "      <td></td>\n",
              "      <td>13</td>\n",
              "      <td>0.699977</td>\n",
              "      <td>0.689169</td>\n",
              "      <td>1.025181</td>\n",
              "      <td>1.277144</td>\n",
              "      <td>0.744796</td>\n",
              "      <td>0.777921</td>\n",
              "      <td>0.927848</td>\n",
              "      <td>0.934639</td>\n",
              "      <td>0.102526</td>\n",
              "      <td>0.893972</td>\n",
              "      <td>2.518098</td>\n",
              "      <td>27.714443</td>\n",
              "    </tr>\n",
              "    <tr>\n",
              "      <th>13</th>\n",
              "      <td></td>\n",
              "      <td>14</td>\n",
              "      <td>0.799985</td>\n",
              "      <td>0.384908</td>\n",
              "      <td>0.728027</td>\n",
              "      <td>1.208498</td>\n",
              "      <td>0.528913</td>\n",
              "      <td>0.545376</td>\n",
              "      <td>0.877976</td>\n",
              "      <td>0.885976</td>\n",
              "      <td>0.072808</td>\n",
              "      <td>0.966780</td>\n",
              "      <td>-27.197293</td>\n",
              "      <td>20.849814</td>\n",
              "    </tr>\n",
              "    <tr>\n",
              "      <th>14</th>\n",
              "      <td></td>\n",
              "      <td>15</td>\n",
              "      <td>0.899992</td>\n",
              "      <td>0.083329</td>\n",
              "      <td>0.284419</td>\n",
              "      <td>1.105814</td>\n",
              "      <td>0.206631</td>\n",
              "      <td>0.219438</td>\n",
              "      <td>0.803376</td>\n",
              "      <td>0.811910</td>\n",
              "      <td>0.028444</td>\n",
              "      <td>0.995224</td>\n",
              "      <td>-71.558126</td>\n",
              "      <td>10.581386</td>\n",
              "    </tr>\n",
              "    <tr>\n",
              "      <th>15</th>\n",
              "      <td></td>\n",
              "      <td>16</td>\n",
              "      <td>1.000000</td>\n",
              "      <td>0.000752</td>\n",
              "      <td>0.047757</td>\n",
              "      <td>1.000000</td>\n",
              "      <td>0.034695</td>\n",
              "      <td>0.029505</td>\n",
              "      <td>0.726502</td>\n",
              "      <td>0.733664</td>\n",
              "      <td>0.004776</td>\n",
              "      <td>1.000000</td>\n",
              "      <td>-95.224312</td>\n",
              "      <td>0.000000</td>\n",
              "    </tr>\n",
              "  </tbody>\n",
              "</table>\n",
              "</div>"
            ],
            "text/plain": [
              "      group  ...       gain  cumulative_gain\n",
              "0         1  ...  37.645935        37.645935\n",
              "1         2  ...  37.645935        37.645935\n",
              "2         3  ...  37.645935        37.645935\n",
              "3         4  ...  37.645935        37.645935\n",
              "4         5  ...  36.587120        37.433846\n",
              "5         6  ...  37.008685        37.221429\n",
              "6         7  ...  37.433846        37.292271\n",
              "7         8  ...  36.371436        37.062240\n",
              "8         9  ...  35.841786        36.655422\n",
              "9        10  ...  33.294753        35.815255\n",
              "10       11  ...  28.200686        34.292341\n",
              "11       12  ...  20.015360        31.914373\n",
              "12       13  ...   2.518098        27.714443\n",
              "13       14  ... -27.197293        20.849814\n",
              "14       15  ... -71.558126        10.581386\n",
              "15       16  ... -95.224312         0.000000\n",
              "\n",
              "[16 rows x 14 columns]"
            ]
          },
          "metadata": {
            "tags": []
          }
        },
        {
          "output_type": "stream",
          "text": [
            "\n"
          ],
          "name": "stdout"
        },
        {
          "output_type": "execute_result",
          "data": {
            "text/plain": [
              ""
            ]
          },
          "metadata": {
            "tags": []
          },
          "execution_count": 84
        }
      ]
    },
    {
      "cell_type": "code",
      "metadata": {
        "colab": {
          "base_uri": "https://localhost:8080/",
          "height": 612
        },
        "id": "5tsh6j3Ywdrf",
        "outputId": "1c5d47c4-5acf-4d8c-d82a-405bd06acaf1"
      },
      "source": [
        "gbm_final.varimp_plot()"
      ],
      "execution_count": 85,
      "outputs": [
        {
          "output_type": "display_data",
          "data": {
            "image/png": "[encoded data removed]",
            "text/plain": [
              "<Figure size 1008x720 with 1 Axes>"
            ]
          },
          "metadata": {
            "tags": [],
            "needs_background": "light"
          }
        }
      ]
    },
    {
      "cell_type": "code",
      "metadata": {
        "id": "qOSQEL_Cwdul"
      },
      "source": [
        ""
      ],
      "execution_count": null,
      "outputs": []
    },
    {
      "cell_type": "markdown",
      "metadata": {
        "id": "kdO2A8ivxFBJ"
      },
      "source": [
        "HYPERPARAMETERS"
      ]
    },
    {
      "cell_type": "code",
      "metadata": {
        "id": "WuywITS2xG30"
      },
      "source": [
        "ntrees_opt = [100, 200, 250, 300]\n",
        "max_depth_opt = [6, 7, 8]\n",
        "learn_rate_opt = [0.01, 0.1]"
      ],
      "execution_count": 86,
      "outputs": []
    },
    {
      "cell_type": "code",
      "metadata": {
        "id": "suQrC0X1wdx7"
      },
      "source": [
        "hyper_parameters = {\"ntrees\": ntrees_opt,\"max_depth\":max_depth_opt, \"learn_rate\":learn_rate_opt}\n",
        "search_criteria = {\"strategy\":\"RandomDiscrete\",\"max_models\":4}"
      ],
      "execution_count": 90,
      "outputs": []
    },
    {
      "cell_type": "code",
      "metadata": {
        "id": "GZgqzAPbwd1G"
      },
      "source": [
        "from h2o.grid.grid_search import H2OGridSearch\n",
        "gs = H2OGridSearch(H2OGradientBoostingEstimator,hyper_params=hyper_parameters, search_criteria=search_criteria)"
      ],
      "execution_count": 89,
      "outputs": []
    },
    {
      "cell_type": "code",
      "metadata": {
        "colab": {
          "base_uri": "https://localhost:8080/"
        },
        "id": "gmLO0Z2GxmIj",
        "outputId": "e2fdc9cf-cdee-4305-c82f-7ff275abcd8a"
      },
      "source": [
        "gs.train(x=headline_vecs.names+review_vecs.names, y='target', training_frame = h2o_train, validation_frame=h2o_valid)"
      ],
      "execution_count": 93,
      "outputs": [
        {
          "output_type": "stream",
          "text": [
            "gbm Grid Build progress: |████████████████████████████████████████████████| 100%\n"
          ],
          "name": "stdout"
        }
      ]
    },
    {
      "cell_type": "code",
      "metadata": {
        "colab": {
          "base_uri": "https://localhost:8080/"
        },
        "id": "Gdn3s8btxs5f",
        "outputId": "d8f15665-c1a9-43e6-d8fb-b9508eeff827"
      },
      "source": [
        "print(gs.get_grid(sort_by='auc', decreasing=True))"
      ],
      "execution_count": 94,
      "outputs": [
        {
          "output_type": "stream",
          "text": [
            "     ...                 auc\n",
            "0    ...  0.9417413130921543\n",
            "1    ...  0.9409767894023309\n",
            "2    ...  0.9402665429523075\n",
            "3    ...  0.9366479892687535\n",
            "4    ...  0.9357383660480796\n",
            "5    ...  0.9275591695734519\n",
            "6    ...  0.9166773592524657\n",
            "7    ...  0.9120473402249902\n",
            "\n",
            "[8 rows x 6 columns]\n",
            "\n"
          ],
          "name": "stdout"
        }
      ]
    },
    {
      "cell_type": "code",
      "metadata": {
        "colab": {
          "base_uri": "https://localhost:8080/",
          "height": 1000
        },
        "id": "lQNtFRbzxv-v",
        "outputId": "0869e3de-bd7c-4de1-8850-5cb97609927c"
      },
      "source": [
        "gs.models[0]"
      ],
      "execution_count": 95,
      "outputs": [
        {
          "output_type": "stream",
          "text": [
            "Model Details\n",
            "=============\n",
            "H2OGradientBoostingEstimator :  Gradient Boosting Machine\n",
            "Model Key:  Grid_GBM_py_388_sid_9f2d_model_python_1623067119185_145_model_6\n",
            "\n",
            "\n",
            "Model Summary: \n"
          ],
          "name": "stdout"
        },
        {
          "output_type": "display_data",
          "data": {
            "text/html": [
              "<div>\n",
              "<style scoped>\n",
              "    .dataframe tbody tr th:only-of-type {\n",
              "        vertical-align: middle;\n",
              "    }\n",
              "\n",
              "    .dataframe tbody tr th {\n",
              "        vertical-align: top;\n",
              "    }\n",
              "\n",
              "    .dataframe thead th {\n",
              "        text-align: right;\n",
              "    }\n",
              "</style>\n",
              "<table border=\"1\" class=\"dataframe\">\n",
              "  <thead>\n",
              "    <tr style=\"text-align: right;\">\n",
              "      <th></th>\n",
              "      <th></th>\n",
              "      <th>number_of_trees</th>\n",
              "      <th>number_of_internal_trees</th>\n",
              "      <th>model_size_in_bytes</th>\n",
              "      <th>min_depth</th>\n",
              "      <th>max_depth</th>\n",
              "      <th>mean_depth</th>\n",
              "      <th>min_leaves</th>\n",
              "      <th>max_leaves</th>\n",
              "      <th>mean_leaves</th>\n",
              "    </tr>\n",
              "  </thead>\n",
              "  <tbody>\n",
              "    <tr>\n",
              "      <th>0</th>\n",
              "      <td></td>\n",
              "      <td>300.0</td>\n",
              "      <td>300.0</td>\n",
              "      <td>234043.0</td>\n",
              "      <td>6.0</td>\n",
              "      <td>6.0</td>\n",
              "      <td>6.0</td>\n",
              "      <td>33.0</td>\n",
              "      <td>64.0</td>\n",
              "      <td>57.41</td>\n",
              "    </tr>\n",
              "  </tbody>\n",
              "</table>\n",
              "</div>"
            ],
            "text/plain": [
              "     number_of_trees  ...  max_leaves  mean_leaves\n",
              "0              300.0  ...        64.0        57.41\n",
              "\n",
              "[1 rows x 10 columns]"
            ]
          },
          "metadata": {
            "tags": []
          }
        },
        {
          "output_type": "stream",
          "text": [
            "\n",
            "\n",
            "ModelMetricsBinomial: gbm\n",
            "** Reported on train data. **\n",
            "\n",
            "MSE: 0.028955523746851355\n",
            "RMSE: 0.17016322677609094\n",
            "LogLoss: 0.11895406777755614\n",
            "Mean Per-Class Error: 0.0331472771838337\n",
            "AUC: 0.9947596882855964\n",
            "AUCPR: 0.9979006998083453\n",
            "Gini: 0.9895193765711927\n",
            "\n",
            "Confusion Matrix (Act/Pred) for max f1 @ threshold = 0.5680239065216407: \n"
          ],
          "name": "stdout"
        },
        {
          "output_type": "display_data",
          "data": {
            "text/html": [
              "<div>\n",
              "<style scoped>\n",
              "    .dataframe tbody tr th:only-of-type {\n",
              "        vertical-align: middle;\n",
              "    }\n",
              "\n",
              "    .dataframe tbody tr th {\n",
              "        vertical-align: top;\n",
              "    }\n",
              "\n",
              "    .dataframe thead th {\n",
              "        text-align: right;\n",
              "    }\n",
              "</style>\n",
              "<table border=\"1\" class=\"dataframe\">\n",
              "  <thead>\n",
              "    <tr style=\"text-align: right;\">\n",
              "      <th></th>\n",
              "      <th></th>\n",
              "      <th>0</th>\n",
              "      <th>1</th>\n",
              "      <th>Error</th>\n",
              "      <th>Rate</th>\n",
              "    </tr>\n",
              "  </thead>\n",
              "  <tbody>\n",
              "    <tr>\n",
              "      <th>0</th>\n",
              "      <td>0</td>\n",
              "      <td>15403.0</td>\n",
              "      <td>958.0</td>\n",
              "      <td>0.0586</td>\n",
              "      <td>(958.0/16361.0)</td>\n",
              "    </tr>\n",
              "    <tr>\n",
              "      <th>1</th>\n",
              "      <td>1</td>\n",
              "      <td>712.0</td>\n",
              "      <td>43085.0</td>\n",
              "      <td>0.0163</td>\n",
              "      <td>(712.0/43797.0)</td>\n",
              "    </tr>\n",
              "    <tr>\n",
              "      <th>2</th>\n",
              "      <td>Total</td>\n",
              "      <td>16115.0</td>\n",
              "      <td>44043.0</td>\n",
              "      <td>0.0278</td>\n",
              "      <td>(1670.0/60158.0)</td>\n",
              "    </tr>\n",
              "  </tbody>\n",
              "</table>\n",
              "</div>"
            ],
            "text/plain": [
              "                0        1   Error               Rate\n",
              "0      0  15403.0    958.0  0.0586    (958.0/16361.0)\n",
              "1      1    712.0  43085.0  0.0163    (712.0/43797.0)\n",
              "2  Total  16115.0  44043.0  0.0278   (1670.0/60158.0)"
            ]
          },
          "metadata": {
            "tags": []
          }
        },
        {
          "output_type": "stream",
          "text": [
            "\n",
            "Maximum Metrics: Maximum metrics at their respective thresholds\n"
          ],
          "name": "stdout"
        },
        {
          "output_type": "display_data",
          "data": {
            "text/html": [
              "<div>\n",
              "<style scoped>\n",
              "    .dataframe tbody tr th:only-of-type {\n",
              "        vertical-align: middle;\n",
              "    }\n",
              "\n",
              "    .dataframe tbody tr th {\n",
              "        vertical-align: top;\n",
              "    }\n",
              "\n",
              "    .dataframe thead th {\n",
              "        text-align: right;\n",
              "    }\n",
              "</style>\n",
              "<table border=\"1\" class=\"dataframe\">\n",
              "  <thead>\n",
              "    <tr style=\"text-align: right;\">\n",
              "      <th></th>\n",
              "      <th>metric</th>\n",
              "      <th>threshold</th>\n",
              "      <th>value</th>\n",
              "      <th>idx</th>\n",
              "    </tr>\n",
              "  </thead>\n",
              "  <tbody>\n",
              "    <tr>\n",
              "      <th>0</th>\n",
              "      <td>max f1</td>\n",
              "      <td>0.568024</td>\n",
              "      <td>0.980988</td>\n",
              "      <td>202.0</td>\n",
              "    </tr>\n",
              "    <tr>\n",
              "      <th>1</th>\n",
              "      <td>max f2</td>\n",
              "      <td>0.441436</td>\n",
              "      <td>0.986817</td>\n",
              "      <td>235.0</td>\n",
              "    </tr>\n",
              "    <tr>\n",
              "      <th>2</th>\n",
              "      <td>max f0point5</td>\n",
              "      <td>0.698675</td>\n",
              "      <td>0.983469</td>\n",
              "      <td>165.0</td>\n",
              "    </tr>\n",
              "    <tr>\n",
              "      <th>3</th>\n",
              "      <td>max accuracy</td>\n",
              "      <td>0.568024</td>\n",
              "      <td>0.972240</td>\n",
              "      <td>202.0</td>\n",
              "    </tr>\n",
              "    <tr>\n",
              "      <th>4</th>\n",
              "      <td>max precision</td>\n",
              "      <td>0.999103</td>\n",
              "      <td>1.000000</td>\n",
              "      <td>0.0</td>\n",
              "    </tr>\n",
              "    <tr>\n",
              "      <th>5</th>\n",
              "      <td>max recall</td>\n",
              "      <td>0.022976</td>\n",
              "      <td>1.000000</td>\n",
              "      <td>381.0</td>\n",
              "    </tr>\n",
              "    <tr>\n",
              "      <th>6</th>\n",
              "      <td>max specificity</td>\n",
              "      <td>0.999103</td>\n",
              "      <td>1.000000</td>\n",
              "      <td>0.0</td>\n",
              "    </tr>\n",
              "    <tr>\n",
              "      <th>7</th>\n",
              "      <td>max absolute_mcc</td>\n",
              "      <td>0.568024</td>\n",
              "      <td>0.929617</td>\n",
              "      <td>202.0</td>\n",
              "    </tr>\n",
              "    <tr>\n",
              "      <th>8</th>\n",
              "      <td>max min_per_class_accuracy</td>\n",
              "      <td>0.672060</td>\n",
              "      <td>0.966322</td>\n",
              "      <td>173.0</td>\n",
              "    </tr>\n",
              "    <tr>\n",
              "      <th>9</th>\n",
              "      <td>max mean_per_class_accuracy</td>\n",
              "      <td>0.656140</td>\n",
              "      <td>0.966853</td>\n",
              "      <td>177.0</td>\n",
              "    </tr>\n",
              "    <tr>\n",
              "      <th>10</th>\n",
              "      <td>max tns</td>\n",
              "      <td>0.999103</td>\n",
              "      <td>16361.000000</td>\n",
              "      <td>0.0</td>\n",
              "    </tr>\n",
              "    <tr>\n",
              "      <th>11</th>\n",
              "      <td>max fns</td>\n",
              "      <td>0.999103</td>\n",
              "      <td>42720.000000</td>\n",
              "      <td>0.0</td>\n",
              "    </tr>\n",
              "    <tr>\n",
              "      <th>12</th>\n",
              "      <td>max fps</td>\n",
              "      <td>0.001017</td>\n",
              "      <td>16361.000000</td>\n",
              "      <td>399.0</td>\n",
              "    </tr>\n",
              "    <tr>\n",
              "      <th>13</th>\n",
              "      <td>max tps</td>\n",
              "      <td>0.022976</td>\n",
              "      <td>43797.000000</td>\n",
              "      <td>381.0</td>\n",
              "    </tr>\n",
              "    <tr>\n",
              "      <th>14</th>\n",
              "      <td>max tnr</td>\n",
              "      <td>0.999103</td>\n",
              "      <td>1.000000</td>\n",
              "      <td>0.0</td>\n",
              "    </tr>\n",
              "    <tr>\n",
              "      <th>15</th>\n",
              "      <td>max fnr</td>\n",
              "      <td>0.999103</td>\n",
              "      <td>0.975409</td>\n",
              "      <td>0.0</td>\n",
              "    </tr>\n",
              "    <tr>\n",
              "      <th>16</th>\n",
              "      <td>max fpr</td>\n",
              "      <td>0.001017</td>\n",
              "      <td>1.000000</td>\n",
              "      <td>399.0</td>\n",
              "    </tr>\n",
              "    <tr>\n",
              "      <th>17</th>\n",
              "      <td>max tpr</td>\n",
              "      <td>0.022976</td>\n",
              "      <td>1.000000</td>\n",
              "      <td>381.0</td>\n",
              "    </tr>\n",
              "  </tbody>\n",
              "</table>\n",
              "</div>"
            ],
            "text/plain": [
              "                         metric  threshold         value    idx\n",
              "0                        max f1   0.568024      0.980988  202.0\n",
              "1                        max f2   0.441436      0.986817  235.0\n",
              "2                  max f0point5   0.698675      0.983469  165.0\n",
              "3                  max accuracy   0.568024      0.972240  202.0\n",
              "4                 max precision   0.999103      1.000000    0.0\n",
              "5                    max recall   0.022976      1.000000  381.0\n",
              "6               max specificity   0.999103      1.000000    0.0\n",
              "7              max absolute_mcc   0.568024      0.929617  202.0\n",
              "8    max min_per_class_accuracy   0.672060      0.966322  173.0\n",
              "9   max mean_per_class_accuracy   0.656140      0.966853  177.0\n",
              "10                      max tns   0.999103  16361.000000    0.0\n",
              "11                      max fns   0.999103  42720.000000    0.0\n",
              "12                      max fps   0.001017  16361.000000  399.0\n",
              "13                      max tps   0.022976  43797.000000  381.0\n",
              "14                      max tnr   0.999103      1.000000    0.0\n",
              "15                      max fnr   0.999103      0.975409    0.0\n",
              "16                      max fpr   0.001017      1.000000  399.0\n",
              "17                      max tpr   0.022976      1.000000  381.0"
            ]
          },
          "metadata": {
            "tags": []
          }
        },
        {
          "output_type": "stream",
          "text": [
            "\n",
            "Gains/Lift Table: Avg response rate: 72.80 %, avg score: 72.80 %\n"
          ],
          "name": "stdout"
        },
        {
          "output_type": "display_data",
          "data": {
            "text/html": [
              "<div>\n",
              "<style scoped>\n",
              "    .dataframe tbody tr th:only-of-type {\n",
              "        vertical-align: middle;\n",
              "    }\n",
              "\n",
              "    .dataframe tbody tr th {\n",
              "        vertical-align: top;\n",
              "    }\n",
              "\n",
              "    .dataframe thead th {\n",
              "        text-align: right;\n",
              "    }\n",
              "</style>\n",
              "<table border=\"1\" class=\"dataframe\">\n",
              "  <thead>\n",
              "    <tr style=\"text-align: right;\">\n",
              "      <th></th>\n",
              "      <th></th>\n",
              "      <th>group</th>\n",
              "      <th>cumulative_data_fraction</th>\n",
              "      <th>lower_threshold</th>\n",
              "      <th>lift</th>\n",
              "      <th>cumulative_lift</th>\n",
              "      <th>response_rate</th>\n",
              "      <th>score</th>\n",
              "      <th>cumulative_response_rate</th>\n",
              "      <th>cumulative_score</th>\n",
              "      <th>capture_rate</th>\n",
              "      <th>cumulative_capture_rate</th>\n",
              "      <th>gain</th>\n",
              "      <th>cumulative_gain</th>\n",
              "    </tr>\n",
              "  </thead>\n",
              "  <tbody>\n",
              "    <tr>\n",
              "      <th>0</th>\n",
              "      <td></td>\n",
              "      <td>1</td>\n",
              "      <td>0.010007</td>\n",
              "      <td>0.999102</td>\n",
              "      <td>1.373564</td>\n",
              "      <td>1.373564</td>\n",
              "      <td>1.000000</td>\n",
              "      <td>0.999229</td>\n",
              "      <td>1.000000</td>\n",
              "      <td>0.999229</td>\n",
              "      <td>0.013745</td>\n",
              "      <td>0.013745</td>\n",
              "      <td>37.356440</td>\n",
              "      <td>37.356440</td>\n",
              "    </tr>\n",
              "    <tr>\n",
              "      <th>1</th>\n",
              "      <td></td>\n",
              "      <td>2</td>\n",
              "      <td>0.020031</td>\n",
              "      <td>0.998827</td>\n",
              "      <td>1.373564</td>\n",
              "      <td>1.373564</td>\n",
              "      <td>1.000000</td>\n",
              "      <td>0.998972</td>\n",
              "      <td>1.000000</td>\n",
              "      <td>0.999101</td>\n",
              "      <td>0.013768</td>\n",
              "      <td>0.027513</td>\n",
              "      <td>37.356440</td>\n",
              "      <td>37.356440</td>\n",
              "    </tr>\n",
              "    <tr>\n",
              "      <th>2</th>\n",
              "      <td></td>\n",
              "      <td>3</td>\n",
              "      <td>0.030004</td>\n",
              "      <td>0.998611</td>\n",
              "      <td>1.373564</td>\n",
              "      <td>1.373564</td>\n",
              "      <td>1.000000</td>\n",
              "      <td>0.998715</td>\n",
              "      <td>1.000000</td>\n",
              "      <td>0.998972</td>\n",
              "      <td>0.013700</td>\n",
              "      <td>0.041213</td>\n",
              "      <td>37.356440</td>\n",
              "      <td>37.356440</td>\n",
              "    </tr>\n",
              "    <tr>\n",
              "      <th>3</th>\n",
              "      <td></td>\n",
              "      <td>4</td>\n",
              "      <td>0.040011</td>\n",
              "      <td>0.998402</td>\n",
              "      <td>1.373564</td>\n",
              "      <td>1.373564</td>\n",
              "      <td>1.000000</td>\n",
              "      <td>0.998515</td>\n",
              "      <td>1.000000</td>\n",
              "      <td>0.998858</td>\n",
              "      <td>0.013745</td>\n",
              "      <td>0.054958</td>\n",
              "      <td>37.356440</td>\n",
              "      <td>37.356440</td>\n",
              "    </tr>\n",
              "    <tr>\n",
              "      <th>4</th>\n",
              "      <td></td>\n",
              "      <td>5</td>\n",
              "      <td>0.050002</td>\n",
              "      <td>0.998230</td>\n",
              "      <td>1.373564</td>\n",
              "      <td>1.373564</td>\n",
              "      <td>1.000000</td>\n",
              "      <td>0.998320</td>\n",
              "      <td>1.000000</td>\n",
              "      <td>0.998751</td>\n",
              "      <td>0.013722</td>\n",
              "      <td>0.068681</td>\n",
              "      <td>37.356440</td>\n",
              "      <td>37.356440</td>\n",
              "    </tr>\n",
              "    <tr>\n",
              "      <th>5</th>\n",
              "      <td></td>\n",
              "      <td>6</td>\n",
              "      <td>0.100003</td>\n",
              "      <td>0.996807</td>\n",
              "      <td>1.373564</td>\n",
              "      <td>1.373564</td>\n",
              "      <td>1.000000</td>\n",
              "      <td>0.997582</td>\n",
              "      <td>1.000000</td>\n",
              "      <td>0.998166</td>\n",
              "      <td>0.068681</td>\n",
              "      <td>0.137361</td>\n",
              "      <td>37.356440</td>\n",
              "      <td>37.356440</td>\n",
              "    </tr>\n",
              "    <tr>\n",
              "      <th>6</th>\n",
              "      <td></td>\n",
              "      <td>7</td>\n",
              "      <td>0.150005</td>\n",
              "      <td>0.994805</td>\n",
              "      <td>1.373564</td>\n",
              "      <td>1.373564</td>\n",
              "      <td>1.000000</td>\n",
              "      <td>0.995833</td>\n",
              "      <td>1.000000</td>\n",
              "      <td>0.997388</td>\n",
              "      <td>0.068681</td>\n",
              "      <td>0.206042</td>\n",
              "      <td>37.356440</td>\n",
              "      <td>37.356440</td>\n",
              "    </tr>\n",
              "    <tr>\n",
              "      <th>7</th>\n",
              "      <td></td>\n",
              "      <td>8</td>\n",
              "      <td>0.200007</td>\n",
              "      <td>0.992013</td>\n",
              "      <td>1.373108</td>\n",
              "      <td>1.373450</td>\n",
              "      <td>0.999668</td>\n",
              "      <td>0.993479</td>\n",
              "      <td>0.999917</td>\n",
              "      <td>0.996411</td>\n",
              "      <td>0.068658</td>\n",
              "      <td>0.274699</td>\n",
              "      <td>37.310776</td>\n",
              "      <td>37.345024</td>\n",
              "    </tr>\n",
              "    <tr>\n",
              "      <th>8</th>\n",
              "      <td></td>\n",
              "      <td>9</td>\n",
              "      <td>0.300010</td>\n",
              "      <td>0.983502</td>\n",
              "      <td>1.372879</td>\n",
              "      <td>1.373260</td>\n",
              "      <td>0.999501</td>\n",
              "      <td>0.988114</td>\n",
              "      <td>0.999778</td>\n",
              "      <td>0.993645</td>\n",
              "      <td>0.137293</td>\n",
              "      <td>0.411992</td>\n",
              "      <td>37.287944</td>\n",
              "      <td>37.325997</td>\n",
              "    </tr>\n",
              "    <tr>\n",
              "      <th>9</th>\n",
              "      <td></td>\n",
              "      <td>10</td>\n",
              "      <td>0.399997</td>\n",
              "      <td>0.969368</td>\n",
              "      <td>1.371738</td>\n",
              "      <td>1.372879</td>\n",
              "      <td>0.998670</td>\n",
              "      <td>0.977047</td>\n",
              "      <td>0.999501</td>\n",
              "      <td>0.989496</td>\n",
              "      <td>0.137156</td>\n",
              "      <td>0.549147</td>\n",
              "      <td>37.173755</td>\n",
              "      <td>37.287942</td>\n",
              "    </tr>\n",
              "    <tr>\n",
              "      <th>10</th>\n",
              "      <td></td>\n",
              "      <td>11</td>\n",
              "      <td>0.500000</td>\n",
              "      <td>0.943461</td>\n",
              "      <td>1.369226</td>\n",
              "      <td>1.372149</td>\n",
              "      <td>0.996842</td>\n",
              "      <td>0.957879</td>\n",
              "      <td>0.998969</td>\n",
              "      <td>0.983173</td>\n",
              "      <td>0.136927</td>\n",
              "      <td>0.686074</td>\n",
              "      <td>36.922635</td>\n",
              "      <td>37.214878</td>\n",
              "    </tr>\n",
              "    <tr>\n",
              "      <th>11</th>\n",
              "      <td></td>\n",
              "      <td>12</td>\n",
              "      <td>0.600003</td>\n",
              "      <td>0.889162</td>\n",
              "      <td>1.364660</td>\n",
              "      <td>1.370901</td>\n",
              "      <td>0.993517</td>\n",
              "      <td>0.920231</td>\n",
              "      <td>0.998061</td>\n",
              "      <td>0.972682</td>\n",
              "      <td>0.136471</td>\n",
              "      <td>0.822545</td>\n",
              "      <td>36.465998</td>\n",
              "      <td>37.090061</td>\n",
              "    </tr>\n",
              "    <tr>\n",
              "      <th>12</th>\n",
              "      <td></td>\n",
              "      <td>13</td>\n",
              "      <td>0.699990</td>\n",
              "      <td>0.723563</td>\n",
              "      <td>1.301404</td>\n",
              "      <td>1.360974</td>\n",
              "      <td>0.947465</td>\n",
              "      <td>0.826429</td>\n",
              "      <td>0.990834</td>\n",
              "      <td>0.951791</td>\n",
              "      <td>0.130123</td>\n",
              "      <td>0.952668</td>\n",
              "      <td>30.140374</td>\n",
              "      <td>36.097366</td>\n",
              "    </tr>\n",
              "    <tr>\n",
              "      <th>13</th>\n",
              "      <td></td>\n",
              "      <td>14</td>\n",
              "      <td>0.799993</td>\n",
              "      <td>0.241088</td>\n",
              "      <td>0.460519</td>\n",
              "      <td>1.248412</td>\n",
              "      <td>0.335273</td>\n",
              "      <td>0.470163</td>\n",
              "      <td>0.908885</td>\n",
              "      <td>0.891585</td>\n",
              "      <td>0.046053</td>\n",
              "      <td>0.998721</td>\n",
              "      <td>-53.948148</td>\n",
              "      <td>24.841209</td>\n",
              "    </tr>\n",
              "    <tr>\n",
              "      <th>14</th>\n",
              "      <td></td>\n",
              "      <td>15</td>\n",
              "      <td>0.899997</td>\n",
              "      <td>0.049983</td>\n",
              "      <td>0.012558</td>\n",
              "      <td>1.111090</td>\n",
              "      <td>0.009142</td>\n",
              "      <td>0.129664</td>\n",
              "      <td>0.808910</td>\n",
              "      <td>0.806924</td>\n",
              "      <td>0.001256</td>\n",
              "      <td>0.999977</td>\n",
              "      <td>-98.744248</td>\n",
              "      <td>11.108985</td>\n",
              "    </tr>\n",
              "    <tr>\n",
              "      <th>15</th>\n",
              "      <td></td>\n",
              "      <td>16</td>\n",
              "      <td>1.000000</td>\n",
              "      <td>0.000139</td>\n",
              "      <td>0.000228</td>\n",
              "      <td>1.000000</td>\n",
              "      <td>0.000166</td>\n",
              "      <td>0.017820</td>\n",
              "      <td>0.728033</td>\n",
              "      <td>0.728011</td>\n",
              "      <td>0.000023</td>\n",
              "      <td>1.000000</td>\n",
              "      <td>-99.977168</td>\n",
              "      <td>0.000000</td>\n",
              "    </tr>\n",
              "  </tbody>\n",
              "</table>\n",
              "</div>"
            ],
            "text/plain": [
              "      group  ...       gain  cumulative_gain\n",
              "0         1  ...  37.356440        37.356440\n",
              "1         2  ...  37.356440        37.356440\n",
              "2         3  ...  37.356440        37.356440\n",
              "3         4  ...  37.356440        37.356440\n",
              "4         5  ...  37.356440        37.356440\n",
              "5         6  ...  37.356440        37.356440\n",
              "6         7  ...  37.356440        37.356440\n",
              "7         8  ...  37.310776        37.345024\n",
              "8         9  ...  37.287944        37.325997\n",
              "9        10  ...  37.173755        37.287942\n",
              "10       11  ...  36.922635        37.214878\n",
              "11       12  ...  36.465998        37.090061\n",
              "12       13  ...  30.140374        36.097366\n",
              "13       14  ... -53.948148        24.841209\n",
              "14       15  ... -98.744248        11.108985\n",
              "15       16  ... -99.977168         0.000000\n",
              "\n",
              "[16 rows x 14 columns]"
            ]
          },
          "metadata": {
            "tags": []
          }
        },
        {
          "output_type": "stream",
          "text": [
            "\n",
            "\n",
            "ModelMetricsBinomial: gbm\n",
            "** Reported on validation data. **\n",
            "\n",
            "MSE: 0.08138071472692243\n",
            "RMSE: 0.28527305292810684\n",
            "LogLoss: 0.2670590983991394\n",
            "Mean Per-Class Error: 0.1354547575766294\n",
            "AUC: 0.9409767894023309\n",
            "AUCPR: 0.9752695306405367\n",
            "Gini: 0.8819535788046617\n",
            "\n",
            "Confusion Matrix (Act/Pred) for max f1 @ threshold = 0.47734388387559007: \n"
          ],
          "name": "stdout"
        },
        {
          "output_type": "display_data",
          "data": {
            "text/html": [
              "<div>\n",
              "<style scoped>\n",
              "    .dataframe tbody tr th:only-of-type {\n",
              "        vertical-align: middle;\n",
              "    }\n",
              "\n",
              "    .dataframe tbody tr th {\n",
              "        vertical-align: top;\n",
              "    }\n",
              "\n",
              "    .dataframe thead th {\n",
              "        text-align: right;\n",
              "    }\n",
              "</style>\n",
              "<table border=\"1\" class=\"dataframe\">\n",
              "  <thead>\n",
              "    <tr style=\"text-align: right;\">\n",
              "      <th></th>\n",
              "      <th></th>\n",
              "      <th>0</th>\n",
              "      <th>1</th>\n",
              "      <th>Error</th>\n",
              "      <th>Rate</th>\n",
              "    </tr>\n",
              "  </thead>\n",
              "  <tbody>\n",
              "    <tr>\n",
              "      <th>0</th>\n",
              "      <td>0</td>\n",
              "      <td>2511.0</td>\n",
              "      <td>1008.0</td>\n",
              "      <td>0.2864</td>\n",
              "      <td>(1008.0/3519.0)</td>\n",
              "    </tr>\n",
              "    <tr>\n",
              "      <th>1</th>\n",
              "      <td>1</td>\n",
              "      <td>408.0</td>\n",
              "      <td>8927.0</td>\n",
              "      <td>0.0437</td>\n",
              "      <td>(408.0/9335.0)</td>\n",
              "    </tr>\n",
              "    <tr>\n",
              "      <th>2</th>\n",
              "      <td>Total</td>\n",
              "      <td>2919.0</td>\n",
              "      <td>9935.0</td>\n",
              "      <td>0.1102</td>\n",
              "      <td>(1416.0/12854.0)</td>\n",
              "    </tr>\n",
              "  </tbody>\n",
              "</table>\n",
              "</div>"
            ],
            "text/plain": [
              "               0       1   Error               Rate\n",
              "0      0  2511.0  1008.0  0.2864    (1008.0/3519.0)\n",
              "1      1   408.0  8927.0  0.0437     (408.0/9335.0)\n",
              "2  Total  2919.0  9935.0  0.1102   (1416.0/12854.0)"
            ]
          },
          "metadata": {
            "tags": []
          }
        },
        {
          "output_type": "stream",
          "text": [
            "\n",
            "Maximum Metrics: Maximum metrics at their respective thresholds\n"
          ],
          "name": "stdout"
        },
        {
          "output_type": "display_data",
          "data": {
            "text/html": [
              "<div>\n",
              "<style scoped>\n",
              "    .dataframe tbody tr th:only-of-type {\n",
              "        vertical-align: middle;\n",
              "    }\n",
              "\n",
              "    .dataframe tbody tr th {\n",
              "        vertical-align: top;\n",
              "    }\n",
              "\n",
              "    .dataframe thead th {\n",
              "        text-align: right;\n",
              "    }\n",
              "</style>\n",
              "<table border=\"1\" class=\"dataframe\">\n",
              "  <thead>\n",
              "    <tr style=\"text-align: right;\">\n",
              "      <th></th>\n",
              "      <th>metric</th>\n",
              "      <th>threshold</th>\n",
              "      <th>value</th>\n",
              "      <th>idx</th>\n",
              "    </tr>\n",
              "  </thead>\n",
              "  <tbody>\n",
              "    <tr>\n",
              "      <th>0</th>\n",
              "      <td>max f1</td>\n",
              "      <td>0.477344</td>\n",
              "      <td>0.926518</td>\n",
              "      <td>241.0</td>\n",
              "    </tr>\n",
              "    <tr>\n",
              "      <th>1</th>\n",
              "      <td>max f2</td>\n",
              "      <td>0.229370</td>\n",
              "      <td>0.954519</td>\n",
              "      <td>311.0</td>\n",
              "    </tr>\n",
              "    <tr>\n",
              "      <th>2</th>\n",
              "      <td>max f0point5</td>\n",
              "      <td>0.806144</td>\n",
              "      <td>0.927445</td>\n",
              "      <td>127.0</td>\n",
              "    </tr>\n",
              "    <tr>\n",
              "      <th>3</th>\n",
              "      <td>max accuracy</td>\n",
              "      <td>0.528152</td>\n",
              "      <td>0.890773</td>\n",
              "      <td>225.0</td>\n",
              "    </tr>\n",
              "    <tr>\n",
              "      <th>4</th>\n",
              "      <td>max precision</td>\n",
              "      <td>0.999148</td>\n",
              "      <td>1.000000</td>\n",
              "      <td>0.0</td>\n",
              "    </tr>\n",
              "    <tr>\n",
              "      <th>5</th>\n",
              "      <td>max recall</td>\n",
              "      <td>0.011074</td>\n",
              "      <td>1.000000</td>\n",
              "      <td>391.0</td>\n",
              "    </tr>\n",
              "    <tr>\n",
              "      <th>6</th>\n",
              "      <td>max specificity</td>\n",
              "      <td>0.999148</td>\n",
              "      <td>1.000000</td>\n",
              "      <td>0.0</td>\n",
              "    </tr>\n",
              "    <tr>\n",
              "      <th>7</th>\n",
              "      <td>max absolute_mcc</td>\n",
              "      <td>0.576961</td>\n",
              "      <td>0.720096</td>\n",
              "      <td>209.0</td>\n",
              "    </tr>\n",
              "    <tr>\n",
              "      <th>8</th>\n",
              "      <td>max min_per_class_accuracy</td>\n",
              "      <td>0.765344</td>\n",
              "      <td>0.862346</td>\n",
              "      <td>143.0</td>\n",
              "    </tr>\n",
              "    <tr>\n",
              "      <th>9</th>\n",
              "      <td>max mean_per_class_accuracy</td>\n",
              "      <td>0.748547</td>\n",
              "      <td>0.864545</td>\n",
              "      <td>150.0</td>\n",
              "    </tr>\n",
              "    <tr>\n",
              "      <th>10</th>\n",
              "      <td>max tns</td>\n",
              "      <td>0.999148</td>\n",
              "      <td>3519.000000</td>\n",
              "      <td>0.0</td>\n",
              "    </tr>\n",
              "    <tr>\n",
              "      <th>11</th>\n",
              "      <td>max fns</td>\n",
              "      <td>0.999148</td>\n",
              "      <td>9107.000000</td>\n",
              "      <td>0.0</td>\n",
              "    </tr>\n",
              "    <tr>\n",
              "      <th>12</th>\n",
              "      <td>max fps</td>\n",
              "      <td>0.001049</td>\n",
              "      <td>3519.000000</td>\n",
              "      <td>399.0</td>\n",
              "    </tr>\n",
              "    <tr>\n",
              "      <th>13</th>\n",
              "      <td>max tps</td>\n",
              "      <td>0.011074</td>\n",
              "      <td>9335.000000</td>\n",
              "      <td>391.0</td>\n",
              "    </tr>\n",
              "    <tr>\n",
              "      <th>14</th>\n",
              "      <td>max tnr</td>\n",
              "      <td>0.999148</td>\n",
              "      <td>1.000000</td>\n",
              "      <td>0.0</td>\n",
              "    </tr>\n",
              "    <tr>\n",
              "      <th>15</th>\n",
              "      <td>max fnr</td>\n",
              "      <td>0.999148</td>\n",
              "      <td>0.975576</td>\n",
              "      <td>0.0</td>\n",
              "    </tr>\n",
              "    <tr>\n",
              "      <th>16</th>\n",
              "      <td>max fpr</td>\n",
              "      <td>0.001049</td>\n",
              "      <td>1.000000</td>\n",
              "      <td>399.0</td>\n",
              "    </tr>\n",
              "    <tr>\n",
              "      <th>17</th>\n",
              "      <td>max tpr</td>\n",
              "      <td>0.011074</td>\n",
              "      <td>1.000000</td>\n",
              "      <td>391.0</td>\n",
              "    </tr>\n",
              "  </tbody>\n",
              "</table>\n",
              "</div>"
            ],
            "text/plain": [
              "                         metric  threshold        value    idx\n",
              "0                        max f1   0.477344     0.926518  241.0\n",
              "1                        max f2   0.229370     0.954519  311.0\n",
              "2                  max f0point5   0.806144     0.927445  127.0\n",
              "3                  max accuracy   0.528152     0.890773  225.0\n",
              "4                 max precision   0.999148     1.000000    0.0\n",
              "5                    max recall   0.011074     1.000000  391.0\n",
              "6               max specificity   0.999148     1.000000    0.0\n",
              "7              max absolute_mcc   0.576961     0.720096  209.0\n",
              "8    max min_per_class_accuracy   0.765344     0.862346  143.0\n",
              "9   max mean_per_class_accuracy   0.748547     0.864545  150.0\n",
              "10                      max tns   0.999148  3519.000000    0.0\n",
              "11                      max fns   0.999148  9107.000000    0.0\n",
              "12                      max fps   0.001049  3519.000000  399.0\n",
              "13                      max tps   0.011074  9335.000000  391.0\n",
              "14                      max tnr   0.999148     1.000000    0.0\n",
              "15                      max fnr   0.999148     0.975576    0.0\n",
              "16                      max fpr   0.001049     1.000000  399.0\n",
              "17                      max tpr   0.011074     1.000000  391.0"
            ]
          },
          "metadata": {
            "tags": []
          }
        },
        {
          "output_type": "stream",
          "text": [
            "\n",
            "Gains/Lift Table: Avg response rate: 72.62 %, avg score: 73.51 %\n"
          ],
          "name": "stdout"
        },
        {
          "output_type": "display_data",
          "data": {
            "text/html": [
              "<div>\n",
              "<style scoped>\n",
              "    .dataframe tbody tr th:only-of-type {\n",
              "        vertical-align: middle;\n",
              "    }\n",
              "\n",
              "    .dataframe tbody tr th {\n",
              "        vertical-align: top;\n",
              "    }\n",
              "\n",
              "    .dataframe thead th {\n",
              "        text-align: right;\n",
              "    }\n",
              "</style>\n",
              "<table border=\"1\" class=\"dataframe\">\n",
              "  <thead>\n",
              "    <tr style=\"text-align: right;\">\n",
              "      <th></th>\n",
              "      <th></th>\n",
              "      <th>group</th>\n",
              "      <th>cumulative_data_fraction</th>\n",
              "      <th>lower_threshold</th>\n",
              "      <th>lift</th>\n",
              "      <th>cumulative_lift</th>\n",
              "      <th>response_rate</th>\n",
              "      <th>score</th>\n",
              "      <th>cumulative_response_rate</th>\n",
              "      <th>cumulative_score</th>\n",
              "      <th>capture_rate</th>\n",
              "      <th>cumulative_capture_rate</th>\n",
              "      <th>gain</th>\n",
              "      <th>cumulative_gain</th>\n",
              "    </tr>\n",
              "  </thead>\n",
              "  <tbody>\n",
              "    <tr>\n",
              "      <th>0</th>\n",
              "      <td></td>\n",
              "      <td>1</td>\n",
              "      <td>0.010736</td>\n",
              "      <td>0.999104</td>\n",
              "      <td>1.376968</td>\n",
              "      <td>1.376968</td>\n",
              "      <td>1.000000</td>\n",
              "      <td>0.999249</td>\n",
              "      <td>1.000000</td>\n",
              "      <td>0.999249</td>\n",
              "      <td>0.014783</td>\n",
              "      <td>0.014783</td>\n",
              "      <td>37.696840</td>\n",
              "      <td>37.696840</td>\n",
              "    </tr>\n",
              "    <tr>\n",
              "      <th>1</th>\n",
              "      <td></td>\n",
              "      <td>2</td>\n",
              "      <td>0.020072</td>\n",
              "      <td>0.998840</td>\n",
              "      <td>1.376968</td>\n",
              "      <td>1.376968</td>\n",
              "      <td>1.000000</td>\n",
              "      <td>0.998986</td>\n",
              "      <td>1.000000</td>\n",
              "      <td>0.999126</td>\n",
              "      <td>0.012855</td>\n",
              "      <td>0.027638</td>\n",
              "      <td>37.696840</td>\n",
              "      <td>37.696840</td>\n",
              "    </tr>\n",
              "    <tr>\n",
              "      <th>2</th>\n",
              "      <td></td>\n",
              "      <td>3</td>\n",
              "      <td>0.030030</td>\n",
              "      <td>0.998612</td>\n",
              "      <td>1.376968</td>\n",
              "      <td>1.376968</td>\n",
              "      <td>1.000000</td>\n",
              "      <td>0.998726</td>\n",
              "      <td>1.000000</td>\n",
              "      <td>0.998994</td>\n",
              "      <td>0.013712</td>\n",
              "      <td>0.041350</td>\n",
              "      <td>37.696840</td>\n",
              "      <td>37.696840</td>\n",
              "    </tr>\n",
              "    <tr>\n",
              "      <th>3</th>\n",
              "      <td></td>\n",
              "      <td>4</td>\n",
              "      <td>0.040065</td>\n",
              "      <td>0.998402</td>\n",
              "      <td>1.376968</td>\n",
              "      <td>1.376968</td>\n",
              "      <td>1.000000</td>\n",
              "      <td>0.998518</td>\n",
              "      <td>1.000000</td>\n",
              "      <td>0.998874</td>\n",
              "      <td>0.013819</td>\n",
              "      <td>0.055169</td>\n",
              "      <td>37.696840</td>\n",
              "      <td>37.696840</td>\n",
              "    </tr>\n",
              "    <tr>\n",
              "      <th>4</th>\n",
              "      <td></td>\n",
              "      <td>5</td>\n",
              "      <td>0.050023</td>\n",
              "      <td>0.998210</td>\n",
              "      <td>1.376968</td>\n",
              "      <td>1.376968</td>\n",
              "      <td>1.000000</td>\n",
              "      <td>0.998310</td>\n",
              "      <td>1.000000</td>\n",
              "      <td>0.998762</td>\n",
              "      <td>0.013712</td>\n",
              "      <td>0.068881</td>\n",
              "      <td>37.696840</td>\n",
              "      <td>37.696840</td>\n",
              "    </tr>\n",
              "    <tr>\n",
              "      <th>5</th>\n",
              "      <td></td>\n",
              "      <td>6</td>\n",
              "      <td>0.100047</td>\n",
              "      <td>0.996764</td>\n",
              "      <td>1.374827</td>\n",
              "      <td>1.375898</td>\n",
              "      <td>0.998445</td>\n",
              "      <td>0.997535</td>\n",
              "      <td>0.999222</td>\n",
              "      <td>0.998148</td>\n",
              "      <td>0.068773</td>\n",
              "      <td>0.137654</td>\n",
              "      <td>37.482692</td>\n",
              "      <td>37.589766</td>\n",
              "    </tr>\n",
              "    <tr>\n",
              "      <th>6</th>\n",
              "      <td></td>\n",
              "      <td>7</td>\n",
              "      <td>0.149992</td>\n",
              "      <td>0.994342</td>\n",
              "      <td>1.372679</td>\n",
              "      <td>1.374826</td>\n",
              "      <td>0.996885</td>\n",
              "      <td>0.995633</td>\n",
              "      <td>0.998444</td>\n",
              "      <td>0.997311</td>\n",
              "      <td>0.068559</td>\n",
              "      <td>0.206213</td>\n",
              "      <td>37.267878</td>\n",
              "      <td>37.482581</td>\n",
              "    </tr>\n",
              "    <tr>\n",
              "      <th>7</th>\n",
              "      <td></td>\n",
              "      <td>8</td>\n",
              "      <td>0.200016</td>\n",
              "      <td>0.991353</td>\n",
              "      <td>1.370544</td>\n",
              "      <td>1.373755</td>\n",
              "      <td>0.995334</td>\n",
              "      <td>0.992897</td>\n",
              "      <td>0.997666</td>\n",
              "      <td>0.996207</td>\n",
              "      <td>0.068559</td>\n",
              "      <td>0.274772</td>\n",
              "      <td>37.054397</td>\n",
              "      <td>37.375494</td>\n",
              "    </tr>\n",
              "    <tr>\n",
              "      <th>8</th>\n",
              "      <td></td>\n",
              "      <td>9</td>\n",
              "      <td>0.299984</td>\n",
              "      <td>0.981433</td>\n",
              "      <td>1.359823</td>\n",
              "      <td>1.369112</td>\n",
              "      <td>0.987549</td>\n",
              "      <td>0.987082</td>\n",
              "      <td>0.994295</td>\n",
              "      <td>0.993166</td>\n",
              "      <td>0.135940</td>\n",
              "      <td>0.410712</td>\n",
              "      <td>35.982327</td>\n",
              "      <td>36.911225</td>\n",
              "    </tr>\n",
              "    <tr>\n",
              "      <th>9</th>\n",
              "      <td></td>\n",
              "      <td>10</td>\n",
              "      <td>0.400031</td>\n",
              "      <td>0.964869</td>\n",
              "      <td>1.320219</td>\n",
              "      <td>1.356884</td>\n",
              "      <td>0.958787</td>\n",
              "      <td>0.974064</td>\n",
              "      <td>0.985414</td>\n",
              "      <td>0.988388</td>\n",
              "      <td>0.132084</td>\n",
              "      <td>0.542796</td>\n",
              "      <td>32.021931</td>\n",
              "      <td>35.688426</td>\n",
              "    </tr>\n",
              "    <tr>\n",
              "      <th>10</th>\n",
              "      <td></td>\n",
              "      <td>11</td>\n",
              "      <td>0.500000</td>\n",
              "      <td>0.928917</td>\n",
              "      <td>1.295529</td>\n",
              "      <td>1.344617</td>\n",
              "      <td>0.940856</td>\n",
              "      <td>0.948909</td>\n",
              "      <td>0.976505</td>\n",
              "      <td>0.980495</td>\n",
              "      <td>0.129513</td>\n",
              "      <td>0.672309</td>\n",
              "      <td>29.552902</td>\n",
              "      <td>34.461703</td>\n",
              "    </tr>\n",
              "    <tr>\n",
              "      <th>11</th>\n",
              "      <td></td>\n",
              "      <td>12</td>\n",
              "      <td>0.599969</td>\n",
              "      <td>0.855510</td>\n",
              "      <td>1.211947</td>\n",
              "      <td>1.322511</td>\n",
              "      <td>0.880156</td>\n",
              "      <td>0.896996</td>\n",
              "      <td>0.960451</td>\n",
              "      <td>0.966582</td>\n",
              "      <td>0.121157</td>\n",
              "      <td>0.793465</td>\n",
              "      <td>21.194650</td>\n",
              "      <td>32.251101</td>\n",
              "    </tr>\n",
              "    <tr>\n",
              "      <th>12</th>\n",
              "      <td></td>\n",
              "      <td>13</td>\n",
              "      <td>0.700016</td>\n",
              "      <td>0.693898</td>\n",
              "      <td>1.053606</td>\n",
              "      <td>1.284079</td>\n",
              "      <td>0.765163</td>\n",
              "      <td>0.784880</td>\n",
              "      <td>0.932541</td>\n",
              "      <td>0.940613</td>\n",
              "      <td>0.105410</td>\n",
              "      <td>0.898875</td>\n",
              "      <td>5.360568</td>\n",
              "      <td>28.407889</td>\n",
              "    </tr>\n",
              "    <tr>\n",
              "      <th>13</th>\n",
              "      <td></td>\n",
              "      <td>14</td>\n",
              "      <td>0.799984</td>\n",
              "      <td>0.376089</td>\n",
              "      <td>0.713666</td>\n",
              "      <td>1.212798</td>\n",
              "      <td>0.518288</td>\n",
              "      <td>0.546932</td>\n",
              "      <td>0.880774</td>\n",
              "      <td>0.891417</td>\n",
              "      <td>0.071344</td>\n",
              "      <td>0.970220</td>\n",
              "      <td>-28.633389</td>\n",
              "      <td>21.279809</td>\n",
              "    </tr>\n",
              "    <tr>\n",
              "      <th>14</th>\n",
              "      <td></td>\n",
              "      <td>15</td>\n",
              "      <td>0.899953</td>\n",
              "      <td>0.065822</td>\n",
              "      <td>0.257177</td>\n",
              "      <td>1.106646</td>\n",
              "      <td>0.186770</td>\n",
              "      <td>0.197948</td>\n",
              "      <td>0.803683</td>\n",
              "      <td>0.814385</td>\n",
              "      <td>0.025710</td>\n",
              "      <td>0.995929</td>\n",
              "      <td>-74.282302</td>\n",
              "      <td>10.664550</td>\n",
              "    </tr>\n",
              "    <tr>\n",
              "      <th>15</th>\n",
              "      <td></td>\n",
              "      <td>16</td>\n",
              "      <td>1.000000</td>\n",
              "      <td>0.000261</td>\n",
              "      <td>0.040688</td>\n",
              "      <td>1.000000</td>\n",
              "      <td>0.029549</td>\n",
              "      <td>0.021409</td>\n",
              "      <td>0.726233</td>\n",
              "      <td>0.735051</td>\n",
              "      <td>0.004071</td>\n",
              "      <td>1.000000</td>\n",
              "      <td>-95.931198</td>\n",
              "      <td>0.000000</td>\n",
              "    </tr>\n",
              "  </tbody>\n",
              "</table>\n",
              "</div>"
            ],
            "text/plain": [
              "      group  ...       gain  cumulative_gain\n",
              "0         1  ...  37.696840        37.696840\n",
              "1         2  ...  37.696840        37.696840\n",
              "2         3  ...  37.696840        37.696840\n",
              "3         4  ...  37.696840        37.696840\n",
              "4         5  ...  37.696840        37.696840\n",
              "5         6  ...  37.482692        37.589766\n",
              "6         7  ...  37.267878        37.482581\n",
              "7         8  ...  37.054397        37.375494\n",
              "8         9  ...  35.982327        36.911225\n",
              "9        10  ...  32.021931        35.688426\n",
              "10       11  ...  29.552902        34.461703\n",
              "11       12  ...  21.194650        32.251101\n",
              "12       13  ...   5.360568        28.407889\n",
              "13       14  ... -28.633389        21.279809\n",
              "14       15  ... -74.282302        10.664550\n",
              "15       16  ... -95.931198         0.000000\n",
              "\n",
              "[16 rows x 14 columns]"
            ]
          },
          "metadata": {
            "tags": []
          }
        },
        {
          "output_type": "stream",
          "text": [
            "\n",
            "\n",
            "Scoring History: \n"
          ],
          "name": "stdout"
        },
        {
          "output_type": "display_data",
          "data": {
            "text/html": [
              "<div>\n",
              "<style scoped>\n",
              "    .dataframe tbody tr th:only-of-type {\n",
              "        vertical-align: middle;\n",
              "    }\n",
              "\n",
              "    .dataframe tbody tr th {\n",
              "        vertical-align: top;\n",
              "    }\n",
              "\n",
              "    .dataframe thead th {\n",
              "        text-align: right;\n",
              "    }\n",
              "</style>\n",
              "<table border=\"1\" class=\"dataframe\">\n",
              "  <thead>\n",
              "    <tr style=\"text-align: right;\">\n",
              "      <th></th>\n",
              "      <th></th>\n",
              "      <th>timestamp</th>\n",
              "      <th>duration</th>\n",
              "      <th>number_of_trees</th>\n",
              "      <th>training_rmse</th>\n",
              "      <th>training_logloss</th>\n",
              "      <th>training_auc</th>\n",
              "      <th>training_pr_auc</th>\n",
              "      <th>training_lift</th>\n",
              "      <th>training_classification_error</th>\n",
              "      <th>validation_rmse</th>\n",
              "      <th>validation_logloss</th>\n",
              "      <th>validation_auc</th>\n",
              "      <th>validation_pr_auc</th>\n",
              "      <th>validation_lift</th>\n",
              "      <th>validation_classification_error</th>\n",
              "    </tr>\n",
              "  </thead>\n",
              "  <tbody>\n",
              "    <tr>\n",
              "      <th>0</th>\n",
              "      <td></td>\n",
              "      <td>2021-06-07 15:52:09</td>\n",
              "      <td>1 min 23.262 sec</td>\n",
              "      <td>0.0</td>\n",
              "      <td>0.444973</td>\n",
              "      <td>0.585206</td>\n",
              "      <td>0.500000</td>\n",
              "      <td>0.728033</td>\n",
              "      <td>1.000000</td>\n",
              "      <td>0.271967</td>\n",
              "      <td>0.445894</td>\n",
              "      <td>0.586978</td>\n",
              "      <td>0.500000</td>\n",
              "      <td>0.726233</td>\n",
              "      <td>1.000000</td>\n",
              "      <td>0.273767</td>\n",
              "    </tr>\n",
              "    <tr>\n",
              "      <th>1</th>\n",
              "      <td></td>\n",
              "      <td>2021-06-07 15:52:10</td>\n",
              "      <td>1 min 24.402 sec</td>\n",
              "      <td>1.0</td>\n",
              "      <td>0.429235</td>\n",
              "      <td>0.551554</td>\n",
              "      <td>0.855228</td>\n",
              "      <td>0.936638</td>\n",
              "      <td>1.364126</td>\n",
              "      <td>0.181439</td>\n",
              "      <td>0.430261</td>\n",
              "      <td>0.553478</td>\n",
              "      <td>0.853097</td>\n",
              "      <td>0.935552</td>\n",
              "      <td>1.367630</td>\n",
              "      <td>0.191769</td>\n",
              "    </tr>\n",
              "    <tr>\n",
              "      <th>2</th>\n",
              "      <td></td>\n",
              "      <td>2021-06-07 15:52:11</td>\n",
              "      <td>1 min 25.261 sec</td>\n",
              "      <td>2.0</td>\n",
              "      <td>0.415741</td>\n",
              "      <td>0.524563</td>\n",
              "      <td>0.870380</td>\n",
              "      <td>0.943780</td>\n",
              "      <td>1.367649</td>\n",
              "      <td>0.172795</td>\n",
              "      <td>0.417034</td>\n",
              "      <td>0.526996</td>\n",
              "      <td>0.864572</td>\n",
              "      <td>0.941017</td>\n",
              "      <td>1.370685</td>\n",
              "      <td>0.177766</td>\n",
              "    </tr>\n",
              "    <tr>\n",
              "      <th>3</th>\n",
              "      <td></td>\n",
              "      <td>2021-06-07 15:52:12</td>\n",
              "      <td>1 min 26.147 sec</td>\n",
              "      <td>3.0</td>\n",
              "      <td>0.403786</td>\n",
              "      <td>0.501579</td>\n",
              "      <td>0.880902</td>\n",
              "      <td>0.948358</td>\n",
              "      <td>1.369312</td>\n",
              "      <td>0.164517</td>\n",
              "      <td>0.405495</td>\n",
              "      <td>0.504751</td>\n",
              "      <td>0.873903</td>\n",
              "      <td>0.944926</td>\n",
              "      <td>1.372144</td>\n",
              "      <td>0.172553</td>\n",
              "    </tr>\n",
              "    <tr>\n",
              "      <th>4</th>\n",
              "      <td></td>\n",
              "      <td>2021-06-07 15:52:13</td>\n",
              "      <td>1 min 27.069 sec</td>\n",
              "      <td>4.0</td>\n",
              "      <td>0.393539</td>\n",
              "      <td>0.482297</td>\n",
              "      <td>0.887137</td>\n",
              "      <td>0.951264</td>\n",
              "      <td>1.370240</td>\n",
              "      <td>0.159314</td>\n",
              "      <td>0.395900</td>\n",
              "      <td>0.486650</td>\n",
              "      <td>0.877524</td>\n",
              "      <td>0.946461</td>\n",
              "      <td>1.371311</td>\n",
              "      <td>0.170375</td>\n",
              "    </tr>\n",
              "    <tr>\n",
              "      <th>5</th>\n",
              "      <td></td>\n",
              "      <td>2021-06-07 15:52:17</td>\n",
              "      <td>1 min 31.185 sec</td>\n",
              "      <td>9.0</td>\n",
              "      <td>0.357550</td>\n",
              "      <td>0.415520</td>\n",
              "      <td>0.903527</td>\n",
              "      <td>0.958560</td>\n",
              "      <td>1.372005</td>\n",
              "      <td>0.145932</td>\n",
              "      <td>0.362210</td>\n",
              "      <td>0.423493</td>\n",
              "      <td>0.892097</td>\n",
              "      <td>0.953249</td>\n",
              "      <td>1.376968</td>\n",
              "      <td>0.155049</td>\n",
              "    </tr>\n",
              "    <tr>\n",
              "      <th>6</th>\n",
              "      <td></td>\n",
              "      <td>2021-06-07 15:52:21</td>\n",
              "      <td>1 min 35.327 sec</td>\n",
              "      <td>14.0</td>\n",
              "      <td>0.336910</td>\n",
              "      <td>0.376311</td>\n",
              "      <td>0.913852</td>\n",
              "      <td>0.963300</td>\n",
              "      <td>1.373564</td>\n",
              "      <td>0.138535</td>\n",
              "      <td>0.343710</td>\n",
              "      <td>0.387527</td>\n",
              "      <td>0.901024</td>\n",
              "      <td>0.957447</td>\n",
              "      <td>1.376968</td>\n",
              "      <td>0.150770</td>\n",
              "    </tr>\n",
              "    <tr>\n",
              "      <th>7</th>\n",
              "      <td></td>\n",
              "      <td>2021-06-07 15:52:25</td>\n",
              "      <td>1 min 39.455 sec</td>\n",
              "      <td>19.0</td>\n",
              "      <td>0.322906</td>\n",
              "      <td>0.348806</td>\n",
              "      <td>0.922895</td>\n",
              "      <td>0.967492</td>\n",
              "      <td>1.373564</td>\n",
              "      <td>0.131387</td>\n",
              "      <td>0.332163</td>\n",
              "      <td>0.363817</td>\n",
              "      <td>0.908038</td>\n",
              "      <td>0.960611</td>\n",
              "      <td>1.376968</td>\n",
              "      <td>0.142757</td>\n",
              "    </tr>\n",
              "    <tr>\n",
              "      <th>8</th>\n",
              "      <td></td>\n",
              "      <td>2021-06-07 15:52:29</td>\n",
              "      <td>1 min 43.580 sec</td>\n",
              "      <td>24.0</td>\n",
              "      <td>0.312248</td>\n",
              "      <td>0.327913</td>\n",
              "      <td>0.930167</td>\n",
              "      <td>0.970757</td>\n",
              "      <td>1.373564</td>\n",
              "      <td>0.123392</td>\n",
              "      <td>0.324418</td>\n",
              "      <td>0.347375</td>\n",
              "      <td>0.912968</td>\n",
              "      <td>0.962891</td>\n",
              "      <td>1.376968</td>\n",
              "      <td>0.140190</td>\n",
              "    </tr>\n",
              "    <tr>\n",
              "      <th>9</th>\n",
              "      <td></td>\n",
              "      <td>2021-06-07 15:52:33</td>\n",
              "      <td>1 min 47.783 sec</td>\n",
              "      <td>29.0</td>\n",
              "      <td>0.303777</td>\n",
              "      <td>0.311561</td>\n",
              "      <td>0.936010</td>\n",
              "      <td>0.973324</td>\n",
              "      <td>1.371305</td>\n",
              "      <td>0.117557</td>\n",
              "      <td>0.318392</td>\n",
              "      <td>0.334671</td>\n",
              "      <td>0.917371</td>\n",
              "      <td>0.964863</td>\n",
              "      <td>1.376968</td>\n",
              "      <td>0.135444</td>\n",
              "    </tr>\n",
              "    <tr>\n",
              "      <th>10</th>\n",
              "      <td></td>\n",
              "      <td>2021-06-07 15:52:37</td>\n",
              "      <td>1 min 51.880 sec</td>\n",
              "      <td>34.0</td>\n",
              "      <td>0.296788</td>\n",
              "      <td>0.298013</td>\n",
              "      <td>0.940968</td>\n",
              "      <td>0.975534</td>\n",
              "      <td>1.371438</td>\n",
              "      <td>0.112953</td>\n",
              "      <td>0.314017</td>\n",
              "      <td>0.325020</td>\n",
              "      <td>0.920522</td>\n",
              "      <td>0.966365</td>\n",
              "      <td>1.376968</td>\n",
              "      <td>0.131243</td>\n",
              "    </tr>\n",
              "    <tr>\n",
              "      <th>11</th>\n",
              "      <td></td>\n",
              "      <td>2021-06-07 15:52:42</td>\n",
              "      <td>1 min 56.003 sec</td>\n",
              "      <td>39.0</td>\n",
              "      <td>0.290580</td>\n",
              "      <td>0.286673</td>\n",
              "      <td>0.945020</td>\n",
              "      <td>0.977270</td>\n",
              "      <td>1.371411</td>\n",
              "      <td>0.109196</td>\n",
              "      <td>0.310451</td>\n",
              "      <td>0.317437</td>\n",
              "      <td>0.923190</td>\n",
              "      <td>0.967495</td>\n",
              "      <td>1.376968</td>\n",
              "      <td>0.130699</td>\n",
              "    </tr>\n",
              "    <tr>\n",
              "      <th>12</th>\n",
              "      <td></td>\n",
              "      <td>2021-06-07 15:52:46</td>\n",
              "      <td>2 min  0.170 sec</td>\n",
              "      <td>44.0</td>\n",
              "      <td>0.285185</td>\n",
              "      <td>0.276719</td>\n",
              "      <td>0.948634</td>\n",
              "      <td>0.978818</td>\n",
              "      <td>1.373564</td>\n",
              "      <td>0.105123</td>\n",
              "      <td>0.307477</td>\n",
              "      <td>0.310943</td>\n",
              "      <td>0.925502</td>\n",
              "      <td>0.968593</td>\n",
              "      <td>1.376968</td>\n",
              "      <td>0.129609</td>\n",
              "    </tr>\n",
              "    <tr>\n",
              "      <th>13</th>\n",
              "      <td></td>\n",
              "      <td>2021-06-07 15:52:50</td>\n",
              "      <td>2 min  4.308 sec</td>\n",
              "      <td>49.0</td>\n",
              "      <td>0.280363</td>\n",
              "      <td>0.268190</td>\n",
              "      <td>0.951785</td>\n",
              "      <td>0.980162</td>\n",
              "      <td>1.371283</td>\n",
              "      <td>0.100918</td>\n",
              "      <td>0.304928</td>\n",
              "      <td>0.305761</td>\n",
              "      <td>0.927293</td>\n",
              "      <td>0.969374</td>\n",
              "      <td>1.376968</td>\n",
              "      <td>0.124786</td>\n",
              "    </tr>\n",
              "    <tr>\n",
              "      <th>14</th>\n",
              "      <td></td>\n",
              "      <td>2021-06-07 15:52:54</td>\n",
              "      <td>2 min  8.435 sec</td>\n",
              "      <td>54.0</td>\n",
              "      <td>0.275916</td>\n",
              "      <td>0.260436</td>\n",
              "      <td>0.954565</td>\n",
              "      <td>0.981296</td>\n",
              "      <td>1.373564</td>\n",
              "      <td>0.098142</td>\n",
              "      <td>0.302908</td>\n",
              "      <td>0.301518</td>\n",
              "      <td>0.928684</td>\n",
              "      <td>0.969982</td>\n",
              "      <td>1.376968</td>\n",
              "      <td>0.124164</td>\n",
              "    </tr>\n",
              "    <tr>\n",
              "      <th>15</th>\n",
              "      <td></td>\n",
              "      <td>2021-06-07 15:52:58</td>\n",
              "      <td>2 min 12.591 sec</td>\n",
              "      <td>59.0</td>\n",
              "      <td>0.271972</td>\n",
              "      <td>0.253696</td>\n",
              "      <td>0.957072</td>\n",
              "      <td>0.982379</td>\n",
              "      <td>1.373564</td>\n",
              "      <td>0.095449</td>\n",
              "      <td>0.301281</td>\n",
              "      <td>0.298087</td>\n",
              "      <td>0.929873</td>\n",
              "      <td>0.970501</td>\n",
              "      <td>1.376968</td>\n",
              "      <td>0.122141</td>\n",
              "    </tr>\n",
              "    <tr>\n",
              "      <th>16</th>\n",
              "      <td></td>\n",
              "      <td>2021-06-07 15:53:02</td>\n",
              "      <td>2 min 16.702 sec</td>\n",
              "      <td>64.0</td>\n",
              "      <td>0.268283</td>\n",
              "      <td>0.247409</td>\n",
              "      <td>0.959229</td>\n",
              "      <td>0.983325</td>\n",
              "      <td>1.373564</td>\n",
              "      <td>0.092107</td>\n",
              "      <td>0.299763</td>\n",
              "      <td>0.294821</td>\n",
              "      <td>0.931006</td>\n",
              "      <td>0.971014</td>\n",
              "      <td>1.376968</td>\n",
              "      <td>0.121674</td>\n",
              "    </tr>\n",
              "    <tr>\n",
              "      <th>17</th>\n",
              "      <td></td>\n",
              "      <td>2021-06-07 15:53:06</td>\n",
              "      <td>2 min 20.846 sec</td>\n",
              "      <td>69.0</td>\n",
              "      <td>0.264659</td>\n",
              "      <td>0.241426</td>\n",
              "      <td>0.961388</td>\n",
              "      <td>0.984245</td>\n",
              "      <td>1.373564</td>\n",
              "      <td>0.089880</td>\n",
              "      <td>0.298490</td>\n",
              "      <td>0.292261</td>\n",
              "      <td>0.931866</td>\n",
              "      <td>0.971405</td>\n",
              "      <td>1.376968</td>\n",
              "      <td>0.120585</td>\n",
              "    </tr>\n",
              "    <tr>\n",
              "      <th>18</th>\n",
              "      <td></td>\n",
              "      <td>2021-06-07 15:53:11</td>\n",
              "      <td>2 min 25.286 sec</td>\n",
              "      <td>74.0</td>\n",
              "      <td>0.261518</td>\n",
              "      <td>0.236225</td>\n",
              "      <td>0.963133</td>\n",
              "      <td>0.984972</td>\n",
              "      <td>1.373564</td>\n",
              "      <td>0.087021</td>\n",
              "      <td>0.297334</td>\n",
              "      <td>0.289913</td>\n",
              "      <td>0.932628</td>\n",
              "      <td>0.971758</td>\n",
              "      <td>1.376968</td>\n",
              "      <td>0.117473</td>\n",
              "    </tr>\n",
              "    <tr>\n",
              "      <th>19</th>\n",
              "      <td></td>\n",
              "      <td>2021-06-07 15:53:15</td>\n",
              "      <td>2 min 29.385 sec</td>\n",
              "      <td>79.0</td>\n",
              "      <td>0.258418</td>\n",
              "      <td>0.231220</td>\n",
              "      <td>0.964817</td>\n",
              "      <td>0.985673</td>\n",
              "      <td>1.373564</td>\n",
              "      <td>0.085043</td>\n",
              "      <td>0.296121</td>\n",
              "      <td>0.287467</td>\n",
              "      <td>0.933612</td>\n",
              "      <td>0.972209</td>\n",
              "      <td>1.376968</td>\n",
              "      <td>0.117551</td>\n",
              "    </tr>\n",
              "  </tbody>\n",
              "</table>\n",
              "</div>"
            ],
            "text/plain": [
              "                timestamp  ... validation_lift  validation_classification_error\n",
              "0     2021-06-07 15:52:09  ...        1.000000                         0.273767\n",
              "1     2021-06-07 15:52:10  ...        1.367630                         0.191769\n",
              "2     2021-06-07 15:52:11  ...        1.370685                         0.177766\n",
              "3     2021-06-07 15:52:12  ...        1.372144                         0.172553\n",
              "4     2021-06-07 15:52:13  ...        1.371311                         0.170375\n",
              "5     2021-06-07 15:52:17  ...        1.376968                         0.155049\n",
              "6     2021-06-07 15:52:21  ...        1.376968                         0.150770\n",
              "7     2021-06-07 15:52:25  ...        1.376968                         0.142757\n",
              "8     2021-06-07 15:52:29  ...        1.376968                         0.140190\n",
              "9     2021-06-07 15:52:33  ...        1.376968                         0.135444\n",
              "10    2021-06-07 15:52:37  ...        1.376968                         0.131243\n",
              "11    2021-06-07 15:52:42  ...        1.376968                         0.130699\n",
              "12    2021-06-07 15:52:46  ...        1.376968                         0.129609\n",
              "13    2021-06-07 15:52:50  ...        1.376968                         0.124786\n",
              "14    2021-06-07 15:52:54  ...        1.376968                         0.124164\n",
              "15    2021-06-07 15:52:58  ...        1.376968                         0.122141\n",
              "16    2021-06-07 15:53:02  ...        1.376968                         0.121674\n",
              "17    2021-06-07 15:53:06  ...        1.376968                         0.120585\n",
              "18    2021-06-07 15:53:11  ...        1.376968                         0.117473\n",
              "19    2021-06-07 15:53:15  ...        1.376968                         0.117551\n",
              "\n",
              "[20 rows x 16 columns]"
            ]
          },
          "metadata": {
            "tags": []
          }
        },
        {
          "output_type": "stream",
          "text": [
            "\n",
            "See the whole table with table.as_data_frame()\n",
            "\n",
            "Variable Importances: \n"
          ],
          "name": "stdout"
        },
        {
          "output_type": "display_data",
          "data": {
            "text/html": [
              "<div>\n",
              "<style scoped>\n",
              "    .dataframe tbody tr th:only-of-type {\n",
              "        vertical-align: middle;\n",
              "    }\n",
              "\n",
              "    .dataframe tbody tr th {\n",
              "        vertical-align: top;\n",
              "    }\n",
              "\n",
              "    .dataframe thead th {\n",
              "        text-align: right;\n",
              "    }\n",
              "</style>\n",
              "<table border=\"1\" class=\"dataframe\">\n",
              "  <thead>\n",
              "    <tr style=\"text-align: right;\">\n",
              "      <th></th>\n",
              "      <th>variable</th>\n",
              "      <th>relative_importance</th>\n",
              "      <th>scaled_importance</th>\n",
              "      <th>percentage</th>\n",
              "    </tr>\n",
              "  </thead>\n",
              "  <tbody>\n",
              "    <tr>\n",
              "      <th>0</th>\n",
              "      <td>headline_C23</td>\n",
              "      <td>7434.596191</td>\n",
              "      <td>1.000000</td>\n",
              "      <td>0.159119</td>\n",
              "    </tr>\n",
              "    <tr>\n",
              "      <th>1</th>\n",
              "      <td>C23</td>\n",
              "      <td>4023.391113</td>\n",
              "      <td>0.541171</td>\n",
              "      <td>0.086111</td>\n",
              "    </tr>\n",
              "    <tr>\n",
              "      <th>2</th>\n",
              "      <td>headline_C47</td>\n",
              "      <td>2545.779053</td>\n",
              "      <td>0.342423</td>\n",
              "      <td>0.054486</td>\n",
              "    </tr>\n",
              "    <tr>\n",
              "      <th>3</th>\n",
              "      <td>C71</td>\n",
              "      <td>1784.163940</td>\n",
              "      <td>0.239981</td>\n",
              "      <td>0.038186</td>\n",
              "    </tr>\n",
              "    <tr>\n",
              "      <th>4</th>\n",
              "      <td>headline_C84</td>\n",
              "      <td>1723.029785</td>\n",
              "      <td>0.231758</td>\n",
              "      <td>0.036877</td>\n",
              "    </tr>\n",
              "    <tr>\n",
              "      <th>5</th>\n",
              "      <td>headline_C100</td>\n",
              "      <td>1299.220703</td>\n",
              "      <td>0.174753</td>\n",
              "      <td>0.027807</td>\n",
              "    </tr>\n",
              "    <tr>\n",
              "      <th>6</th>\n",
              "      <td>C84</td>\n",
              "      <td>1249.293579</td>\n",
              "      <td>0.168038</td>\n",
              "      <td>0.026738</td>\n",
              "    </tr>\n",
              "    <tr>\n",
              "      <th>7</th>\n",
              "      <td>C47</td>\n",
              "      <td>1110.674683</td>\n",
              "      <td>0.149393</td>\n",
              "      <td>0.023771</td>\n",
              "    </tr>\n",
              "    <tr>\n",
              "      <th>8</th>\n",
              "      <td>headline_C88</td>\n",
              "      <td>995.713074</td>\n",
              "      <td>0.133930</td>\n",
              "      <td>0.021311</td>\n",
              "    </tr>\n",
              "    <tr>\n",
              "      <th>9</th>\n",
              "      <td>C30</td>\n",
              "      <td>910.201660</td>\n",
              "      <td>0.122428</td>\n",
              "      <td>0.019481</td>\n",
              "    </tr>\n",
              "    <tr>\n",
              "      <th>10</th>\n",
              "      <td>C27</td>\n",
              "      <td>896.917114</td>\n",
              "      <td>0.120641</td>\n",
              "      <td>0.019196</td>\n",
              "    </tr>\n",
              "    <tr>\n",
              "      <th>11</th>\n",
              "      <td>C100</td>\n",
              "      <td>827.545288</td>\n",
              "      <td>0.111310</td>\n",
              "      <td>0.017712</td>\n",
              "    </tr>\n",
              "    <tr>\n",
              "      <th>12</th>\n",
              "      <td>C87</td>\n",
              "      <td>764.095337</td>\n",
              "      <td>0.102776</td>\n",
              "      <td>0.016354</td>\n",
              "    </tr>\n",
              "    <tr>\n",
              "      <th>13</th>\n",
              "      <td>headline_C46</td>\n",
              "      <td>606.035950</td>\n",
              "      <td>0.081516</td>\n",
              "      <td>0.012971</td>\n",
              "    </tr>\n",
              "    <tr>\n",
              "      <th>14</th>\n",
              "      <td>C11</td>\n",
              "      <td>484.701965</td>\n",
              "      <td>0.065195</td>\n",
              "      <td>0.010374</td>\n",
              "    </tr>\n",
              "    <tr>\n",
              "      <th>15</th>\n",
              "      <td>headline_C61</td>\n",
              "      <td>474.099152</td>\n",
              "      <td>0.063769</td>\n",
              "      <td>0.010147</td>\n",
              "    </tr>\n",
              "    <tr>\n",
              "      <th>16</th>\n",
              "      <td>headline_C71</td>\n",
              "      <td>471.939575</td>\n",
              "      <td>0.063479</td>\n",
              "      <td>0.010101</td>\n",
              "    </tr>\n",
              "    <tr>\n",
              "      <th>17</th>\n",
              "      <td>C60</td>\n",
              "      <td>453.114227</td>\n",
              "      <td>0.060947</td>\n",
              "      <td>0.009698</td>\n",
              "    </tr>\n",
              "    <tr>\n",
              "      <th>18</th>\n",
              "      <td>headline_C20</td>\n",
              "      <td>436.163147</td>\n",
              "      <td>0.058667</td>\n",
              "      <td>0.009335</td>\n",
              "    </tr>\n",
              "    <tr>\n",
              "      <th>19</th>\n",
              "      <td>headline_C27</td>\n",
              "      <td>427.058899</td>\n",
              "      <td>0.057442</td>\n",
              "      <td>0.009140</td>\n",
              "    </tr>\n",
              "  </tbody>\n",
              "</table>\n",
              "</div>"
            ],
            "text/plain": [
              "         variable  relative_importance  scaled_importance  percentage\n",
              "0    headline_C23          7434.596191           1.000000    0.159119\n",
              "1             C23          4023.391113           0.541171    0.086111\n",
              "2    headline_C47          2545.779053           0.342423    0.054486\n",
              "3             C71          1784.163940           0.239981    0.038186\n",
              "4    headline_C84          1723.029785           0.231758    0.036877\n",
              "5   headline_C100          1299.220703           0.174753    0.027807\n",
              "6             C84          1249.293579           0.168038    0.026738\n",
              "7             C47          1110.674683           0.149393    0.023771\n",
              "8    headline_C88           995.713074           0.133930    0.021311\n",
              "9             C30           910.201660           0.122428    0.019481\n",
              "10            C27           896.917114           0.120641    0.019196\n",
              "11           C100           827.545288           0.111310    0.017712\n",
              "12            C87           764.095337           0.102776    0.016354\n",
              "13   headline_C46           606.035950           0.081516    0.012971\n",
              "14            C11           484.701965           0.065195    0.010374\n",
              "15   headline_C61           474.099152           0.063769    0.010147\n",
              "16   headline_C71           471.939575           0.063479    0.010101\n",
              "17            C60           453.114227           0.060947    0.009698\n",
              "18   headline_C20           436.163147           0.058667    0.009335\n",
              "19   headline_C27           427.058899           0.057442    0.009140"
            ]
          },
          "metadata": {
            "tags": []
          }
        },
        {
          "output_type": "stream",
          "text": [
            "\n",
            "See the whole table with table.as_data_frame()\n"
          ],
          "name": "stdout"
        },
        {
          "output_type": "execute_result",
          "data": {
            "text/plain": [
              ""
            ]
          },
          "metadata": {
            "tags": []
          },
          "execution_count": 95
        }
      ]
    }
  ]
}